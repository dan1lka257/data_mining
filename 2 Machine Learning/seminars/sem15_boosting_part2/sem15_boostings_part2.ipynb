{
 "cells": [
  {
   "cell_type": "markdown",
   "metadata": {
    "id": "AXpnLZzI8Bq1"
   },
   "source": [
    "#Семинар 15: Различные реализации градиентного бустинга"
   ]
  },
  {
   "cell_type": "markdown",
   "metadata": {
    "id": "VzACXMgw-g8E"
   },
   "source": [
    "Раньше для использования градиентного бустинга необходимо было самостоятельно имплементировать алгоритм. Этим занимались и в крупных корпорациях, которые использовали машинное обучение в своих задачах (например, Microsoft и Яндекс). Некоторые из этих модифицированных имплементаций вышли в open osurce и чаще всего именно они используются на практике. В настоящее время наиболее популярные следующие реализации:\n",
    "* XGboost + подбор гиперпараметров\n",
    "* CatBoost + SHAP\n",
    "* LightGBM"
   ]
  },
  {
   "cell_type": "markdown",
   "metadata": {
    "id": "TmkYL_YT8Bq3"
   },
   "source": [
    "![\"История\"](https://github.com/hse-ds/iad-intro-ds/blob/master/2023/seminars/sem15_boosting_part2/bst.png?raw=1)"
   ]
  },
  {
   "cell_type": "markdown",
   "metadata": {
    "id": "OZzOjKsW8Bq3"
   },
   "source": [
    "## 1. XGboost + подбор гиперпараметров\n",
    "\n",
    "Код по xgboost основан на статье https://www.analyticsvidhya.com/blog/2016/03/complete-guide-parameter-tuning-xgboost-with-codes-python/"
   ]
  },
  {
   "cell_type": "markdown",
   "metadata": {
    "id": "DWtuw5hO8Bq3"
   },
   "source": [
    "Основные особенности xgboost:\n",
    "* базовый алгоритм приближает направление, посчитанное с учетом второй производной функции потерь\n",
    "\n",
    "* функционал регуляризуется – добавляются штрафы за количество листьев и за норму коэффициентов\n",
    "\n",
    "* при построении дерева используется критерий информативности, зависящий от оптимального вектора сдвига\n",
    "\n",
    "* критерий останова при обучении дерева также зависит от оптимального сдвига\n",
    "\n",
    "Почитать подробнее тут: https://github.com/esokolov/ml-course-hse/blob/master/2020-fall/lecture-notes/lecture10-ensembles.pdf"
   ]
  },
  {
   "cell_type": "code",
   "execution_count": 3,
   "metadata": {
    "id": "pTUIEvmz8Bq4"
   },
   "outputs": [
    {
     "name": "stdout",
     "output_type": "stream",
     "text": [
      "%pylab is deprecated, use %matplotlib inline and import the required libraries.\n",
      "Populating the interactive namespace from numpy and matplotlib\n"
     ]
    }
   ],
   "source": [
    "import os\n",
    "\n",
    "import numpy as np\n",
    "import pandas as pd\n",
    "from matplotlib import pylab as plot\n",
    "\n",
    "%pylab inline\n",
    "\n",
    "import xgboost as xgb\n",
    "from xgboost.sklearn import XGBClassifier"
   ]
  },
  {
   "cell_type": "markdown",
   "metadata": {
    "id": "qSp_ID198Bq5"
   },
   "source": [
    "Рассмотрим применение данной реализации на примере задачи классификации: по различным характеристикам клиента попытаемся определить, выплатит он долг или нет."
   ]
  },
  {
   "cell_type": "code",
   "execution_count": 4,
   "metadata": {
    "id": "AhYlLc8Y8Bq5"
   },
   "outputs": [
    {
     "data": {
      "text/plain": [
       "(24365, 10443)"
      ]
     },
     "execution_count": 4,
     "metadata": {},
     "output_type": "execute_result"
    }
   ],
   "source": [
    "X_train = pd.read_csv(\"train_small.csv\")\n",
    "X_test = pd.read_csv(\"test_small.csv\")\n",
    "len(X_train), len(X_test)"
   ]
  },
  {
   "cell_type": "code",
   "execution_count": 5,
   "metadata": {
    "id": "m9tGqTk38Bq5"
   },
   "outputs": [
    {
     "data": {
      "text/html": [
       "<div>\n",
       "<style scoped>\n",
       "    .dataframe tbody tr th:only-of-type {\n",
       "        vertical-align: middle;\n",
       "    }\n",
       "\n",
       "    .dataframe tbody tr th {\n",
       "        vertical-align: top;\n",
       "    }\n",
       "\n",
       "    .dataframe thead th {\n",
       "        text-align: right;\n",
       "    }\n",
       "</style>\n",
       "<table border=\"1\" class=\"dataframe\">\n",
       "  <thead>\n",
       "    <tr style=\"text-align: right;\">\n",
       "      <th></th>\n",
       "      <th>Existing_EMI</th>\n",
       "      <th>Loan_Amount_Applied</th>\n",
       "      <th>Loan_Tenure_Applied</th>\n",
       "      <th>Monthly_Income</th>\n",
       "      <th>Var4</th>\n",
       "      <th>Var5</th>\n",
       "      <th>Age</th>\n",
       "      <th>EMI_Loan_Submitted_Missing</th>\n",
       "      <th>Interest_Rate_Missing</th>\n",
       "      <th>Loan_Amount_Submitted_Missing</th>\n",
       "      <th>...</th>\n",
       "      <th>Var2_4</th>\n",
       "      <th>Var2_5</th>\n",
       "      <th>Var2_6</th>\n",
       "      <th>Mobile_Verified_0</th>\n",
       "      <th>Mobile_Verified_1</th>\n",
       "      <th>Source_0</th>\n",
       "      <th>Source_1</th>\n",
       "      <th>Source_2</th>\n",
       "      <th>Disbursed</th>\n",
       "      <th>ID</th>\n",
       "    </tr>\n",
       "  </thead>\n",
       "  <tbody>\n",
       "    <tr>\n",
       "      <th>0</th>\n",
       "      <td>0.0</td>\n",
       "      <td>250000.0</td>\n",
       "      <td>5.0</td>\n",
       "      <td>23200</td>\n",
       "      <td>2</td>\n",
       "      <td>3</td>\n",
       "      <td>28</td>\n",
       "      <td>1</td>\n",
       "      <td>1</td>\n",
       "      <td>0</td>\n",
       "      <td>...</td>\n",
       "      <td>0</td>\n",
       "      <td>0</td>\n",
       "      <td>0</td>\n",
       "      <td>0</td>\n",
       "      <td>1</td>\n",
       "      <td>0</td>\n",
       "      <td>1</td>\n",
       "      <td>0</td>\n",
       "      <td>0.0</td>\n",
       "      <td>8161</td>\n",
       "    </tr>\n",
       "    <tr>\n",
       "      <th>1</th>\n",
       "      <td>0.0</td>\n",
       "      <td>0.0</td>\n",
       "      <td>0.0</td>\n",
       "      <td>25000</td>\n",
       "      <td>0</td>\n",
       "      <td>0</td>\n",
       "      <td>33</td>\n",
       "      <td>1</td>\n",
       "      <td>1</td>\n",
       "      <td>1</td>\n",
       "      <td>...</td>\n",
       "      <td>0</td>\n",
       "      <td>0</td>\n",
       "      <td>1</td>\n",
       "      <td>0</td>\n",
       "      <td>1</td>\n",
       "      <td>1</td>\n",
       "      <td>0</td>\n",
       "      <td>0</td>\n",
       "      <td>0.0</td>\n",
       "      <td>77530</td>\n",
       "    </tr>\n",
       "    <tr>\n",
       "      <th>2</th>\n",
       "      <td>0.0</td>\n",
       "      <td>0.0</td>\n",
       "      <td>0.0</td>\n",
       "      <td>95000</td>\n",
       "      <td>3</td>\n",
       "      <td>7</td>\n",
       "      <td>39</td>\n",
       "      <td>1</td>\n",
       "      <td>1</td>\n",
       "      <td>0</td>\n",
       "      <td>...</td>\n",
       "      <td>0</td>\n",
       "      <td>0</td>\n",
       "      <td>1</td>\n",
       "      <td>0</td>\n",
       "      <td>1</td>\n",
       "      <td>1</td>\n",
       "      <td>0</td>\n",
       "      <td>0</td>\n",
       "      <td>0.0</td>\n",
       "      <td>80633</td>\n",
       "    </tr>\n",
       "    <tr>\n",
       "      <th>3</th>\n",
       "      <td>0.0</td>\n",
       "      <td>0.0</td>\n",
       "      <td>0.0</td>\n",
       "      <td>29880</td>\n",
       "      <td>5</td>\n",
       "      <td>3</td>\n",
       "      <td>28</td>\n",
       "      <td>0</td>\n",
       "      <td>0</td>\n",
       "      <td>0</td>\n",
       "      <td>...</td>\n",
       "      <td>0</td>\n",
       "      <td>0</td>\n",
       "      <td>0</td>\n",
       "      <td>0</td>\n",
       "      <td>1</td>\n",
       "      <td>0</td>\n",
       "      <td>1</td>\n",
       "      <td>0</td>\n",
       "      <td>0.0</td>\n",
       "      <td>45059</td>\n",
       "    </tr>\n",
       "    <tr>\n",
       "      <th>4</th>\n",
       "      <td>4500.0</td>\n",
       "      <td>100000.0</td>\n",
       "      <td>3.0</td>\n",
       "      <td>30000</td>\n",
       "      <td>5</td>\n",
       "      <td>10</td>\n",
       "      <td>26</td>\n",
       "      <td>0</td>\n",
       "      <td>0</td>\n",
       "      <td>0</td>\n",
       "      <td>...</td>\n",
       "      <td>0</td>\n",
       "      <td>0</td>\n",
       "      <td>1</td>\n",
       "      <td>0</td>\n",
       "      <td>1</td>\n",
       "      <td>1</td>\n",
       "      <td>0</td>\n",
       "      <td>0</td>\n",
       "      <td>0.0</td>\n",
       "      <td>54857</td>\n",
       "    </tr>\n",
       "  </tbody>\n",
       "</table>\n",
       "<p>5 rows × 51 columns</p>\n",
       "</div>"
      ],
      "text/plain": [
       "   Existing_EMI  Loan_Amount_Applied  Loan_Tenure_Applied  Monthly_Income  \\\n",
       "0           0.0             250000.0                  5.0           23200   \n",
       "1           0.0                  0.0                  0.0           25000   \n",
       "2           0.0                  0.0                  0.0           95000   \n",
       "3           0.0                  0.0                  0.0           29880   \n",
       "4        4500.0             100000.0                  3.0           30000   \n",
       "\n",
       "   Var4  Var5  Age  EMI_Loan_Submitted_Missing  Interest_Rate_Missing  \\\n",
       "0     2     3   28                           1                      1   \n",
       "1     0     0   33                           1                      1   \n",
       "2     3     7   39                           1                      1   \n",
       "3     5     3   28                           0                      0   \n",
       "4     5    10   26                           0                      0   \n",
       "\n",
       "   Loan_Amount_Submitted_Missing  ...  Var2_4  Var2_5  Var2_6  \\\n",
       "0                              0  ...       0       0       0   \n",
       "1                              1  ...       0       0       1   \n",
       "2                              0  ...       0       0       1   \n",
       "3                              0  ...       0       0       0   \n",
       "4                              0  ...       0       0       1   \n",
       "\n",
       "   Mobile_Verified_0  Mobile_Verified_1  Source_0  Source_1  Source_2  \\\n",
       "0                  0                  1         0         1         0   \n",
       "1                  0                  1         1         0         0   \n",
       "2                  0                  1         1         0         0   \n",
       "3                  0                  1         0         1         0   \n",
       "4                  0                  1         1         0         0   \n",
       "\n",
       "   Disbursed     ID  \n",
       "0        0.0   8161  \n",
       "1        0.0  77530  \n",
       "2        0.0  80633  \n",
       "3        0.0  45059  \n",
       "4        0.0  54857  \n",
       "\n",
       "[5 rows x 51 columns]"
      ]
     },
     "execution_count": 5,
     "metadata": {},
     "output_type": "execute_result"
    }
   ],
   "source": [
    "X_train.head()"
   ]
  },
  {
   "cell_type": "markdown",
   "metadata": {
    "id": "JRA2rW4L8Bq5"
   },
   "source": [
    "Вспомним, что для того, чтобы бустинг показал хорошее качество и не переобучился, необходимо аккуратно подобрать его гиперпараметры. \n",
    "\n",
    "Алгоритм подбора гиперпараметров может быть следующим:\n",
    "\n",
    "* Выбираем относительно большую learning_rate ($ \\eta \\in [0.05, 0.3]$), подбираем оптимальное число деревьев для выбранного $ \\eta $\n",
    "\n",
    "* Настраиваем параметры деревьев, начиная с самых значимых (max_depth, min_child_weight, gamma, subsample, colsample_bytree)\n",
    "\n",
    "* Настраиваем регуляризации ($ \\lambda, \\alpha $)\n",
    "\n",
    "* Уменьшаем learning_rate, пропорционально увеличиваем число деревьев"
   ]
  },
  {
   "cell_type": "code",
   "execution_count": 6,
   "metadata": {
    "id": "YFyIzsYD8Bq6"
   },
   "outputs": [],
   "source": [
    "model_xgb = XGBClassifier(\n",
    "    learning_rate=0.1,\n",
    "    n_estimators=150,\n",
    "    objective=\"binary:logistic\",\n",
    "    nthread=-1,\n",
    "    scale_pos_weight=1,\n",
    "    seed=27,\n",
    ")"
   ]
  },
  {
   "cell_type": "code",
   "execution_count": 7,
   "metadata": {
    "id": "5Xq59qB_8Bq6"
   },
   "outputs": [],
   "source": [
    "target = \"Disbursed\"\n",
    "IDcol = \"ID\""
   ]
  },
  {
   "cell_type": "code",
   "execution_count": 8,
   "metadata": {
    "id": "-WEZyBWi8Bq6"
   },
   "outputs": [
    {
     "data": {
      "text/plain": [
       "(Disbursed\n",
       " 0.0    23999\n",
       " 1.0      366\n",
       " Name: count, dtype: int64,\n",
       " 24365)"
      ]
     },
     "execution_count": 8,
     "metadata": {},
     "output_type": "execute_result"
    }
   ],
   "source": [
    "X_train[\"Disbursed\"].value_counts(), len(X_train)"
   ]
  },
  {
   "cell_type": "markdown",
   "metadata": {
    "id": "l8OO5Ac98Bq6"
   },
   "source": [
    "Создадим функцию для моделирования и кросс-валидации\n",
    "\n",
    "Эта функция делает следующее:\n",
    "1. обучает модель\n",
    "2. вычисляет accuracy на тренировочной выборке\n",
    "3. вычисляет AUC на тренировочной выборке\n",
    "4. вычисляет AUC на тестовой выборке\n",
    "5. обновляет n_estimators с помощью встроенной в пакет xgboost функции cv\n",
    "6. строит диаграмму Feature Importance "
   ]
  },
  {
   "cell_type": "code",
   "execution_count": 9,
   "metadata": {
    "id": "l-rmpjhk8Bq7"
   },
   "outputs": [],
   "source": [
    "from sklearn import metrics\n",
    "\n",
    "\n",
    "def modelfit(\n",
    "    alg,\n",
    "    dtrain,\n",
    "    dtest,\n",
    "    predictors,\n",
    "    useTrainCV=True,\n",
    "    cv_folds=5,\n",
    "    early_stopping_rounds=50,\n",
    "):\n",
    "    if useTrainCV:\n",
    "        xgb_param = alg.get_xgb_params()\n",
    "        xgtrain = xgb.DMatrix(dtrain[predictors].values, label=dtrain[target].values)\n",
    "        xgtest = xgb.DMatrix(dtest[predictors].values)\n",
    "        cvresult = xgb.cv(\n",
    "            xgb_param,\n",
    "            xgtrain,\n",
    "            num_boost_round=alg.get_params()[\"n_estimators\"],\n",
    "            nfold=cv_folds,\n",
    "            metrics=\"auc\",\n",
    "            early_stopping_rounds=early_stopping_rounds,\n",
    "        )\n",
    "        alg.set_params(n_estimators=cvresult.shape[0])\n",
    "\n",
    "    # Fit the algorithm on the data\n",
    "    alg.fit(dtrain[predictors], dtrain[\"Disbursed\"], eval_metric=\"auc\")\n",
    "\n",
    "    # Predict training set:\n",
    "    dtrain_predictions = alg.predict(dtrain[predictors])\n",
    "    dtrain_predprob = alg.predict_proba(dtrain[predictors])[:, 1]\n",
    "\n",
    "    # Print model report:\n",
    "    print(\"\\nModel Report\")\n",
    "    print(\n",
    "        \"Accuracy : %.4g\"\n",
    "        % metrics.accuracy_score(dtrain[\"Disbursed\"].values, dtrain_predictions)\n",
    "    )\n",
    "    print(\n",
    "        \"AUC Score (Train): %f\"\n",
    "        % metrics.roc_auc_score(dtrain[\"Disbursed\"], dtrain_predprob)\n",
    "    )\n",
    "\n",
    "    # Predict on testing data:\n",
    "    dtest[\"predprob\"] = alg.predict_proba(dtest[predictors])[:, 1]\n",
    "    print(\n",
    "        \"AUC Score (Test): %f\"\n",
    "        % metrics.roc_auc_score(dtest[\"Disbursed\"], dtest[\"predprob\"])\n",
    "    )\n",
    "\n",
    "    feat_imp = pd.Series(alg.get_booster().get_fscore()).sort_values(ascending=False)\n",
    "    feat_imp.plot(kind=\"bar\", title=\"Feature Importances\")\n",
    "    plt.ylabel(\"Feature Importance Score\")"
   ]
  },
  {
   "cell_type": "markdown",
   "metadata": {
    "id": "jW3tlNE68Bq7"
   },
   "source": [
    "Начинаем последовательный подбор параметров при большом learning_rate"
   ]
  },
  {
   "cell_type": "code",
   "execution_count": 10,
   "metadata": {
    "id": "_r23nSHN8Bq7"
   },
   "outputs": [
    {
     "name": "stderr",
     "output_type": "stream",
     "text": [
      "C:\\ProgramData\\anaconda3\\Lib\\site-packages\\xgboost\\sklearn.py:889: UserWarning: `eval_metric` in `fit` method is deprecated for better compatibility with scikit-learn, use `eval_metric` in constructor or`set_params` instead.\n",
      "  warnings.warn(\n"
     ]
    },
    {
     "name": "stdout",
     "output_type": "stream",
     "text": [
      "\n",
      "Model Report\n",
      "Accuracy : 0.985\n",
      "AUC Score (Train): 0.931461\n",
      "AUC Score (Test): 0.829855\n"
     ]
    },
    {
     "data": {
      "image/png": "[encoded data removed]",
      "text/plain": [
       "<Figure size 640x480 with 1 Axes>"
      ]
     },
     "metadata": {},
     "output_type": "display_data"
    }
   ],
   "source": [
    "predictors = [x for x in X_train.columns if x not in [target, IDcol]]\n",
    "\n",
    "modelfit(model_xgb, X_train, X_test, predictors)"
   ]
  },
  {
   "cell_type": "markdown",
   "metadata": {
    "id": "11N7Tndr8Bq8"
   },
   "source": [
    "Перебираем max_depth и min_child_weight по сетке."
   ]
  },
  {
   "cell_type": "code",
   "execution_count": 11,
   "metadata": {
    "id": "AKAcQNao8Bq8"
   },
   "outputs": [
    {
     "data": {
      "text/plain": [
       "({'max_depth': 4, 'min_child_weight': 5}, 0.8274289090608191)"
      ]
     },
     "execution_count": 11,
     "metadata": {},
     "output_type": "execute_result"
    }
   ],
   "source": [
    "from sklearn.model_selection import GridSearchCV\n",
    "\n",
    "param_test1 = {\"max_depth\": range(2, 7, 2), \"min_child_weight\": range(1, 6, 2)}\n",
    "\n",
    "gsearch1 = GridSearchCV(\n",
    "    estimator=model_xgb, param_grid=param_test1, scoring=\"roc_auc\", n_jobs=-1, cv=5\n",
    ")\n",
    "\n",
    "gsearch1.fit(X_train[predictors], X_train[target])\n",
    "\n",
    "gsearch1.best_params_, gsearch1.best_score_"
   ]
  },
  {
   "cell_type": "markdown",
   "metadata": {
    "id": "Ss_jdg218Bq8"
   },
   "source": [
    "Уточняем предсказание"
   ]
  },
  {
   "cell_type": "code",
   "execution_count": 12,
   "metadata": {
    "id": "ikC0-R0b8Bq8"
   },
   "outputs": [
    {
     "data": {
      "text/plain": [
       "({'max_depth': 5, 'min_child_weight': 3}, 0.828948217260183)"
      ]
     },
     "execution_count": 12,
     "metadata": {},
     "output_type": "execute_result"
    }
   ],
   "source": [
    "param_test2 = {\"max_depth\": [3, 4, 5], \"min_child_weight\": [2, 3, 4]}\n",
    "\n",
    "gsearch2 = GridSearchCV(\n",
    "    estimator=model_xgb, param_grid=param_test2, scoring=\"roc_auc\", n_jobs=-1, cv=5\n",
    ")\n",
    "\n",
    "gsearch2.fit(X_train[predictors], X_train[target])\n",
    "gsearch2.best_params_, gsearch2.best_score_"
   ]
  },
  {
   "cell_type": "markdown",
   "metadata": {
    "id": "Y2nKfT1e8Bq8"
   },
   "source": [
    "Зафиксируем найденный max_depth и min_child_weight"
   ]
  },
  {
   "cell_type": "code",
   "execution_count": 13,
   "metadata": {
    "id": "KJ33BsoQ8Bq9"
   },
   "outputs": [],
   "source": [
    "model_xgb.max_depth = 5\n",
    "model_xgb.min_child_weight = 3"
   ]
  },
  {
   "cell_type": "markdown",
   "metadata": {
    "id": "csnOzPVy8Bq9"
   },
   "source": [
    "Мы подобрали max_depth и min_child_weight - дальше будем использовать подобранные значения параметров. Подберите по сетке параметр gamma на отрезке от 0 до 1."
   ]
  },
  {
   "cell_type": "code",
   "execution_count": 14,
   "metadata": {
    "id": "zsrVxlzV8Bq9"
   },
   "outputs": [
    {
     "ename": "SyntaxError",
     "evalue": "expression expected after dictionary key and ':' (674615411.py, line 2)",
     "output_type": "error",
     "traceback": [
      "\u001b[1;36m  Cell \u001b[1;32mIn[14], line 2\u001b[1;36m\u001b[0m\n\u001b[1;33m    'gamma': # your code here\u001b[0m\n\u001b[1;37m           ^\u001b[0m\n\u001b[1;31mSyntaxError\u001b[0m\u001b[1;31m:\u001b[0m expression expected after dictionary key and ':'\n"
     ]
    }
   ],
   "source": [
    "param_test3 = {\n",
    "    'gamma': # your code here\n",
    "}\n",
    "\n",
    "gsearch3b = # your code here\n",
    "\n",
    "gsearch3b.fit(X_train[predictors], X_train[target])"
   ]
  },
  {
   "cell_type": "code",
   "execution_count": null,
   "metadata": {
    "id": "ueA65F5J8Bq9"
   },
   "outputs": [],
   "source": [
    "gsearch3b.best_params_, gsearch3b.best_score_"
   ]
  },
  {
   "cell_type": "markdown",
   "metadata": {
    "id": "0UmJ1tLZ8Bq9"
   },
   "source": [
    "Установите в качестве параметра алгоритма подобранyю gamma и посмотрите как изменилось качество."
   ]
  },
  {
   "cell_type": "code",
   "execution_count": null,
   "metadata": {
    "id": "XUaCRMDA8Bq9"
   },
   "outputs": [],
   "source": [
    "predictors = [x for x in X_train.columns if x not in [target, IDcol]]\n",
    "\n",
    "# your code here\n",
    "\n",
    "modelfit(model_xgb, X_train, X_test, predictors)"
   ]
  },
  {
   "cell_type": "markdown",
   "metadata": {
    "id": "wL-AYxNF8Bq9"
   },
   "source": [
    "Подберите по сетке параметры subsample и colsample_bytree. Используйте значения этих параметров: [0.6, 0.7, 0.8, 0.9, 1.]"
   ]
  },
  {
   "cell_type": "code",
   "execution_count": null,
   "metadata": {
    "id": "wdTvHId08Bq-"
   },
   "outputs": [],
   "source": [
    "# your code here"
   ]
  },
  {
   "cell_type": "markdown",
   "metadata": {
    "id": "RtnO9Jbc8Bq-"
   },
   "source": [
    "Подберите параметр регуляризации reg_alpha. Попробуйте [1e-5, 1e-2, 0.1, 1, 100]"
   ]
  },
  {
   "cell_type": "code",
   "execution_count": null,
   "metadata": {
    "id": "OWpqqls18Bq-"
   },
   "outputs": [],
   "source": [
    "# your code here"
   ]
  },
  {
   "cell_type": "markdown",
   "metadata": {
    "id": "oFlfY3No8Bq-"
   },
   "source": [
    "Запустите обучение и предсказание на найденных параметрах и посмотрите на качество."
   ]
  },
  {
   "cell_type": "code",
   "execution_count": null,
   "metadata": {
    "id": "nCO55aIM8Bq-"
   },
   "outputs": [],
   "source": [
    "# your code here\n",
    "\n",
    "modelfit(model_xgb, X_train, X_test, predictors)"
   ]
  },
  {
   "cell_type": "markdown",
   "metadata": {
    "id": "iOfUPALL8Bq-"
   },
   "source": [
    "Уменьшите learning_rate до 0.01 и пропорционально увеличьте число деревьев. Все подобранные параметры остаются такими же. Обучите модель и сделайте предсказание. Посмотрите на качество."
   ]
  },
  {
   "cell_type": "code",
   "execution_count": null,
   "metadata": {
    "id": "KRWNDxFj8Bq-"
   },
   "outputs": [],
   "source": [
    "# Your code here\n",
    "\n",
    "modelfit(model_xgb, X_train, X_test, predictors)"
   ]
  },
  {
   "cell_type": "markdown",
   "metadata": {
    "id": "pGnOCvsm8Bq_"
   },
   "source": [
    "## 2. CatBoost\n",
    "\n",
    "Ноутбук из официальной документации здесь: https://github.com/catboost/tutorials/blob/master/classification/classification_tutorial.ipynb\n",
    "\n",
    "Особенности катбуста:\n",
    "\n",
    "* используются симметричные деревья решений\n",
    "\n",
    "* для кодирования категориальных признаков используется большой набор методов\n",
    "\n",
    "* динамический бустинг \n",
    "\n",
    "Благодаря использованию симметричных деревьев и динамическому бустингу катбуст гораздо более устойчив к переобучению, чем другие имплементации градиентного бустинга. Поэтому он показывает хорошее качество даже при дефолтных параметрах.\n",
    "\n",
    "Посмотреть видео про катбуст: https://yandex.ru/video/preview/?filmId=10919886479285152550&from=tabbar&text=catboost+анна+вероника"
   ]
  },
  {
   "cell_type": "markdown",
   "metadata": {
    "id": "hUzVcEC18Bq_"
   },
   "source": [
    "Устанавливаем библиотеки"
   ]
  },
  {
   "cell_type": "code",
   "execution_count": 18,
   "metadata": {
    "id": "n0w0ZQ1v8Bq_"
   },
   "outputs": [
    {
     "name": "stdout",
     "output_type": "stream",
     "text": [
      "Collecting catboost\n",
      "  Downloading catboost-1.2.5-cp311-cp311-win_amd64.whl.metadata (1.2 kB)\n",
      "Collecting graphviz (from catboost)\n",
      "  Downloading graphviz-0.20.3-py3-none-any.whl.metadata (12 kB)\n",
      "Requirement already satisfied: matplotlib in c:\\programdata\\anaconda3\\lib\\site-packages (from catboost) (3.7.2)\n",
      "Requirement already satisfied: numpy>=1.16.0 in c:\\programdata\\anaconda3\\lib\\site-packages (from catboost) (1.24.3)\n",
      "Requirement already satisfied: pandas>=0.24 in c:\\programdata\\anaconda3\\lib\\site-packages (from catboost) (2.0.3)\n",
      "Requirement already satisfied: scipy in c:\\programdata\\anaconda3\\lib\\site-packages (from catboost) (1.11.1)\n",
      "Requirement already satisfied: plotly in c:\\programdata\\anaconda3\\lib\\site-packages (from catboost) (5.9.0)\n",
      "Requirement already satisfied: six in c:\\programdata\\anaconda3\\lib\\site-packages (from catboost) (1.16.0)\n",
      "Requirement already satisfied: python-dateutil>=2.8.2 in c:\\programdata\\anaconda3\\lib\\site-packages (from pandas>=0.24->catboost) (2.8.2)\n",
      "Requirement already satisfied: pytz>=2020.1 in c:\\programdata\\anaconda3\\lib\\site-packages (from pandas>=0.24->catboost) (2023.3.post1)\n",
      "Requirement already satisfied: tzdata>=2022.1 in c:\\programdata\\anaconda3\\lib\\site-packages (from pandas>=0.24->catboost) (2023.3)\n",
      "Requirement already satisfied: contourpy>=1.0.1 in c:\\programdata\\anaconda3\\lib\\site-packages (from matplotlib->catboost) (1.0.5)\n",
      "Requirement already satisfied: cycler>=0.10 in c:\\programdata\\anaconda3\\lib\\site-packages (from matplotlib->catboost) (0.11.0)\n",
      "Requirement already satisfied: fonttools>=4.22.0 in c:\\programdata\\anaconda3\\lib\\site-packages (from matplotlib->catboost) (4.25.0)\n",
      "Requirement already satisfied: kiwisolver>=1.0.1 in c:\\programdata\\anaconda3\\lib\\site-packages (from matplotlib->catboost) (1.4.4)\n",
      "Requirement already satisfied: packaging>=20.0 in c:\\programdata\\anaconda3\\lib\\site-packages (from matplotlib->catboost) (23.1)\n",
      "Requirement already satisfied: pillow>=6.2.0 in c:\\programdata\\anaconda3\\lib\\site-packages (from matplotlib->catboost) (9.4.0)\n",
      "Requirement already satisfied: pyparsing<3.1,>=2.3.1 in c:\\programdata\\anaconda3\\lib\\site-packages (from matplotlib->catboost) (3.0.9)\n",
      "Requirement already satisfied: tenacity>=6.2.0 in c:\\programdata\\anaconda3\\lib\\site-packages (from plotly->catboost) (8.2.2)\n",
      "Downloading catboost-1.2.5-cp311-cp311-win_amd64.whl (101.1 MB)\n",
      "   ---------------------------------------- 0.0/101.1 MB ? eta -:--:--\n",
      "   ---------------------------------------- 0.0/101.1 MB 682.7 kB/s eta 0:02:29\n",
      "   ---------------------------------------- 0.1/101.1 MB 825.8 kB/s eta 0:02:03\n",
      "   ---------------------------------------- 0.1/101.1 MB 980.4 kB/s eta 0:01:44\n",
      "   ---------------------------------------- 0.2/101.1 MB 1.1 MB/s eta 0:01:37\n",
      "   ---------------------------------------- 0.2/101.1 MB 1.0 MB/s eta 0:01:39\n",
      "   ---------------------------------------- 0.3/101.1 MB 1.1 MB/s eta 0:01:32\n",
      "   ---------------------------------------- 0.3/101.1 MB 1.1 MB/s eta 0:01:32\n",
      "   ---------------------------------------- 0.4/101.1 MB 1.1 MB/s eta 0:01:30\n",
      "   ---------------------------------------- 0.5/101.1 MB 1.2 MB/s eta 0:01:26\n",
      "   ---------------------------------------- 0.5/101.1 MB 1.2 MB/s eta 0:01:25\n",
      "   ---------------------------------------- 0.6/101.1 MB 1.2 MB/s eta 0:01:24\n",
      "   ---------------------------------------- 0.7/101.1 MB 1.3 MB/s eta 0:01:21\n",
      "   ---------------------------------------- 0.7/101.1 MB 1.3 MB/s eta 0:01:21\n",
      "   ---------------------------------------- 0.8/101.1 MB 1.3 MB/s eta 0:01:20\n",
      "   ---------------------------------------- 0.8/101.1 MB 1.1 MB/s eta 0:01:28\n",
      "   ---------------------------------------- 0.8/101.1 MB 1.2 MB/s eta 0:01:27\n",
      "   ---------------------------------------- 0.9/101.1 MB 1.1 MB/s eta 0:01:29\n",
      "   ---------------------------------------- 0.9/101.1 MB 1.1 MB/s eta 0:01:30\n",
      "   ---------------------------------------- 1.0/101.1 MB 1.1 MB/s eta 0:01:28\n",
      "   ---------------------------------------- 1.0/101.1 MB 1.1 MB/s eta 0:01:28\n",
      "   ---------------------------------------- 1.1/101.1 MB 1.1 MB/s eta 0:01:29\n",
      "   ---------------------------------------- 1.2/101.1 MB 1.1 MB/s eta 0:01:29\n",
      "   ---------------------------------------- 1.2/101.1 MB 1.1 MB/s eta 0:01:28\n",
      "   ---------------------------------------- 1.3/101.1 MB 1.1 MB/s eta 0:01:28\n",
      "    --------------------------------------- 1.3/101.1 MB 1.1 MB/s eta 0:01:29\n",
      "    --------------------------------------- 1.4/101.1 MB 1.1 MB/s eta 0:01:29\n",
      "    --------------------------------------- 1.4/101.1 MB 1.1 MB/s eta 0:01:28\n",
      "    --------------------------------------- 1.5/101.1 MB 1.1 MB/s eta 0:01:28\n",
      "    --------------------------------------- 1.5/101.1 MB 1.1 MB/s eta 0:01:28\n",
      "    --------------------------------------- 1.6/101.1 MB 1.2 MB/s eta 0:01:27\n",
      "    --------------------------------------- 1.6/101.1 MB 1.2 MB/s eta 0:01:27\n",
      "    --------------------------------------- 1.7/101.1 MB 1.1 MB/s eta 0:01:29\n",
      "    --------------------------------------- 1.8/101.1 MB 1.1 MB/s eta 0:01:28\n",
      "    --------------------------------------- 1.8/101.1 MB 1.1 MB/s eta 0:01:27\n",
      "    --------------------------------------- 1.9/101.1 MB 1.1 MB/s eta 0:01:27\n",
      "    --------------------------------------- 1.9/101.1 MB 1.2 MB/s eta 0:01:26\n",
      "    --------------------------------------- 2.0/101.1 MB 1.2 MB/s eta 0:01:26\n",
      "    --------------------------------------- 2.1/101.1 MB 1.2 MB/s eta 0:01:25\n",
      "    --------------------------------------- 2.1/101.1 MB 1.2 MB/s eta 0:01:25\n",
      "    --------------------------------------- 2.2/101.1 MB 1.2 MB/s eta 0:01:25\n",
      "    --------------------------------------- 2.3/101.1 MB 1.2 MB/s eta 0:01:24\n",
      "    --------------------------------------- 2.3/101.1 MB 1.2 MB/s eta 0:01:24\n",
      "    --------------------------------------- 2.4/101.1 MB 1.2 MB/s eta 0:01:23\n",
      "    --------------------------------------- 2.5/101.1 MB 1.2 MB/s eta 0:01:23\n",
      "   - -------------------------------------- 2.5/101.1 MB 1.2 MB/s eta 0:01:22\n",
      "   - -------------------------------------- 2.6/101.1 MB 1.2 MB/s eta 0:01:22\n",
      "   - -------------------------------------- 2.7/101.1 MB 1.2 MB/s eta 0:01:21\n",
      "   - -------------------------------------- 2.8/101.1 MB 1.2 MB/s eta 0:01:21\n",
      "   - -------------------------------------- 2.8/101.1 MB 1.2 MB/s eta 0:01:20\n",
      "   - -------------------------------------- 2.9/101.1 MB 1.2 MB/s eta 0:01:20\n",
      "   - -------------------------------------- 3.0/101.1 MB 1.2 MB/s eta 0:01:19\n",
      "   - -------------------------------------- 3.1/101.1 MB 1.3 MB/s eta 0:01:19\n",
      "   - -------------------------------------- 3.1/101.1 MB 1.3 MB/s eta 0:01:19\n",
      "   - -------------------------------------- 3.1/101.1 MB 1.3 MB/s eta 0:01:19\n",
      "   - -------------------------------------- 3.2/101.1 MB 1.2 MB/s eta 0:01:19\n",
      "   - -------------------------------------- 3.3/101.1 MB 1.2 MB/s eta 0:01:19\n",
      "   - -------------------------------------- 3.3/101.1 MB 1.2 MB/s eta 0:01:19\n",
      "   - -------------------------------------- 3.4/101.1 MB 1.2 MB/s eta 0:01:19\n",
      "   - -------------------------------------- 3.5/101.1 MB 1.2 MB/s eta 0:01:19\n",
      "   - -------------------------------------- 3.5/101.1 MB 1.2 MB/s eta 0:01:19\n",
      "   - -------------------------------------- 3.6/101.1 MB 1.3 MB/s eta 0:01:18\n",
      "   - -------------------------------------- 3.7/101.1 MB 1.3 MB/s eta 0:01:18\n",
      "   - -------------------------------------- 3.7/101.1 MB 1.3 MB/s eta 0:01:18\n",
      "   - -------------------------------------- 3.8/101.1 MB 1.3 MB/s eta 0:01:18\n",
      "   - -------------------------------------- 3.9/101.1 MB 1.3 MB/s eta 0:01:18\n",
      "   - -------------------------------------- 3.9/101.1 MB 1.3 MB/s eta 0:01:18\n",
      "   - -------------------------------------- 4.0/101.1 MB 1.3 MB/s eta 0:01:17\n",
      "   - -------------------------------------- 4.0/101.1 MB 1.3 MB/s eta 0:01:18\n",
      "   - -------------------------------------- 4.1/101.1 MB 1.3 MB/s eta 0:01:18\n",
      "   - -------------------------------------- 4.1/101.1 MB 1.3 MB/s eta 0:01:18\n",
      "   - -------------------------------------- 4.1/101.1 MB 1.3 MB/s eta 0:01:18\n",
      "   - -------------------------------------- 4.2/101.1 MB 1.2 MB/s eta 0:01:20\n",
      "   - -------------------------------------- 4.2/101.1 MB 1.2 MB/s eta 0:01:20\n",
      "   - -------------------------------------- 4.2/101.1 MB 1.2 MB/s eta 0:01:20\n",
      "   - -------------------------------------- 4.3/101.1 MB 1.2 MB/s eta 0:01:21\n",
      "   - -------------------------------------- 4.3/101.1 MB 1.2 MB/s eta 0:01:21\n",
      "   - -------------------------------------- 4.4/101.1 MB 1.2 MB/s eta 0:01:21\n",
      "   - -------------------------------------- 4.4/101.1 MB 1.2 MB/s eta 0:01:21\n",
      "   - -------------------------------------- 4.4/101.1 MB 1.2 MB/s eta 0:01:23\n",
      "   - -------------------------------------- 4.4/101.1 MB 1.2 MB/s eta 0:01:23\n",
      "   - -------------------------------------- 4.4/101.1 MB 1.2 MB/s eta 0:01:24\n",
      "   - -------------------------------------- 4.5/101.1 MB 1.2 MB/s eta 0:01:24\n",
      "   - -------------------------------------- 4.5/101.1 MB 1.1 MB/s eta 0:01:25\n",
      "   - -------------------------------------- 4.5/101.1 MB 1.1 MB/s eta 0:01:25\n",
      "   - -------------------------------------- 4.6/101.1 MB 1.1 MB/s eta 0:01:25\n",
      "   - -------------------------------------- 4.6/101.1 MB 1.1 MB/s eta 0:01:26\n",
      "   - -------------------------------------- 4.6/101.1 MB 1.1 MB/s eta 0:01:26\n",
      "   - -------------------------------------- 4.6/101.1 MB 1.1 MB/s eta 0:01:27\n",
      "   - -------------------------------------- 4.7/101.1 MB 1.1 MB/s eta 0:01:27\n",
      "   - -------------------------------------- 4.7/101.1 MB 1.1 MB/s eta 0:01:28\n",
      "   - -------------------------------------- 4.7/101.1 MB 1.1 MB/s eta 0:01:28\n",
      "   - -------------------------------------- 4.7/101.1 MB 1.1 MB/s eta 0:01:29\n",
      "   - -------------------------------------- 4.8/101.1 MB 1.1 MB/s eta 0:01:29\n",
      "   - -------------------------------------- 4.8/101.1 MB 1.1 MB/s eta 0:01:30\n",
      "   - -------------------------------------- 4.8/101.1 MB 1.1 MB/s eta 0:01:30\n",
      "   - -------------------------------------- 4.9/101.1 MB 1.1 MB/s eta 0:01:31\n",
      "   - -------------------------------------- 4.9/101.1 MB 1.1 MB/s eta 0:01:31\n",
      "   - -------------------------------------- 4.9/101.1 MB 1.1 MB/s eta 0:01:31\n",
      "   - -------------------------------------- 5.0/101.1 MB 1.1 MB/s eta 0:01:31\n",
      "   - -------------------------------------- 5.0/101.1 MB 1.1 MB/s eta 0:01:32\n",
      "   - -------------------------------------- 5.0/101.1 MB 1.0 MB/s eta 0:01:32\n",
      "   -- ------------------------------------- 5.1/101.1 MB 1.0 MB/s eta 0:01:32\n",
      "   -- ------------------------------------- 5.1/101.1 MB 1.0 MB/s eta 0:01:33\n",
      "   -- ------------------------------------- 5.1/101.1 MB 1.0 MB/s eta 0:01:32\n",
      "   -- ------------------------------------- 5.1/101.1 MB 1.0 MB/s eta 0:01:33\n",
      "   -- ------------------------------------- 5.2/101.1 MB 1.0 MB/s eta 0:01:33\n",
      "   -- ------------------------------------- 5.2/101.1 MB 1.0 MB/s eta 0:01:33\n",
      "   -- ------------------------------------- 5.2/101.1 MB 1.0 MB/s eta 0:01:34\n",
      "   -- ------------------------------------- 5.3/101.1 MB 1.0 MB/s eta 0:01:34\n",
      "   -- ------------------------------------- 5.3/101.1 MB 1.0 MB/s eta 0:01:35\n",
      "   -- ------------------------------------- 5.3/101.1 MB 1.0 MB/s eta 0:01:35\n",
      "   -- ------------------------------------- 5.3/101.1 MB 1.0 MB/s eta 0:01:35\n",
      "   -- ------------------------------------- 5.4/101.1 MB 1.0 MB/s eta 0:01:36\n",
      "   -- ------------------------------------- 5.4/101.1 MB 999.3 kB/s eta 0:01:36\n",
      "   -- ------------------------------------- 5.4/101.1 MB 996.3 kB/s eta 0:01:37\n",
      "   -- ------------------------------------- 5.5/101.1 MB 995.2 kB/s eta 0:01:37\n",
      "   -- ------------------------------------- 5.5/101.1 MB 994.2 kB/s eta 0:01:37\n",
      "   -- ------------------------------------- 5.5/101.1 MB 988.7 kB/s eta 0:01:37\n",
      "   -- ------------------------------------- 5.6/101.1 MB 987.7 kB/s eta 0:01:37\n",
      "   -- ------------------------------------- 5.6/101.1 MB 984.9 kB/s eta 0:01:38\n",
      "   -- ------------------------------------- 5.6/101.1 MB 982.2 kB/s eta 0:01:38\n",
      "   -- ------------------------------------- 5.6/101.1 MB 979.5 kB/s eta 0:01:38\n",
      "   -- ------------------------------------- 5.7/101.1 MB 974.3 kB/s eta 0:01:38\n",
      "   -- ------------------------------------- 5.7/101.1 MB 976.0 kB/s eta 0:01:38\n",
      "   -- ------------------------------------- 5.7/101.1 MB 973.6 kB/s eta 0:01:38\n",
      "   -- ------------------------------------- 5.8/101.1 MB 971.0 kB/s eta 0:01:39\n",
      "   -- ------------------------------------- 5.8/101.1 MB 972.0 kB/s eta 0:01:39\n",
      "   -- ------------------------------------- 5.9/101.1 MB 969.5 kB/s eta 0:01:39\n",
      "   -- ------------------------------------- 5.9/101.1 MB 967.9 kB/s eta 0:01:39\n",
      "   -- ------------------------------------- 5.9/101.1 MB 968.0 kB/s eta 0:01:39\n",
      "   -- ------------------------------------- 6.0/101.1 MB 966.6 kB/s eta 0:01:39\n",
      "   -- ------------------------------------- 6.0/101.1 MB 964.2 kB/s eta 0:01:39\n",
      "   -- ------------------------------------- 6.1/101.1 MB 964.3 kB/s eta 0:01:39\n",
      "   -- ------------------------------------- 6.1/101.1 MB 965.3 kB/s eta 0:01:39\n",
      "   -- ------------------------------------- 6.1/101.1 MB 963.0 kB/s eta 0:01:39\n",
      "   -- ------------------------------------- 6.2/101.1 MB 963.9 kB/s eta 0:01:39\n",
      "   -- ------------------------------------- 6.2/101.1 MB 964.8 kB/s eta 0:01:39\n",
      "   -- ------------------------------------- 6.3/101.1 MB 963.5 kB/s eta 0:01:39\n",
      "   -- ------------------------------------- 6.3/101.1 MB 964.4 kB/s eta 0:01:39\n",
      "   -- ------------------------------------- 6.4/101.1 MB 964.4 kB/s eta 0:01:39\n",
      "   -- ------------------------------------- 6.4/101.1 MB 965.4 kB/s eta 0:01:39\n",
      "   -- ------------------------------------- 6.5/101.1 MB 965.5 kB/s eta 0:01:39\n",
      "   -- ------------------------------------- 6.5/101.1 MB 967.8 kB/s eta 0:01:38\n",
      "   -- ------------------------------------- 6.6/101.1 MB 967.2 kB/s eta 0:01:38\n",
      "   -- ------------------------------------- 6.6/101.1 MB 966.5 kB/s eta 0:01:38\n",
      "   -- ------------------------------------- 6.7/101.1 MB 967.5 kB/s eta 0:01:38\n",
      "   -- ------------------------------------- 6.7/101.1 MB 971.3 kB/s eta 0:01:38\n",
      "   -- ------------------------------------- 6.8/101.1 MB 970.6 kB/s eta 0:01:38\n",
      "   -- ------------------------------------- 6.9/101.1 MB 974.3 kB/s eta 0:01:37\n",
      "   -- ------------------------------------- 6.9/101.1 MB 975.1 kB/s eta 0:01:37\n",
      "   -- ------------------------------------- 7.0/101.1 MB 976.6 kB/s eta 0:01:37\n",
      "   -- ------------------------------------- 7.0/101.1 MB 978.0 kB/s eta 0:01:37\n",
      "   -- ------------------------------------- 7.1/101.1 MB 977.3 kB/s eta 0:01:37\n",
      "   -- ------------------------------------- 7.1/101.1 MB 983.0 kB/s eta 0:01:36\n",
      "   -- ------------------------------------- 7.2/101.1 MB 980.9 kB/s eta 0:01:36\n",
      "   -- ------------------------------------- 7.2/101.1 MB 983.0 kB/s eta 0:01:36\n",
      "   -- ------------------------------------- 7.3/101.1 MB 986.6 kB/s eta 0:01:36\n",
      "   -- ------------------------------------- 7.4/101.1 MB 988.6 kB/s eta 0:01:35\n",
      "   -- ------------------------------------- 7.4/101.1 MB 989.9 kB/s eta 0:01:35\n",
      "   -- ------------------------------------- 7.5/101.1 MB 994.0 kB/s eta 0:01:35\n",
      "   -- ------------------------------------- 7.6/101.1 MB 993.8 kB/s eta 0:01:35\n",
      "   --- ------------------------------------ 7.6/101.1 MB 999.2 kB/s eta 0:01:34\n",
      "   --- ------------------------------------ 7.7/101.1 MB 1.0 MB/s eta 0:01:34\n",
      "   --- ------------------------------------ 7.8/101.1 MB 1.0 MB/s eta 0:01:34\n",
      "   --- ------------------------------------ 7.8/101.1 MB 1.0 MB/s eta 0:01:33\n",
      "   --- ------------------------------------ 7.9/101.1 MB 1.0 MB/s eta 0:01:33\n",
      "   --- ------------------------------------ 7.9/101.1 MB 1.0 MB/s eta 0:01:33\n",
      "   --- ------------------------------------ 8.0/101.1 MB 1.0 MB/s eta 0:01:33\n",
      "   --- ------------------------------------ 8.1/101.1 MB 1.0 MB/s eta 0:01:33\n",
      "   --- ------------------------------------ 8.1/101.1 MB 1.0 MB/s eta 0:01:32\n",
      "   --- ------------------------------------ 8.1/101.1 MB 1.0 MB/s eta 0:01:32\n",
      "   --- ------------------------------------ 8.2/101.1 MB 1.0 MB/s eta 0:01:32\n",
      "   --- ------------------------------------ 8.2/101.1 MB 1.0 MB/s eta 0:01:33\n",
      "   --- ------------------------------------ 8.3/101.1 MB 1.0 MB/s eta 0:01:33\n",
      "   --- ------------------------------------ 8.3/101.1 MB 1.0 MB/s eta 0:01:33\n",
      "   --- ------------------------------------ 8.4/101.1 MB 1.0 MB/s eta 0:01:32\n",
      "   --- ------------------------------------ 8.4/101.1 MB 1.0 MB/s eta 0:01:32\n",
      "   --- ------------------------------------ 8.5/101.1 MB 1.0 MB/s eta 0:01:32\n",
      "   --- ------------------------------------ 8.5/101.1 MB 1.0 MB/s eta 0:01:32\n",
      "   --- ------------------------------------ 8.6/101.1 MB 1.0 MB/s eta 0:01:32\n",
      "   --- ------------------------------------ 8.6/101.1 MB 1.0 MB/s eta 0:01:32\n",
      "   --- ------------------------------------ 8.6/101.1 MB 1.0 MB/s eta 0:01:32\n",
      "   --- ------------------------------------ 8.7/101.1 MB 1.0 MB/s eta 0:01:32\n",
      "   --- ------------------------------------ 8.7/101.1 MB 1.0 MB/s eta 0:01:32\n",
      "   --- ------------------------------------ 8.8/101.1 MB 1.0 MB/s eta 0:01:32\n",
      "   --- ------------------------------------ 8.9/101.1 MB 1.0 MB/s eta 0:01:32\n",
      "   --- ------------------------------------ 8.9/101.1 MB 1.0 MB/s eta 0:01:32\n",
      "   --- ------------------------------------ 8.9/101.1 MB 1.0 MB/s eta 0:01:32\n",
      "   --- ------------------------------------ 9.0/101.1 MB 1.0 MB/s eta 0:01:31\n",
      "   --- ------------------------------------ 9.1/101.1 MB 1.0 MB/s eta 0:01:31\n",
      "   --- ------------------------------------ 9.1/101.1 MB 1.0 MB/s eta 0:01:31\n",
      "   --- ------------------------------------ 9.2/101.1 MB 1.0 MB/s eta 0:01:31\n",
      "   --- ------------------------------------ 9.2/101.1 MB 1.0 MB/s eta 0:01:31\n",
      "   --- ------------------------------------ 9.3/101.1 MB 1.0 MB/s eta 0:01:31\n",
      "   --- ------------------------------------ 9.3/101.1 MB 1.0 MB/s eta 0:01:31\n",
      "   --- ------------------------------------ 9.4/101.1 MB 1.0 MB/s eta 0:01:31\n",
      "   --- ------------------------------------ 9.4/101.1 MB 1.0 MB/s eta 0:01:31\n",
      "   --- ------------------------------------ 9.5/101.1 MB 1.0 MB/s eta 0:01:30\n",
      "   --- ------------------------------------ 9.6/101.1 MB 1.0 MB/s eta 0:01:30\n",
      "   --- ------------------------------------ 9.6/101.1 MB 1.0 MB/s eta 0:01:30\n",
      "   --- ------------------------------------ 9.6/101.1 MB 1.0 MB/s eta 0:01:30\n",
      "   --- ------------------------------------ 9.7/101.1 MB 1.0 MB/s eta 0:01:30\n",
      "   --- ------------------------------------ 9.7/101.1 MB 1.0 MB/s eta 0:01:30\n",
      "   --- ------------------------------------ 9.8/101.1 MB 1.0 MB/s eta 0:01:30\n",
      "   --- ------------------------------------ 9.8/101.1 MB 1.0 MB/s eta 0:01:30\n",
      "   --- ------------------------------------ 9.8/101.1 MB 1.0 MB/s eta 0:01:30\n",
      "   --- ------------------------------------ 9.8/101.1 MB 1.0 MB/s eta 0:01:30\n",
      "   --- ------------------------------------ 9.9/101.1 MB 1.0 MB/s eta 0:01:30\n",
      "   --- ------------------------------------ 9.9/101.1 MB 1.0 MB/s eta 0:01:31\n",
      "   --- ------------------------------------ 10.0/101.1 MB 1.0 MB/s eta 0:01:31\n",
      "   --- ------------------------------------ 10.0/101.1 MB 1.0 MB/s eta 0:01:31\n",
      "   --- ------------------------------------ 10.0/101.1 MB 1.0 MB/s eta 0:01:31\n",
      "   --- ------------------------------------ 10.0/101.1 MB 1.0 MB/s eta 0:01:31\n",
      "   --- ------------------------------------ 10.1/101.1 MB 1.0 MB/s eta 0:01:31\n",
      "   --- ----------------------------------- 10.1/101.1 MB 998.2 kB/s eta 0:01:32\n",
      "   --- ----------------------------------- 10.1/101.1 MB 996.2 kB/s eta 0:01:32\n",
      "   --- ----------------------------------- 10.1/101.1 MB 993.6 kB/s eta 0:01:32\n",
      "   --- ----------------------------------- 10.1/101.1 MB 992.6 kB/s eta 0:01:32\n",
      "   --- ----------------------------------- 10.2/101.1 MB 989.6 kB/s eta 0:01:32\n",
      "   --- ----------------------------------- 10.2/101.1 MB 987.5 kB/s eta 0:01:33\n",
      "   --- ----------------------------------- 10.2/101.1 MB 985.5 kB/s eta 0:01:33\n",
      "   --- ----------------------------------- 10.2/101.1 MB 982.1 kB/s eta 0:01:33\n",
      "   --- ----------------------------------- 10.3/101.1 MB 981.6 kB/s eta 0:01:33\n",
      "   --- ----------------------------------- 10.3/101.1 MB 980.1 kB/s eta 0:01:33\n",
      "   --- ----------------------------------- 10.3/101.1 MB 977.2 kB/s eta 0:01:33\n",
      "   --- ----------------------------------- 10.3/101.1 MB 980.0 kB/s eta 0:01:33\n",
      "   ---- ---------------------------------- 10.4/101.1 MB 974.3 kB/s eta 0:01:34\n",
      "   ---- ---------------------------------- 10.4/101.1 MB 971.3 kB/s eta 0:01:34\n",
      "   ---- ---------------------------------- 10.4/101.1 MB 968.5 kB/s eta 0:01:34\n",
      "   ---- ---------------------------------- 10.5/101.1 MB 967.1 kB/s eta 0:01:34\n",
      "   ---- ---------------------------------- 10.5/101.1 MB 965.6 kB/s eta 0:01:34\n",
      "   ---- ---------------------------------- 10.5/101.1 MB 962.8 kB/s eta 0:01:35\n",
      "   ---- ---------------------------------- 10.6/101.1 MB 962.8 kB/s eta 0:01:35\n",
      "   ---- ---------------------------------- 10.6/101.1 MB 958.6 kB/s eta 0:01:35\n",
      "   ---- ---------------------------------- 10.6/101.1 MB 958.6 kB/s eta 0:01:35\n",
      "   ---- ---------------------------------- 10.7/101.1 MB 955.8 kB/s eta 0:01:35\n",
      "   ---- ---------------------------------- 10.7/101.1 MB 954.4 kB/s eta 0:01:35\n",
      "   ---- ---------------------------------- 10.7/101.1 MB 950.3 kB/s eta 0:01:36\n",
      "   ---- ---------------------------------- 10.8/101.1 MB 950.2 kB/s eta 0:01:36\n",
      "   ---- ---------------------------------- 10.8/101.1 MB 948.9 kB/s eta 0:01:36\n",
      "   ---- ---------------------------------- 10.8/101.1 MB 947.5 kB/s eta 0:01:36\n",
      "   ---- ---------------------------------- 10.9/101.1 MB 943.4 kB/s eta 0:01:36\n",
      "   ---- ---------------------------------- 10.9/101.1 MB 942.1 kB/s eta 0:01:36\n",
      "   ---- ---------------------------------- 11.0/101.1 MB 942.1 kB/s eta 0:01:36\n",
      "   ---- ---------------------------------- 11.0/101.1 MB 946.1 kB/s eta 0:01:36\n",
      "   ---- ---------------------------------- 11.0/101.1 MB 942.0 kB/s eta 0:01:36\n",
      "   ---- ---------------------------------- 11.1/101.1 MB 943.4 kB/s eta 0:01:36\n",
      "   ---- ---------------------------------- 11.1/101.1 MB 942.1 kB/s eta 0:01:36\n",
      "   ---- ---------------------------------- 11.1/101.1 MB 940.7 kB/s eta 0:01:36\n",
      "   ---- ---------------------------------- 11.2/101.1 MB 938.0 kB/s eta 0:01:36\n",
      "   ---- ---------------------------------- 11.2/101.1 MB 938.0 kB/s eta 0:01:36\n",
      "   ---- ---------------------------------- 11.2/101.1 MB 932.6 kB/s eta 0:01:37\n",
      "   ---- ---------------------------------- 11.3/101.1 MB 932.6 kB/s eta 0:01:37\n",
      "   ---- ---------------------------------- 11.3/101.1 MB 931.3 kB/s eta 0:01:37\n",
      "   ---- ---------------------------------- 11.3/101.1 MB 930.0 kB/s eta 0:01:37\n",
      "   ---- ---------------------------------- 11.4/101.1 MB 927.4 kB/s eta 0:01:37\n",
      "   ---- ---------------------------------- 11.4/101.1 MB 926.0 kB/s eta 0:01:37\n",
      "   ---- ---------------------------------- 11.4/101.1 MB 924.8 kB/s eta 0:01:37\n",
      "   ---- ---------------------------------- 11.5/101.1 MB 924.8 kB/s eta 0:01:37\n",
      "   ---- ---------------------------------- 11.5/101.1 MB 920.9 kB/s eta 0:01:38\n",
      "   ---- ---------------------------------- 11.5/101.1 MB 920.8 kB/s eta 0:01:38\n",
      "   ---- ---------------------------------- 11.6/101.1 MB 918.3 kB/s eta 0:01:38\n",
      "   ---- ---------------------------------- 11.6/101.1 MB 916.9 kB/s eta 0:01:38\n",
      "   ---- ---------------------------------- 11.6/101.1 MB 915.7 kB/s eta 0:01:38\n",
      "   ---- ---------------------------------- 11.6/101.1 MB 910.6 kB/s eta 0:01:39\n",
      "   ---- ---------------------------------- 11.6/101.1 MB 910.6 kB/s eta 0:01:39\n",
      "   ---- ---------------------------------- 11.7/101.1 MB 906.8 kB/s eta 0:01:39\n",
      "   ---- ---------------------------------- 11.7/101.1 MB 905.5 kB/s eta 0:01:39\n",
      "   ---- ---------------------------------- 11.7/101.1 MB 904.3 kB/s eta 0:01:39\n",
      "   ---- ---------------------------------- 11.7/101.1 MB 900.6 kB/s eta 0:01:40\n",
      "   ---- ---------------------------------- 11.7/101.1 MB 898.1 kB/s eta 0:01:40\n",
      "   ---- ---------------------------------- 11.7/101.1 MB 895.6 kB/s eta 0:01:40\n",
      "   ---- ---------------------------------- 11.8/101.1 MB 893.2 kB/s eta 0:01:41\n",
      "   ---- ---------------------------------- 11.8/101.1 MB 889.5 kB/s eta 0:01:41\n",
      "   ---- ---------------------------------- 11.8/101.1 MB 888.4 kB/s eta 0:01:41\n",
      "   ---- ---------------------------------- 11.8/101.1 MB 885.9 kB/s eta 0:01:41\n",
      "   ---- ---------------------------------- 11.9/101.1 MB 883.6 kB/s eta 0:01:42\n",
      "   ---- ---------------------------------- 11.9/101.1 MB 883.6 kB/s eta 0:01:41\n",
      "   ---- ---------------------------------- 11.9/101.1 MB 880.0 kB/s eta 0:01:42\n",
      "   ---- ---------------------------------- 11.9/101.1 MB 881.2 kB/s eta 0:01:42\n",
      "   ---- ---------------------------------- 12.0/101.1 MB 877.6 kB/s eta 0:01:42\n",
      "   ---- ---------------------------------- 12.0/101.1 MB 876.4 kB/s eta 0:01:42\n",
      "   ---- ---------------------------------- 12.0/101.1 MB 874.1 kB/s eta 0:01:42\n",
      "   ---- ---------------------------------- 12.0/101.1 MB 870.6 kB/s eta 0:01:43\n",
      "   ---- ---------------------------------- 12.1/101.1 MB 869.5 kB/s eta 0:01:43\n",
      "   ---- ---------------------------------- 12.1/101.1 MB 867.1 kB/s eta 0:01:43\n",
      "   ---- ---------------------------------- 12.1/101.1 MB 864.8 kB/s eta 0:01:43\n",
      "   ---- ---------------------------------- 12.1/101.1 MB 862.6 kB/s eta 0:01:44\n",
      "   ---- ---------------------------------- 12.2/101.1 MB 861.5 kB/s eta 0:01:44\n",
      "   ---- ---------------------------------- 12.2/101.1 MB 860.3 kB/s eta 0:01:44\n",
      "   ---- ---------------------------------- 12.2/101.1 MB 855.8 kB/s eta 0:01:44\n",
      "   ---- ---------------------------------- 12.3/101.1 MB 855.8 kB/s eta 0:01:44\n",
      "   ---- ---------------------------------- 12.3/101.1 MB 855.8 kB/s eta 0:01:44\n",
      "   ---- ---------------------------------- 12.3/101.1 MB 853.5 kB/s eta 0:01:45\n",
      "   ---- ---------------------------------- 12.4/101.1 MB 852.5 kB/s eta 0:01:45\n",
      "   ---- ---------------------------------- 12.4/101.1 MB 851.3 kB/s eta 0:01:45\n",
      "   ---- ---------------------------------- 12.5/101.1 MB 850.3 kB/s eta 0:01:45\n",
      "   ---- ---------------------------------- 12.5/101.1 MB 848.0 kB/s eta 0:01:45\n",
      "   ---- ---------------------------------- 12.5/101.1 MB 847.0 kB/s eta 0:01:45\n",
      "   ---- ---------------------------------- 12.6/101.1 MB 845.9 kB/s eta 0:01:45\n",
      "   ---- ---------------------------------- 12.6/101.1 MB 843.7 kB/s eta 0:01:45\n",
      "   ---- ---------------------------------- 12.7/101.1 MB 842.6 kB/s eta 0:01:45\n",
      "   ---- ---------------------------------- 12.7/101.1 MB 842.6 kB/s eta 0:01:45\n",
      "   ---- ---------------------------------- 12.8/101.1 MB 840.5 kB/s eta 0:01:46\n",
      "   ---- ---------------------------------- 12.8/101.1 MB 839.3 kB/s eta 0:01:46\n",
      "   ---- ---------------------------------- 12.8/101.1 MB 839.3 kB/s eta 0:01:46\n",
      "   ---- ---------------------------------- 12.9/101.1 MB 837.3 kB/s eta 0:01:46\n",
      "   ---- ---------------------------------- 12.9/101.1 MB 837.3 kB/s eta 0:01:46\n",
      "   ----- --------------------------------- 13.0/101.1 MB 836.2 kB/s eta 0:01:46\n",
      "   ----- --------------------------------- 13.0/101.1 MB 835.1 kB/s eta 0:01:46\n",
      "   ----- --------------------------------- 13.1/101.1 MB 834.0 kB/s eta 0:01:46\n",
      "   ----- --------------------------------- 13.1/101.1 MB 831.9 kB/s eta 0:01:46\n",
      "   ----- --------------------------------- 13.2/101.1 MB 831.9 kB/s eta 0:01:46\n",
      "   ----- --------------------------------- 13.3/101.1 MB 830.9 kB/s eta 0:01:46\n",
      "   ----- --------------------------------- 13.3/101.1 MB 830.9 kB/s eta 0:01:46\n",
      "   ----- --------------------------------- 13.4/101.1 MB 830.9 kB/s eta 0:01:46\n",
      "   ----- --------------------------------- 13.4/101.1 MB 830.8 kB/s eta 0:01:46\n",
      "   ----- --------------------------------- 13.5/101.1 MB 833.0 kB/s eta 0:01:46\n",
      "   ----- --------------------------------- 13.5/101.1 MB 830.8 kB/s eta 0:01:46\n",
      "   ----- --------------------------------- 13.6/101.1 MB 830.8 kB/s eta 0:01:46\n",
      "   ----- --------------------------------- 13.6/101.1 MB 830.8 kB/s eta 0:01:46\n",
      "   ----- --------------------------------- 13.7/101.1 MB 830.8 kB/s eta 0:01:46\n",
      "   ----- --------------------------------- 13.8/101.1 MB 829.8 kB/s eta 0:01:46\n",
      "   ----- --------------------------------- 13.8/101.1 MB 829.8 kB/s eta 0:01:46\n",
      "   ----- --------------------------------- 13.9/101.1 MB 830.9 kB/s eta 0:01:45\n",
      "   ----- --------------------------------- 13.9/101.1 MB 830.9 kB/s eta 0:01:45\n",
      "   ----- --------------------------------- 14.0/101.1 MB 830.8 kB/s eta 0:01:45\n",
      "   ----- --------------------------------- 14.0/101.1 MB 830.8 kB/s eta 0:01:45\n",
      "   ----- --------------------------------- 14.1/101.1 MB 829.8 kB/s eta 0:01:45\n",
      "   ----- --------------------------------- 14.1/101.1 MB 825.6 kB/s eta 0:01:46\n",
      "   ----- --------------------------------- 14.2/101.1 MB 826.6 kB/s eta 0:01:46\n",
      "   ----- --------------------------------- 14.2/101.1 MB 825.6 kB/s eta 0:01:46\n",
      "   ----- --------------------------------- 14.3/101.1 MB 825.6 kB/s eta 0:01:46\n",
      "   ----- --------------------------------- 14.3/101.1 MB 825.6 kB/s eta 0:01:46\n",
      "   ----- --------------------------------- 14.3/101.1 MB 825.6 kB/s eta 0:01:46\n",
      "   ----- --------------------------------- 14.4/101.1 MB 828.7 kB/s eta 0:01:45\n",
      "   ----- --------------------------------- 14.4/101.1 MB 828.7 kB/s eta 0:01:45\n",
      "   ----- --------------------------------- 14.4/101.1 MB 826.6 kB/s eta 0:01:45\n",
      "   ----- --------------------------------- 14.5/101.1 MB 825.6 kB/s eta 0:01:45\n",
      "   ----- --------------------------------- 14.5/101.1 MB 825.6 kB/s eta 0:01:45\n",
      "   ----- --------------------------------- 14.5/101.1 MB 825.6 kB/s eta 0:01:45\n",
      "   ----- --------------------------------- 14.6/101.1 MB 824.6 kB/s eta 0:01:45\n",
      "   ----- --------------------------------- 14.6/101.1 MB 828.7 kB/s eta 0:01:45\n",
      "   ----- --------------------------------- 14.6/101.1 MB 828.7 kB/s eta 0:01:45\n",
      "   ----- --------------------------------- 14.7/101.1 MB 829.8 kB/s eta 0:01:45\n",
      "   ----- --------------------------------- 14.7/101.1 MB 830.8 kB/s eta 0:01:44\n",
      "   ----- --------------------------------- 14.8/101.1 MB 832.0 kB/s eta 0:01:44\n",
      "   ----- --------------------------------- 14.8/101.1 MB 833.0 kB/s eta 0:01:44\n",
      "   ----- --------------------------------- 14.8/101.1 MB 835.1 kB/s eta 0:01:44\n",
      "   ----- --------------------------------- 14.9/101.1 MB 837.2 kB/s eta 0:01:44\n",
      "   ----- --------------------------------- 14.9/101.1 MB 840.4 kB/s eta 0:01:43\n",
      "   ----- --------------------------------- 15.0/101.1 MB 842.6 kB/s eta 0:01:43\n",
      "   ----- --------------------------------- 15.0/101.1 MB 844.7 kB/s eta 0:01:42\n",
      "   ----- --------------------------------- 15.1/101.1 MB 844.8 kB/s eta 0:01:42\n",
      "   ----- --------------------------------- 15.1/101.1 MB 845.9 kB/s eta 0:01:42\n",
      "   ----- --------------------------------- 15.1/101.1 MB 847.0 kB/s eta 0:01:42\n",
      "   ----- --------------------------------- 15.2/101.1 MB 849.2 kB/s eta 0:01:42\n",
      "   ----- --------------------------------- 15.2/101.1 MB 852.5 kB/s eta 0:01:41\n",
      "   ----- --------------------------------- 15.3/101.1 MB 851.3 kB/s eta 0:01:41\n",
      "   ----- --------------------------------- 15.3/101.1 MB 853.6 kB/s eta 0:01:41\n",
      "   ----- --------------------------------- 15.3/101.1 MB 851.3 kB/s eta 0:01:41\n",
      "   ----- --------------------------------- 15.4/101.1 MB 854.7 kB/s eta 0:01:41\n",
      "   ----- --------------------------------- 15.4/101.1 MB 856.9 kB/s eta 0:01:40\n",
      "   ----- --------------------------------- 15.5/101.1 MB 860.3 kB/s eta 0:01:40\n",
      "   ----- --------------------------------- 15.6/101.1 MB 863.7 kB/s eta 0:01:40\n",
      "   ------ -------------------------------- 15.6/101.1 MB 867.2 kB/s eta 0:01:39\n",
      "   ------ -------------------------------- 15.7/101.1 MB 870.6 kB/s eta 0:01:39\n",
      "   ------ -------------------------------- 15.7/101.1 MB 874.1 kB/s eta 0:01:38\n",
      "   ------ -------------------------------- 15.8/101.1 MB 876.4 kB/s eta 0:01:38\n",
      "   ------ -------------------------------- 15.8/101.1 MB 880.0 kB/s eta 0:01:37\n",
      "   ------ -------------------------------- 15.9/101.1 MB 883.6 kB/s eta 0:01:37\n",
      "   ------ -------------------------------- 16.0/101.1 MB 884.7 kB/s eta 0:01:37\n",
      "   ------ -------------------------------- 16.0/101.1 MB 888.3 kB/s eta 0:01:36\n",
      "   ------ -------------------------------- 16.1/101.1 MB 888.3 kB/s eta 0:01:36\n",
      "   ------ -------------------------------- 16.1/101.1 MB 890.8 kB/s eta 0:01:36\n",
      "   ------ -------------------------------- 16.2/101.1 MB 893.2 kB/s eta 0:01:36\n",
      "   ------ -------------------------------- 16.3/101.1 MB 894.4 kB/s eta 0:01:35\n",
      "   ------ -------------------------------- 16.3/101.1 MB 898.1 kB/s eta 0:01:35\n",
      "   ------ -------------------------------- 16.4/101.1 MB 899.3 kB/s eta 0:01:35\n",
      "   ------ -------------------------------- 16.5/101.1 MB 900.6 kB/s eta 0:01:35\n",
      "   ------ -------------------------------- 16.5/101.1 MB 903.0 kB/s eta 0:01:34\n",
      "   ------ -------------------------------- 16.6/101.1 MB 904.3 kB/s eta 0:01:34\n",
      "   ------ -------------------------------- 16.6/101.1 MB 904.2 kB/s eta 0:01:34\n",
      "   ------ -------------------------------- 16.7/101.1 MB 905.5 kB/s eta 0:01:34\n",
      "   ------ -------------------------------- 16.8/101.1 MB 906.7 kB/s eta 0:01:34\n",
      "   ------ -------------------------------- 16.8/101.1 MB 906.8 kB/s eta 0:01:33\n",
      "   ------ -------------------------------- 16.9/101.1 MB 909.3 kB/s eta 0:01:33\n",
      "   ------ -------------------------------- 17.0/101.1 MB 909.3 kB/s eta 0:01:33\n",
      "   ------ -------------------------------- 17.0/101.1 MB 909.3 kB/s eta 0:01:33\n",
      "   ------ -------------------------------- 17.1/101.1 MB 909.3 kB/s eta 0:01:33\n",
      "   ------ -------------------------------- 17.2/101.1 MB 910.5 kB/s eta 0:01:33\n",
      "   ------ -------------------------------- 17.2/101.1 MB 910.6 kB/s eta 0:01:33\n",
      "   ------ -------------------------------- 17.3/101.1 MB 913.1 kB/s eta 0:01:32\n",
      "   ------ -------------------------------- 17.4/101.1 MB 913.1 kB/s eta 0:01:32\n",
      "   ------ -------------------------------- 17.4/101.1 MB 914.4 kB/s eta 0:01:32\n",
      "   ------ -------------------------------- 17.5/101.1 MB 914.4 kB/s eta 0:01:32\n",
      "   ------ -------------------------------- 17.6/101.1 MB 914.4 kB/s eta 0:01:32\n",
      "   ------ -------------------------------- 17.6/101.1 MB 914.4 kB/s eta 0:01:32\n",
      "   ------ -------------------------------- 17.7/101.1 MB 913.1 kB/s eta 0:01:32\n",
      "   ------ -------------------------------- 17.7/101.1 MB 913.1 kB/s eta 0:01:32\n",
      "   ------ -------------------------------- 17.8/101.1 MB 909.3 kB/s eta 0:01:32\n",
      "   ------ -------------------------------- 17.8/101.1 MB 906.8 kB/s eta 0:01:32\n",
      "   ------ -------------------------------- 17.8/101.1 MB 906.8 kB/s eta 0:01:32\n",
      "   ------ -------------------------------- 17.9/101.1 MB 905.5 kB/s eta 0:01:32\n",
      "   ------ -------------------------------- 18.0/101.1 MB 905.5 kB/s eta 0:01:32\n",
      "   ------ -------------------------------- 18.0/101.1 MB 904.3 kB/s eta 0:01:32\n",
      "   ------ -------------------------------- 18.1/101.1 MB 903.0 kB/s eta 0:01:32\n",
      "   ------ -------------------------------- 18.1/101.1 MB 903.0 kB/s eta 0:01:32\n",
      "   ------- ------------------------------- 18.2/101.1 MB 903.0 kB/s eta 0:01:32\n",
      "   ------- ------------------------------- 18.2/101.1 MB 903.0 kB/s eta 0:01:32\n",
      "   ------- ------------------------------- 18.3/101.1 MB 903.0 kB/s eta 0:01:32\n",
      "   ------- ------------------------------- 18.4/101.1 MB 908.0 kB/s eta 0:01:32\n",
      "   ------- ------------------------------- 18.4/101.1 MB 905.5 kB/s eta 0:01:32\n",
      "   ------- ------------------------------- 18.5/101.1 MB 909.3 kB/s eta 0:01:31\n",
      "   ------- ------------------------------- 18.5/101.1 MB 909.3 kB/s eta 0:01:31\n",
      "   ------- ------------------------------- 18.5/101.1 MB 906.8 kB/s eta 0:01:32\n",
      "   ------- ------------------------------- 18.6/101.1 MB 904.2 kB/s eta 0:01:32\n",
      "   ------- ------------------------------- 18.6/101.1 MB 903.0 kB/s eta 0:01:32\n",
      "   ------- ------------------------------- 18.7/101.1 MB 903.0 kB/s eta 0:01:32\n",
      "   ------- ------------------------------- 18.7/101.1 MB 905.5 kB/s eta 0:01:32\n",
      "   ------- ------------------------------- 18.7/101.1 MB 900.6 kB/s eta 0:01:32\n",
      "   ------- ------------------------------- 18.8/101.1 MB 903.0 kB/s eta 0:01:32\n",
      "   ------- ------------------------------- 18.9/101.1 MB 904.3 kB/s eta 0:01:31\n",
      "   ------- ------------------------------- 18.9/101.1 MB 903.0 kB/s eta 0:01:32\n",
      "   ------- ------------------------------- 18.9/101.1 MB 901.8 kB/s eta 0:01:32\n",
      "   ------- ------------------------------- 19.0/101.1 MB 903.0 kB/s eta 0:01:31\n",
      "   ------- ------------------------------- 19.0/101.1 MB 901.8 kB/s eta 0:01:32\n",
      "   ------- ------------------------------- 19.1/101.1 MB 901.8 kB/s eta 0:01:31\n",
      "   ------- ------------------------------- 19.1/101.1 MB 900.6 kB/s eta 0:01:32\n",
      "   ------- ------------------------------- 19.1/101.1 MB 900.5 kB/s eta 0:01:32\n",
      "   ------- ------------------------------- 19.2/101.1 MB 896.9 kB/s eta 0:01:32\n",
      "   ------- ------------------------------- 19.2/101.1 MB 895.6 kB/s eta 0:01:32\n",
      "   ------- ------------------------------- 19.3/101.1 MB 894.4 kB/s eta 0:01:32\n",
      "   ------- ------------------------------- 19.3/101.1 MB 895.7 kB/s eta 0:01:32\n",
      "   ------- ------------------------------- 19.4/101.1 MB 894.4 kB/s eta 0:01:32\n",
      "   ------- ------------------------------- 19.4/101.1 MB 895.6 kB/s eta 0:01:32\n",
      "   ------- ------------------------------- 19.5/101.1 MB 895.6 kB/s eta 0:01:32\n",
      "   ------- ------------------------------- 19.5/101.1 MB 894.4 kB/s eta 0:01:32\n",
      "   ------- ------------------------------- 19.6/101.1 MB 895.6 kB/s eta 0:01:32\n",
      "   ------- ------------------------------- 19.6/101.1 MB 891.9 kB/s eta 0:01:32\n",
      "   ------- ------------------------------- 19.6/101.1 MB 891.9 kB/s eta 0:01:32\n",
      "   ------- ------------------------------- 19.7/101.1 MB 890.8 kB/s eta 0:01:32\n",
      "   ------- ------------------------------- 19.7/101.1 MB 888.4 kB/s eta 0:01:32\n",
      "   ------- ------------------------------- 19.8/101.1 MB 888.4 kB/s eta 0:01:32\n",
      "   ------- ------------------------------- 19.8/101.1 MB 888.4 kB/s eta 0:01:32\n",
      "   ------- ------------------------------- 19.9/101.1 MB 887.2 kB/s eta 0:01:32\n",
      "   ------- ------------------------------- 19.9/101.1 MB 888.3 kB/s eta 0:01:32\n",
      "   ------- ------------------------------- 19.9/101.1 MB 884.7 kB/s eta 0:01:32\n",
      "   ------- ------------------------------- 20.0/101.1 MB 889.5 kB/s eta 0:01:32\n",
      "   ------- ------------------------------- 20.0/101.1 MB 890.7 kB/s eta 0:01:32\n",
      "   ------- ------------------------------- 20.1/101.1 MB 893.2 kB/s eta 0:01:31\n",
      "   ------- ------------------------------- 20.1/101.1 MB 894.4 kB/s eta 0:01:31\n",
      "   ------- ------------------------------- 20.2/101.1 MB 896.9 kB/s eta 0:01:31\n",
      "   ------- ------------------------------- 20.2/101.1 MB 894.4 kB/s eta 0:01:31\n",
      "   ------- ------------------------------- 20.2/101.1 MB 900.5 kB/s eta 0:01:30\n",
      "   ------- ------------------------------- 20.3/101.1 MB 900.5 kB/s eta 0:01:30\n",
      "   ------- ------------------------------- 20.3/101.1 MB 905.5 kB/s eta 0:01:30\n",
      "   ------- ------------------------------- 20.4/101.1 MB 909.3 kB/s eta 0:01:29\n",
      "   ------- ------------------------------- 20.4/101.1 MB 914.4 kB/s eta 0:01:29\n",
      "   ------- ------------------------------- 20.5/101.1 MB 917.0 kB/s eta 0:01:28\n",
      "   ------- ------------------------------- 20.5/101.1 MB 922.2 kB/s eta 0:01:28\n",
      "   ------- ------------------------------- 20.6/101.1 MB 926.0 kB/s eta 0:01:27\n",
      "   ------- ------------------------------- 20.6/101.1 MB 928.7 kB/s eta 0:01:27\n",
      "   ------- ------------------------------- 20.7/101.1 MB 931.2 kB/s eta 0:01:27\n",
      "   -------- ------------------------------ 20.8/101.1 MB 935.2 kB/s eta 0:01:26\n",
      "   -------- ------------------------------ 20.8/101.1 MB 936.6 kB/s eta 0:01:26\n",
      "   -------- ------------------------------ 20.9/101.1 MB 939.4 kB/s eta 0:01:26\n",
      "   -------- ------------------------------ 20.9/101.1 MB 942.1 kB/s eta 0:01:26\n",
      "   -------- ------------------------------ 21.0/101.1 MB 946.1 kB/s eta 0:01:25\n",
      "   -------- ------------------------------ 21.0/101.1 MB 947.5 kB/s eta 0:01:25\n",
      "   -------- ------------------------------ 21.1/101.1 MB 948.9 kB/s eta 0:01:25\n",
      "   -------- ------------------------------ 21.2/101.1 MB 952.9 kB/s eta 0:01:24\n",
      "   -------- ------------------------------ 21.2/101.1 MB 954.4 kB/s eta 0:01:24\n",
      "   -------- ------------------------------ 21.3/101.1 MB 960.0 kB/s eta 0:01:24\n",
      "   -------- ------------------------------ 21.4/101.1 MB 961.4 kB/s eta 0:01:23\n",
      "   -------- ------------------------------ 21.4/101.1 MB 967.1 kB/s eta 0:01:23\n",
      "   -------- ------------------------------ 21.4/101.1 MB 969.9 kB/s eta 0:01:23\n",
      "   -------- ------------------------------ 21.5/101.1 MB 969.9 kB/s eta 0:01:23\n",
      "   -------- ------------------------------ 21.5/101.1 MB 969.9 kB/s eta 0:01:23\n",
      "   -------- ------------------------------ 21.6/101.1 MB 969.9 kB/s eta 0:01:23\n",
      "   -------- ------------------------------ 21.6/101.1 MB 971.4 kB/s eta 0:01:22\n",
      "   -------- ------------------------------ 21.7/101.1 MB 972.8 kB/s eta 0:01:22\n",
      "   -------- ------------------------------ 21.7/101.1 MB 972.8 kB/s eta 0:01:22\n",
      "   -------- ------------------------------ 21.7/101.1 MB 981.6 kB/s eta 0:01:21\n",
      "   -------- ------------------------------ 21.8/101.1 MB 978.6 kB/s eta 0:01:22\n",
      "   -------- ------------------------------ 21.9/101.1 MB 983.1 kB/s eta 0:01:21\n",
      "   -------- ------------------------------ 21.9/101.1 MB 993.5 kB/s eta 0:01:20\n",
      "   -------- ------------------------------ 21.9/101.1 MB 998.0 kB/s eta 0:01:20\n",
      "   -------- ------------------------------- 22.0/101.1 MB 1.0 MB/s eta 0:01:19\n",
      "   -------- ------------------------------- 22.1/101.1 MB 1.0 MB/s eta 0:01:18\n",
      "   -------- ------------------------------- 22.1/101.1 MB 1.0 MB/s eta 0:01:18\n",
      "   -------- ------------------------------- 22.2/101.1 MB 1.0 MB/s eta 0:01:17\n",
      "   -------- ------------------------------- 22.2/101.1 MB 1.0 MB/s eta 0:01:17\n",
      "   -------- ------------------------------- 22.3/101.1 MB 1.0 MB/s eta 0:01:16\n",
      "   -------- ------------------------------- 22.3/101.1 MB 1.0 MB/s eta 0:01:16\n",
      "   -------- ------------------------------- 22.4/101.1 MB 1.1 MB/s eta 0:01:15\n",
      "   -------- ------------------------------- 22.5/101.1 MB 1.1 MB/s eta 0:01:15\n",
      "   -------- ------------------------------- 22.5/101.1 MB 1.1 MB/s eta 0:01:15\n",
      "   -------- ------------------------------- 22.6/101.1 MB 1.1 MB/s eta 0:01:14\n",
      "   -------- ------------------------------- 22.6/101.1 MB 1.1 MB/s eta 0:01:14\n",
      "   -------- ------------------------------- 22.6/101.1 MB 1.1 MB/s eta 0:01:14\n",
      "   -------- ------------------------------- 22.6/101.1 MB 1.1 MB/s eta 0:01:14\n",
      "   -------- ------------------------------- 22.6/101.1 MB 1.1 MB/s eta 0:01:14\n",
      "   -------- ------------------------------- 22.6/101.1 MB 1.1 MB/s eta 0:01:14\n",
      "   -------- ------------------------------- 22.6/101.1 MB 1.0 MB/s eta 0:01:16\n",
      "   -------- ------------------------------- 22.7/101.1 MB 1.0 MB/s eta 0:01:16\n",
      "   -------- ------------------------------- 22.7/101.1 MB 1.0 MB/s eta 0:01:16\n",
      "   -------- ------------------------------- 22.7/101.1 MB 1.0 MB/s eta 0:01:16\n",
      "   -------- ------------------------------- 22.7/101.1 MB 1.0 MB/s eta 0:01:16\n",
      "   --------- ------------------------------ 22.8/101.1 MB 1.0 MB/s eta 0:01:17\n",
      "   --------- ------------------------------ 22.8/101.1 MB 1.0 MB/s eta 0:01:16\n",
      "   --------- ------------------------------ 22.8/101.1 MB 1.0 MB/s eta 0:01:16\n",
      "   --------- ------------------------------ 22.9/101.1 MB 1.0 MB/s eta 0:01:16\n",
      "   --------- ------------------------------ 22.9/101.1 MB 1.0 MB/s eta 0:01:16\n",
      "   --------- ------------------------------ 23.0/101.1 MB 1.0 MB/s eta 0:01:16\n",
      "   --------- ------------------------------ 23.0/101.1 MB 1.0 MB/s eta 0:01:16\n",
      "   --------- ------------------------------ 23.1/101.1 MB 1.0 MB/s eta 0:01:16\n",
      "   --------- ------------------------------ 23.1/101.1 MB 1.0 MB/s eta 0:01:16\n",
      "   --------- ------------------------------ 23.2/101.1 MB 1.0 MB/s eta 0:01:16\n",
      "   --------- ------------------------------ 23.2/101.1 MB 1.0 MB/s eta 0:01:16\n",
      "   --------- ------------------------------ 23.3/101.1 MB 1.0 MB/s eta 0:01:16\n",
      "   --------- ------------------------------ 23.3/101.1 MB 1.0 MB/s eta 0:01:16\n",
      "   --------- ------------------------------ 23.4/101.1 MB 1.0 MB/s eta 0:01:16\n",
      "   --------- ------------------------------ 23.4/101.1 MB 1.0 MB/s eta 0:01:16\n",
      "   --------- ------------------------------ 23.4/101.1 MB 1.0 MB/s eta 0:01:16\n",
      "   --------- ------------------------------ 23.5/101.1 MB 1.0 MB/s eta 0:01:16\n",
      "   --------- ------------------------------ 23.5/101.1 MB 1.0 MB/s eta 0:01:16\n",
      "   --------- ------------------------------ 23.6/101.1 MB 1.0 MB/s eta 0:01:16\n",
      "   --------- ------------------------------ 23.6/101.1 MB 1.0 MB/s eta 0:01:16\n",
      "   --------- ------------------------------ 23.7/101.1 MB 1.0 MB/s eta 0:01:16\n",
      "   --------- ------------------------------ 23.7/101.1 MB 1.0 MB/s eta 0:01:16\n",
      "   --------- ------------------------------ 23.8/101.1 MB 1.0 MB/s eta 0:01:16\n",
      "   --------- ------------------------------ 23.8/101.1 MB 1.0 MB/s eta 0:01:16\n",
      "   --------- ------------------------------ 23.9/101.1 MB 1.0 MB/s eta 0:01:16\n",
      "   --------- ------------------------------ 23.9/101.1 MB 1.0 MB/s eta 0:01:16\n",
      "   --------- ------------------------------ 24.0/101.1 MB 1.0 MB/s eta 0:01:16\n",
      "   --------- ------------------------------ 24.0/101.1 MB 1.0 MB/s eta 0:01:16\n",
      "   --------- ------------------------------ 24.1/101.1 MB 1.0 MB/s eta 0:01:16\n",
      "   --------- ------------------------------ 24.2/101.1 MB 1.0 MB/s eta 0:01:16\n",
      "   --------- ------------------------------ 24.2/101.1 MB 1.0 MB/s eta 0:01:16\n",
      "   --------- ------------------------------ 24.3/101.1 MB 1.0 MB/s eta 0:01:15\n",
      "   --------- ------------------------------ 24.4/101.1 MB 1.0 MB/s eta 0:01:15\n",
      "   --------- ------------------------------ 24.4/101.1 MB 1.0 MB/s eta 0:01:15\n",
      "   --------- ------------------------------ 24.5/101.1 MB 1.0 MB/s eta 0:01:15\n",
      "   --------- ------------------------------ 24.6/101.1 MB 1.0 MB/s eta 0:01:15\n",
      "   --------- ------------------------------ 24.6/101.1 MB 1.0 MB/s eta 0:01:14\n",
      "   --------- ------------------------------ 24.7/101.1 MB 1.0 MB/s eta 0:01:14\n",
      "   --------- ------------------------------ 24.7/101.1 MB 1.0 MB/s eta 0:01:14\n",
      "   --------- ------------------------------ 24.7/101.1 MB 1.0 MB/s eta 0:01:13\n",
      "   --------- ------------------------------ 24.8/101.1 MB 1.0 MB/s eta 0:01:14\n",
      "   --------- ------------------------------ 24.8/101.1 MB 1.0 MB/s eta 0:01:14\n",
      "   --------- ------------------------------ 24.9/101.1 MB 1.0 MB/s eta 0:01:13\n",
      "   --------- ------------------------------ 24.9/101.1 MB 1.0 MB/s eta 0:01:13\n",
      "   --------- ------------------------------ 25.0/101.1 MB 1.1 MB/s eta 0:01:13\n",
      "   --------- ------------------------------ 25.0/101.1 MB 1.1 MB/s eta 0:01:13\n",
      "   --------- ------------------------------ 25.1/101.1 MB 1.1 MB/s eta 0:01:13\n",
      "   --------- ------------------------------ 25.1/101.1 MB 1.1 MB/s eta 0:01:13\n",
      "   --------- ------------------------------ 25.2/101.1 MB 1.1 MB/s eta 0:01:12\n",
      "   --------- ------------------------------ 25.2/101.1 MB 1.1 MB/s eta 0:01:12\n",
      "   ---------- ----------------------------- 25.3/101.1 MB 1.1 MB/s eta 0:01:12\n",
      "   ---------- ----------------------------- 25.4/101.1 MB 1.1 MB/s eta 0:01:12\n",
      "   ---------- ----------------------------- 25.4/101.1 MB 1.1 MB/s eta 0:01:12\n",
      "   ---------- ----------------------------- 25.5/101.1 MB 1.1 MB/s eta 0:01:12\n",
      "   ---------- ----------------------------- 25.5/101.1 MB 1.1 MB/s eta 0:01:12\n",
      "   ---------- ----------------------------- 25.6/101.1 MB 1.1 MB/s eta 0:01:11\n",
      "   ---------- ----------------------------- 25.7/101.1 MB 1.1 MB/s eta 0:01:11\n",
      "   ---------- ----------------------------- 25.7/101.1 MB 1.1 MB/s eta 0:01:11\n",
      "   ---------- ----------------------------- 25.8/101.1 MB 1.1 MB/s eta 0:01:11\n",
      "   ---------- ----------------------------- 25.8/101.1 MB 1.1 MB/s eta 0:01:11\n",
      "   ---------- ----------------------------- 25.9/101.1 MB 1.1 MB/s eta 0:01:11\n",
      "   ---------- ----------------------------- 25.9/101.1 MB 1.1 MB/s eta 0:01:11\n",
      "   ---------- ----------------------------- 25.9/101.1 MB 1.1 MB/s eta 0:01:11\n",
      "   ---------- ----------------------------- 26.0/101.1 MB 1.1 MB/s eta 0:01:11\n",
      "   ---------- ----------------------------- 26.0/101.1 MB 1.1 MB/s eta 0:01:11\n",
      "   ---------- ----------------------------- 26.1/101.1 MB 1.1 MB/s eta 0:01:11\n",
      "   ---------- ----------------------------- 26.2/101.1 MB 1.1 MB/s eta 0:01:11\n",
      "   ---------- ----------------------------- 26.2/101.1 MB 1.1 MB/s eta 0:01:11\n",
      "   ---------- ----------------------------- 26.3/101.1 MB 1.1 MB/s eta 0:01:11\n",
      "   ---------- ----------------------------- 26.4/101.1 MB 1.1 MB/s eta 0:01:10\n",
      "   ---------- ----------------------------- 26.4/101.1 MB 1.1 MB/s eta 0:01:10\n",
      "   ---------- ----------------------------- 26.5/101.1 MB 1.1 MB/s eta 0:01:10\n",
      "   ---------- ----------------------------- 26.6/101.1 MB 1.1 MB/s eta 0:01:10\n",
      "   ---------- ----------------------------- 26.6/101.1 MB 1.1 MB/s eta 0:01:10\n",
      "   ---------- ----------------------------- 26.7/101.1 MB 1.1 MB/s eta 0:01:10\n",
      "   ---------- ----------------------------- 26.7/101.1 MB 1.1 MB/s eta 0:01:10\n",
      "   ---------- ----------------------------- 26.8/101.1 MB 1.1 MB/s eta 0:01:10\n",
      "   ---------- ----------------------------- 26.8/101.1 MB 1.1 MB/s eta 0:01:10\n",
      "   ---------- ----------------------------- 26.9/101.1 MB 1.1 MB/s eta 0:01:10\n",
      "   ---------- ----------------------------- 26.9/101.1 MB 1.1 MB/s eta 0:01:11\n",
      "   ---------- ----------------------------- 27.0/101.1 MB 1.1 MB/s eta 0:01:10\n",
      "   ---------- ----------------------------- 27.0/101.1 MB 1.1 MB/s eta 0:01:10\n",
      "   ---------- ----------------------------- 27.1/101.1 MB 1.1 MB/s eta 0:01:10\n",
      "   ---------- ----------------------------- 27.1/101.1 MB 1.1 MB/s eta 0:01:11\n",
      "   ---------- ----------------------------- 27.1/101.1 MB 1.1 MB/s eta 0:01:11\n",
      "   ---------- ----------------------------- 27.2/101.1 MB 1.1 MB/s eta 0:01:11\n",
      "   ---------- ----------------------------- 27.2/101.1 MB 1.1 MB/s eta 0:01:11\n",
      "   ---------- ----------------------------- 27.3/101.1 MB 1.1 MB/s eta 0:01:11\n",
      "   ---------- ----------------------------- 27.4/101.1 MB 1.1 MB/s eta 0:01:11\n",
      "   ---------- ----------------------------- 27.4/101.1 MB 1.0 MB/s eta 0:01:11\n",
      "   ---------- ----------------------------- 27.4/101.1 MB 1.0 MB/s eta 0:01:11\n",
      "   ---------- ----------------------------- 27.5/101.1 MB 1.0 MB/s eta 0:01:11\n",
      "   ---------- ----------------------------- 27.6/101.1 MB 1.0 MB/s eta 0:01:11\n",
      "   ---------- ----------------------------- 27.6/101.1 MB 1.0 MB/s eta 0:01:11\n",
      "   ---------- ----------------------------- 27.7/101.1 MB 1.0 MB/s eta 0:01:11\n",
      "   ---------- ----------------------------- 27.7/101.1 MB 1.0 MB/s eta 0:01:11\n",
      "   ---------- ----------------------------- 27.8/101.1 MB 1.0 MB/s eta 0:01:11\n",
      "   ----------- ---------------------------- 27.8/101.1 MB 1.0 MB/s eta 0:01:11\n",
      "   ----------- ---------------------------- 27.9/101.1 MB 1.0 MB/s eta 0:01:11\n",
      "   ----------- ---------------------------- 27.9/101.1 MB 1.0 MB/s eta 0:01:11\n",
      "   ----------- ---------------------------- 28.0/101.1 MB 1.0 MB/s eta 0:01:11\n",
      "   ----------- ---------------------------- 28.0/101.1 MB 1.0 MB/s eta 0:01:11\n",
      "   ----------- ---------------------------- 28.0/101.1 MB 1.0 MB/s eta 0:01:10\n",
      "   ----------- ---------------------------- 28.1/101.1 MB 1.0 MB/s eta 0:01:11\n",
      "   ----------- ---------------------------- 28.1/101.1 MB 1.0 MB/s eta 0:01:11\n",
      "   ----------- ---------------------------- 28.2/101.1 MB 1.0 MB/s eta 0:01:11\n",
      "   ----------- ---------------------------- 28.2/101.1 MB 1.0 MB/s eta 0:01:11\n",
      "   ----------- ---------------------------- 28.3/101.1 MB 1.0 MB/s eta 0:01:11\n",
      "   ----------- ---------------------------- 28.3/101.1 MB 1.0 MB/s eta 0:01:11\n",
      "   ----------- ---------------------------- 28.3/101.1 MB 1.0 MB/s eta 0:01:11\n",
      "   ----------- ---------------------------- 28.4/101.1 MB 1.0 MB/s eta 0:01:11\n",
      "   ----------- ---------------------------- 28.4/101.1 MB 1.0 MB/s eta 0:01:11\n",
      "   ----------- ---------------------------- 28.5/101.1 MB 1.0 MB/s eta 0:01:11\n",
      "   ----------- ---------------------------- 28.5/101.1 MB 1.0 MB/s eta 0:01:11\n",
      "   ----------- ---------------------------- 28.6/101.1 MB 1.0 MB/s eta 0:01:11\n",
      "   ----------- ---------------------------- 28.6/101.1 MB 1.0 MB/s eta 0:01:11\n",
      "   ----------- ---------------------------- 28.7/101.1 MB 1.0 MB/s eta 0:01:11\n",
      "   ----------- ---------------------------- 28.7/101.1 MB 1.0 MB/s eta 0:01:11\n",
      "   ----------- ---------------------------- 28.8/101.1 MB 1.0 MB/s eta 0:01:11\n",
      "   ----------- ---------------------------- 28.8/101.1 MB 1.0 MB/s eta 0:01:10\n",
      "   ----------- ---------------------------- 28.9/101.1 MB 1.0 MB/s eta 0:01:10\n",
      "   ----------- ---------------------------- 28.9/101.1 MB 1.0 MB/s eta 0:01:10\n",
      "   ----------- ---------------------------- 29.0/101.1 MB 1.0 MB/s eta 0:01:10\n",
      "   ----------- ---------------------------- 29.1/101.1 MB 1.0 MB/s eta 0:01:10\n",
      "   ----------- ---------------------------- 29.1/101.1 MB 1.0 MB/s eta 0:01:10\n",
      "   ----------- ---------------------------- 29.2/101.1 MB 1.0 MB/s eta 0:01:10\n",
      "   ----------- ---------------------------- 29.2/101.1 MB 1.0 MB/s eta 0:01:09\n",
      "   ----------- ---------------------------- 29.3/101.1 MB 1.0 MB/s eta 0:01:09\n",
      "   ----------- ---------------------------- 29.4/101.1 MB 1.0 MB/s eta 0:01:09\n",
      "   ----------- ---------------------------- 29.4/101.1 MB 1.1 MB/s eta 0:01:09\n",
      "   ----------- ---------------------------- 29.5/101.1 MB 1.1 MB/s eta 0:01:08\n",
      "   ----------- ---------------------------- 29.6/101.1 MB 1.1 MB/s eta 0:01:08\n",
      "   ----------- ---------------------------- 29.6/101.1 MB 1.1 MB/s eta 0:01:08\n",
      "   ----------- ---------------------------- 29.7/101.1 MB 1.1 MB/s eta 0:01:08\n",
      "   ----------- ---------------------------- 29.7/101.1 MB 1.1 MB/s eta 0:01:08\n",
      "   ----------- ---------------------------- 29.8/101.1 MB 1.1 MB/s eta 0:01:08\n",
      "   ----------- ---------------------------- 29.9/101.1 MB 1.1 MB/s eta 0:01:08\n",
      "   ----------- ---------------------------- 29.9/101.1 MB 1.1 MB/s eta 0:01:07\n",
      "   ----------- ---------------------------- 30.0/101.1 MB 1.1 MB/s eta 0:01:07\n",
      "   ----------- ---------------------------- 30.1/101.1 MB 1.1 MB/s eta 0:01:07\n",
      "   ----------- ---------------------------- 30.1/101.1 MB 1.1 MB/s eta 0:01:06\n",
      "   ----------- ---------------------------- 30.2/101.1 MB 1.1 MB/s eta 0:01:06\n",
      "   ----------- ---------------------------- 30.3/101.1 MB 1.1 MB/s eta 0:01:06\n",
      "   ------------ --------------------------- 30.3/101.1 MB 1.1 MB/s eta 0:01:06\n",
      "   ------------ --------------------------- 30.4/101.1 MB 1.1 MB/s eta 0:01:06\n",
      "   ------------ --------------------------- 30.5/101.1 MB 1.1 MB/s eta 0:01:05\n",
      "   ------------ --------------------------- 30.5/101.1 MB 1.1 MB/s eta 0:01:05\n",
      "   ------------ --------------------------- 30.6/101.1 MB 1.1 MB/s eta 0:01:05\n",
      "   ------------ --------------------------- 30.6/101.1 MB 1.1 MB/s eta 0:01:05\n",
      "   ------------ --------------------------- 30.7/101.1 MB 1.1 MB/s eta 0:01:05\n",
      "   ------------ --------------------------- 30.8/101.1 MB 1.1 MB/s eta 0:01:05\n",
      "   ------------ --------------------------- 30.8/101.1 MB 1.1 MB/s eta 0:01:05\n",
      "   ------------ --------------------------- 30.9/101.1 MB 1.1 MB/s eta 0:01:04\n",
      "   ------------ --------------------------- 31.0/101.1 MB 1.1 MB/s eta 0:01:04\n",
      "   ------------ --------------------------- 31.0/101.1 MB 1.1 MB/s eta 0:01:04\n",
      "   ------------ --------------------------- 31.0/101.1 MB 1.1 MB/s eta 0:01:04\n",
      "   ------------ --------------------------- 31.1/101.1 MB 1.1 MB/s eta 0:01:04\n",
      "   ------------ --------------------------- 31.1/101.1 MB 1.1 MB/s eta 0:01:04\n",
      "   ------------ --------------------------- 31.2/101.1 MB 1.1 MB/s eta 0:01:04\n",
      "   ------------ --------------------------- 31.3/101.1 MB 1.1 MB/s eta 0:01:04\n",
      "   ------------ --------------------------- 31.3/101.1 MB 1.1 MB/s eta 0:01:04\n",
      "   ------------ --------------------------- 31.4/101.1 MB 1.1 MB/s eta 0:01:04\n",
      "   ------------ --------------------------- 31.5/101.1 MB 1.1 MB/s eta 0:01:04\n",
      "   ------------ --------------------------- 31.5/101.1 MB 1.1 MB/s eta 0:01:04\n",
      "   ------------ --------------------------- 31.6/101.1 MB 1.1 MB/s eta 0:01:04\n",
      "   ------------ --------------------------- 31.7/101.1 MB 1.1 MB/s eta 0:01:04\n",
      "   ------------ --------------------------- 31.7/101.1 MB 1.1 MB/s eta 0:01:03\n",
      "   ------------ --------------------------- 31.8/101.1 MB 1.1 MB/s eta 0:01:03\n",
      "   ------------ --------------------------- 31.9/101.1 MB 1.1 MB/s eta 0:01:03\n",
      "   ------------ --------------------------- 31.9/101.1 MB 1.1 MB/s eta 0:01:03\n",
      "   ------------ --------------------------- 32.0/101.1 MB 1.1 MB/s eta 0:01:02\n",
      "   ------------ --------------------------- 32.0/101.1 MB 1.1 MB/s eta 0:01:02\n",
      "   ------------ --------------------------- 32.1/101.1 MB 1.1 MB/s eta 0:01:02\n",
      "   ------------ --------------------------- 32.2/101.1 MB 1.1 MB/s eta 0:01:02\n",
      "   ------------ --------------------------- 32.3/101.1 MB 1.1 MB/s eta 0:01:02\n",
      "   ------------ --------------------------- 32.3/101.1 MB 1.1 MB/s eta 0:01:02\n",
      "   ------------ --------------------------- 32.4/101.1 MB 1.1 MB/s eta 0:01:02\n",
      "   ------------ --------------------------- 32.4/101.1 MB 1.1 MB/s eta 0:01:02\n",
      "   ------------ --------------------------- 32.5/101.1 MB 1.1 MB/s eta 0:01:02\n",
      "   ------------ --------------------------- 32.6/101.1 MB 1.1 MB/s eta 0:01:02\n",
      "   ------------ --------------------------- 32.6/101.1 MB 1.1 MB/s eta 0:01:02\n",
      "   ------------ --------------------------- 32.7/101.1 MB 1.1 MB/s eta 0:01:01\n",
      "   ------------ --------------------------- 32.7/101.1 MB 1.1 MB/s eta 0:01:01\n",
      "   ------------ --------------------------- 32.8/101.1 MB 1.2 MB/s eta 0:00:59\n",
      "   ------------- -------------------------- 32.9/101.1 MB 1.2 MB/s eta 0:00:59\n",
      "   ------------- -------------------------- 32.9/101.1 MB 1.2 MB/s eta 0:00:59\n",
      "   ------------- -------------------------- 33.0/101.1 MB 1.2 MB/s eta 0:00:58\n",
      "   ------------- -------------------------- 33.1/101.1 MB 1.2 MB/s eta 0:00:58\n",
      "   ------------- -------------------------- 33.1/101.1 MB 1.2 MB/s eta 0:00:58\n",
      "   ------------- -------------------------- 33.2/101.1 MB 1.2 MB/s eta 0:00:58\n",
      "   ------------- -------------------------- 33.3/101.1 MB 1.2 MB/s eta 0:00:58\n",
      "   ------------- -------------------------- 33.3/101.1 MB 1.2 MB/s eta 0:00:57\n",
      "   ------------- -------------------------- 33.4/101.1 MB 1.2 MB/s eta 0:00:57\n",
      "   ------------- -------------------------- 33.4/101.1 MB 1.2 MB/s eta 0:00:57\n",
      "   ------------- -------------------------- 33.5/101.1 MB 1.2 MB/s eta 0:00:57\n",
      "   ------------- -------------------------- 33.6/101.1 MB 1.2 MB/s eta 0:00:57\n",
      "   ------------- -------------------------- 33.6/101.1 MB 1.2 MB/s eta 0:00:56\n",
      "   ------------- -------------------------- 33.7/101.1 MB 1.2 MB/s eta 0:00:56\n",
      "   ------------- -------------------------- 33.8/101.1 MB 1.2 MB/s eta 0:00:56\n",
      "   ------------- -------------------------- 33.8/101.1 MB 1.2 MB/s eta 0:00:56\n",
      "   ------------- -------------------------- 33.9/101.1 MB 1.2 MB/s eta 0:00:56\n",
      "   ------------- -------------------------- 34.0/101.1 MB 1.2 MB/s eta 0:00:56\n",
      "   ------------- -------------------------- 34.0/101.1 MB 1.2 MB/s eta 0:00:56\n",
      "   ------------- -------------------------- 34.1/101.1 MB 1.2 MB/s eta 0:00:56\n",
      "   ------------- -------------------------- 34.2/101.1 MB 1.2 MB/s eta 0:00:56\n",
      "   ------------- -------------------------- 34.2/101.1 MB 1.2 MB/s eta 0:00:55\n",
      "   ------------- -------------------------- 34.3/101.1 MB 1.2 MB/s eta 0:00:55\n",
      "   ------------- -------------------------- 34.3/101.1 MB 1.2 MB/s eta 0:00:55\n",
      "   ------------- -------------------------- 34.4/101.1 MB 1.2 MB/s eta 0:00:55\n",
      "   ------------- -------------------------- 34.5/101.1 MB 1.2 MB/s eta 0:00:55\n",
      "   ------------- -------------------------- 34.5/101.1 MB 1.2 MB/s eta 0:00:55\n",
      "   ------------- -------------------------- 34.6/101.1 MB 1.2 MB/s eta 0:00:55\n",
      "   ------------- -------------------------- 34.7/101.1 MB 1.2 MB/s eta 0:00:55\n",
      "   ------------- -------------------------- 34.7/101.1 MB 1.2 MB/s eta 0:00:55\n",
      "   ------------- -------------------------- 34.7/101.1 MB 1.2 MB/s eta 0:00:55\n",
      "   ------------- -------------------------- 34.8/101.1 MB 1.2 MB/s eta 0:00:55\n",
      "   ------------- -------------------------- 34.8/101.1 MB 1.2 MB/s eta 0:00:55\n",
      "   ------------- -------------------------- 34.9/101.1 MB 1.2 MB/s eta 0:00:56\n",
      "   ------------- -------------------------- 34.9/101.1 MB 1.2 MB/s eta 0:00:55\n",
      "   ------------- -------------------------- 34.9/101.1 MB 1.2 MB/s eta 0:00:55\n",
      "   ------------- -------------------------- 35.0/101.1 MB 1.2 MB/s eta 0:00:55\n",
      "   ------------- -------------------------- 35.1/101.1 MB 1.2 MB/s eta 0:00:55\n",
      "   ------------- -------------------------- 35.1/101.1 MB 1.2 MB/s eta 0:00:55\n",
      "   ------------- -------------------------- 35.2/101.1 MB 1.2 MB/s eta 0:00:55\n",
      "   ------------- -------------------------- 35.2/101.1 MB 1.2 MB/s eta 0:00:55\n",
      "   ------------- -------------------------- 35.3/101.1 MB 1.2 MB/s eta 0:00:55\n",
      "   ------------- -------------------------- 35.3/101.1 MB 1.2 MB/s eta 0:00:55\n",
      "   ------------- -------------------------- 35.4/101.1 MB 1.2 MB/s eta 0:00:55\n",
      "   -------------- ------------------------- 35.4/101.1 MB 1.2 MB/s eta 0:00:55\n",
      "   -------------- ------------------------- 35.5/101.1 MB 1.2 MB/s eta 0:00:55\n",
      "   -------------- ------------------------- 35.5/101.1 MB 1.2 MB/s eta 0:00:55\n",
      "   -------------- ------------------------- 35.6/101.1 MB 1.2 MB/s eta 0:00:55\n",
      "   -------------- ------------------------- 35.6/101.1 MB 1.2 MB/s eta 0:00:55\n",
      "   -------------- ------------------------- 35.7/101.1 MB 1.2 MB/s eta 0:00:55\n",
      "   -------------- ------------------------- 35.7/101.1 MB 1.2 MB/s eta 0:00:55\n",
      "   -------------- ------------------------- 35.8/101.1 MB 1.2 MB/s eta 0:00:55\n",
      "   -------------- ------------------------- 35.8/101.1 MB 1.2 MB/s eta 0:00:55\n",
      "   -------------- ------------------------- 35.9/101.1 MB 1.2 MB/s eta 0:00:55\n",
      "   -------------- ------------------------- 35.9/101.1 MB 1.2 MB/s eta 0:00:55\n",
      "   -------------- ------------------------- 36.0/101.1 MB 1.2 MB/s eta 0:00:55\n",
      "   -------------- ------------------------- 36.0/101.1 MB 1.2 MB/s eta 0:00:55\n",
      "   -------------- ------------------------- 36.0/101.1 MB 1.2 MB/s eta 0:00:55\n",
      "   -------------- ------------------------- 36.1/101.1 MB 1.2 MB/s eta 0:00:55\n",
      "   -------------- ------------------------- 36.1/101.1 MB 1.2 MB/s eta 0:00:55\n",
      "   -------------- ------------------------- 36.2/101.1 MB 1.2 MB/s eta 0:00:55\n",
      "   -------------- ------------------------- 36.2/101.1 MB 1.2 MB/s eta 0:00:55\n",
      "   -------------- ------------------------- 36.2/101.1 MB 1.2 MB/s eta 0:00:55\n",
      "   -------------- ------------------------- 36.3/101.1 MB 1.2 MB/s eta 0:00:55\n",
      "   -------------- ------------------------- 36.3/101.1 MB 1.2 MB/s eta 0:00:55\n",
      "   -------------- ------------------------- 36.3/101.1 MB 1.2 MB/s eta 0:00:55\n",
      "   -------------- ------------------------- 36.3/101.1 MB 1.2 MB/s eta 0:00:56\n",
      "   -------------- ------------------------- 36.4/101.1 MB 1.2 MB/s eta 0:00:56\n",
      "   -------------- ------------------------- 36.4/101.1 MB 1.2 MB/s eta 0:00:56\n",
      "   -------------- ------------------------- 36.4/101.1 MB 1.2 MB/s eta 0:00:56\n",
      "   -------------- ------------------------- 36.5/101.1 MB 1.2 MB/s eta 0:00:56\n",
      "   -------------- ------------------------- 36.5/101.1 MB 1.2 MB/s eta 0:00:56\n",
      "   -------------- ------------------------- 36.6/101.1 MB 1.2 MB/s eta 0:00:56\n",
      "   -------------- ------------------------- 36.6/101.1 MB 1.2 MB/s eta 0:00:56\n",
      "   -------------- ------------------------- 36.7/101.1 MB 1.2 MB/s eta 0:00:56\n",
      "   -------------- ------------------------- 36.7/101.1 MB 1.2 MB/s eta 0:00:56\n",
      "   -------------- ------------------------- 36.8/101.1 MB 1.2 MB/s eta 0:00:56\n",
      "   -------------- ------------------------- 36.9/101.1 MB 1.2 MB/s eta 0:00:56\n",
      "   -------------- ------------------------- 36.9/101.1 MB 1.2 MB/s eta 0:00:56\n",
      "   -------------- ------------------------- 37.0/101.1 MB 1.1 MB/s eta 0:00:56\n",
      "   -------------- ------------------------- 37.0/101.1 MB 1.2 MB/s eta 0:00:56\n",
      "   -------------- ------------------------- 37.1/101.1 MB 1.2 MB/s eta 0:00:56\n",
      "   -------------- ------------------------- 37.1/101.1 MB 1.2 MB/s eta 0:00:56\n",
      "   -------------- ------------------------- 37.2/101.1 MB 1.2 MB/s eta 0:00:56\n",
      "   -------------- ------------------------- 37.2/101.1 MB 1.2 MB/s eta 0:00:56\n",
      "   -------------- ------------------------- 37.3/101.1 MB 1.2 MB/s eta 0:00:56\n",
      "   -------------- ------------------------- 37.3/101.1 MB 1.2 MB/s eta 0:00:56\n",
      "   -------------- ------------------------- 37.3/101.1 MB 1.2 MB/s eta 0:00:56\n",
      "   -------------- ------------------------- 37.4/101.1 MB 1.2 MB/s eta 0:00:56\n",
      "   -------------- ------------------------- 37.4/101.1 MB 1.2 MB/s eta 0:00:56\n",
      "   -------------- ------------------------- 37.5/101.1 MB 1.2 MB/s eta 0:00:56\n",
      "   -------------- ------------------------- 37.5/101.1 MB 1.2 MB/s eta 0:00:56\n",
      "   -------------- ------------------------- 37.6/101.1 MB 1.2 MB/s eta 0:00:56\n",
      "   -------------- ------------------------- 37.7/101.1 MB 1.2 MB/s eta 0:00:55\n",
      "   -------------- ------------------------- 37.7/101.1 MB 1.2 MB/s eta 0:00:55\n",
      "   -------------- ------------------------- 37.8/101.1 MB 1.2 MB/s eta 0:00:55\n",
      "   -------------- ------------------------- 37.8/101.1 MB 1.2 MB/s eta 0:00:55\n",
      "   -------------- ------------------------- 37.9/101.1 MB 1.2 MB/s eta 0:00:55\n",
      "   --------------- ------------------------ 38.0/101.1 MB 1.2 MB/s eta 0:00:55\n",
      "   --------------- ------------------------ 38.0/101.1 MB 1.2 MB/s eta 0:00:55\n",
      "   --------------- ------------------------ 38.1/101.1 MB 1.2 MB/s eta 0:00:54\n",
      "   --------------- ------------------------ 38.2/101.1 MB 1.2 MB/s eta 0:00:54\n",
      "   --------------- ------------------------ 38.2/101.1 MB 1.2 MB/s eta 0:00:54\n",
      "   --------------- ------------------------ 38.3/101.1 MB 1.2 MB/s eta 0:00:54\n",
      "   --------------- ------------------------ 38.3/101.1 MB 1.2 MB/s eta 0:00:54\n",
      "   --------------- ------------------------ 38.4/101.1 MB 1.2 MB/s eta 0:00:54\n",
      "   --------------- ------------------------ 38.5/101.1 MB 1.2 MB/s eta 0:00:54\n",
      "   --------------- ------------------------ 38.5/101.1 MB 1.2 MB/s eta 0:00:54\n",
      "   --------------- ------------------------ 38.5/101.1 MB 1.2 MB/s eta 0:00:53\n",
      "   --------------- ------------------------ 38.6/101.1 MB 1.2 MB/s eta 0:00:54\n",
      "   --------------- ------------------------ 38.6/101.1 MB 1.2 MB/s eta 0:00:54\n",
      "   --------------- ------------------------ 38.6/101.1 MB 1.2 MB/s eta 0:00:54\n",
      "   --------------- ------------------------ 38.7/101.1 MB 1.2 MB/s eta 0:00:54\n",
      "   --------------- ------------------------ 38.7/101.1 MB 1.2 MB/s eta 0:00:54\n",
      "   --------------- ------------------------ 38.7/101.1 MB 1.2 MB/s eta 0:00:54\n",
      "   --------------- ------------------------ 38.8/101.1 MB 1.2 MB/s eta 0:00:54\n",
      "   --------------- ------------------------ 38.9/101.1 MB 1.2 MB/s eta 0:00:54\n",
      "   --------------- ------------------------ 38.9/101.1 MB 1.2 MB/s eta 0:00:54\n",
      "   --------------- ------------------------ 39.0/101.1 MB 1.2 MB/s eta 0:00:54\n",
      "   --------------- ------------------------ 39.0/101.1 MB 1.2 MB/s eta 0:00:54\n",
      "   --------------- ------------------------ 39.1/101.1 MB 1.2 MB/s eta 0:00:54\n",
      "   --------------- ------------------------ 39.1/101.1 MB 1.2 MB/s eta 0:00:54\n",
      "   --------------- ------------------------ 39.1/101.1 MB 1.2 MB/s eta 0:00:53\n",
      "   --------------- ------------------------ 39.2/101.1 MB 1.2 MB/s eta 0:00:53\n",
      "   --------------- ------------------------ 39.3/101.1 MB 1.2 MB/s eta 0:00:53\n",
      "   --------------- ------------------------ 39.3/101.1 MB 1.2 MB/s eta 0:00:53\n",
      "   --------------- ------------------------ 39.4/101.1 MB 1.2 MB/s eta 0:00:53\n",
      "   --------------- ------------------------ 39.4/101.1 MB 1.2 MB/s eta 0:00:53\n",
      "   --------------- ------------------------ 39.5/101.1 MB 1.2 MB/s eta 0:00:53\n",
      "   --------------- ------------------------ 39.6/101.1 MB 1.2 MB/s eta 0:00:53\n",
      "   --------------- ------------------------ 39.6/101.1 MB 1.2 MB/s eta 0:00:53\n",
      "   --------------- ------------------------ 39.7/101.1 MB 1.2 MB/s eta 0:00:53\n",
      "   --------------- ------------------------ 39.7/101.1 MB 1.2 MB/s eta 0:00:53\n",
      "   --------------- ------------------------ 39.8/101.1 MB 1.2 MB/s eta 0:00:53\n",
      "   --------------- ------------------------ 39.8/101.1 MB 1.2 MB/s eta 0:00:53\n",
      "   --------------- ------------------------ 39.9/101.1 MB 1.2 MB/s eta 0:00:53\n",
      "   --------------- ------------------------ 39.9/101.1 MB 1.2 MB/s eta 0:00:53\n",
      "   --------------- ------------------------ 40.0/101.1 MB 1.2 MB/s eta 0:00:53\n",
      "   --------------- ------------------------ 40.1/101.1 MB 1.2 MB/s eta 0:00:53\n",
      "   --------------- ------------------------ 40.1/101.1 MB 1.2 MB/s eta 0:00:53\n",
      "   --------------- ------------------------ 40.2/101.1 MB 1.2 MB/s eta 0:00:53\n",
      "   --------------- ------------------------ 40.2/101.1 MB 1.2 MB/s eta 0:00:53\n",
      "   --------------- ------------------------ 40.3/101.1 MB 1.2 MB/s eta 0:00:53\n",
      "   --------------- ------------------------ 40.4/101.1 MB 1.2 MB/s eta 0:00:53\n",
      "   --------------- ------------------------ 40.4/101.1 MB 1.2 MB/s eta 0:00:53\n",
      "   ---------------- ----------------------- 40.5/101.1 MB 1.2 MB/s eta 0:00:53\n",
      "   ---------------- ----------------------- 40.5/101.1 MB 1.2 MB/s eta 0:00:53\n",
      "   ---------------- ----------------------- 40.6/101.1 MB 1.2 MB/s eta 0:00:53\n",
      "   ---------------- ----------------------- 40.7/101.1 MB 1.2 MB/s eta 0:00:53\n",
      "   ---------------- ----------------------- 40.7/101.1 MB 1.2 MB/s eta 0:00:53\n",
      "   ---------------- ----------------------- 40.8/101.1 MB 1.2 MB/s eta 0:00:52\n",
      "   ---------------- ----------------------- 40.9/101.1 MB 1.2 MB/s eta 0:00:52\n",
      "   ---------------- ----------------------- 40.9/101.1 MB 1.2 MB/s eta 0:00:52\n",
      "   ---------------- ----------------------- 41.0/101.1 MB 1.2 MB/s eta 0:00:52\n",
      "   ---------------- ----------------------- 41.1/101.1 MB 1.2 MB/s eta 0:00:52\n",
      "   ---------------- ----------------------- 41.1/101.1 MB 1.2 MB/s eta 0:00:52\n",
      "   ---------------- ----------------------- 41.2/101.1 MB 1.2 MB/s eta 0:00:52\n",
      "   ---------------- ----------------------- 41.2/101.1 MB 1.2 MB/s eta 0:00:52\n",
      "   ---------------- ----------------------- 41.2/101.1 MB 1.2 MB/s eta 0:00:52\n",
      "   ---------------- ----------------------- 41.3/101.1 MB 1.2 MB/s eta 0:00:52\n",
      "   ---------------- ----------------------- 41.4/101.1 MB 1.2 MB/s eta 0:00:52\n",
      "   ---------------- ----------------------- 41.4/101.1 MB 1.2 MB/s eta 0:00:52\n",
      "   ---------------- ----------------------- 41.5/101.1 MB 1.2 MB/s eta 0:00:52\n",
      "   ---------------- ----------------------- 41.6/101.1 MB 1.2 MB/s eta 0:00:52\n",
      "   ---------------- ----------------------- 41.6/101.1 MB 1.2 MB/s eta 0:00:52\n",
      "   ---------------- ----------------------- 41.7/101.1 MB 1.2 MB/s eta 0:00:52\n",
      "   ---------------- ----------------------- 41.7/101.1 MB 1.2 MB/s eta 0:00:52\n",
      "   ---------------- ----------------------- 41.8/101.1 MB 1.2 MB/s eta 0:00:52\n",
      "   ---------------- ----------------------- 41.9/101.1 MB 1.2 MB/s eta 0:00:52\n",
      "   ---------------- ----------------------- 41.9/101.1 MB 1.2 MB/s eta 0:00:52\n",
      "   ---------------- ----------------------- 42.0/101.1 MB 1.2 MB/s eta 0:00:52\n",
      "   ---------------- ----------------------- 42.1/101.1 MB 1.2 MB/s eta 0:00:52\n",
      "   ---------------- ----------------------- 42.1/101.1 MB 1.2 MB/s eta 0:00:52\n",
      "   ---------------- ----------------------- 42.2/101.1 MB 1.2 MB/s eta 0:00:51\n",
      "   ---------------- ----------------------- 42.3/101.1 MB 1.2 MB/s eta 0:00:51\n",
      "   ---------------- ----------------------- 42.3/101.1 MB 1.2 MB/s eta 0:00:51\n",
      "   ---------------- ----------------------- 42.4/101.1 MB 1.2 MB/s eta 0:00:51\n",
      "   ---------------- ----------------------- 42.4/101.1 MB 1.2 MB/s eta 0:00:51\n",
      "   ---------------- ----------------------- 42.5/101.1 MB 1.2 MB/s eta 0:00:51\n",
      "   ---------------- ----------------------- 42.6/101.1 MB 1.2 MB/s eta 0:00:51\n",
      "   ---------------- ----------------------- 42.6/101.1 MB 1.2 MB/s eta 0:00:51\n",
      "   ---------------- ----------------------- 42.6/101.1 MB 1.2 MB/s eta 0:00:51\n",
      "   ---------------- ----------------------- 42.6/101.1 MB 1.2 MB/s eta 0:00:51\n",
      "   ---------------- ----------------------- 42.7/101.1 MB 1.2 MB/s eta 0:00:51\n",
      "   ---------------- ----------------------- 42.7/101.1 MB 1.1 MB/s eta 0:00:52\n",
      "   ---------------- ----------------------- 42.8/101.1 MB 1.1 MB/s eta 0:00:52\n",
      "   ---------------- ----------------------- 42.8/101.1 MB 1.1 MB/s eta 0:00:52\n",
      "   ---------------- ----------------------- 42.9/101.1 MB 1.1 MB/s eta 0:00:51\n",
      "   ---------------- ----------------------- 43.0/101.1 MB 1.1 MB/s eta 0:00:51\n",
      "   ----------------- ---------------------- 43.0/101.1 MB 1.1 MB/s eta 0:00:51\n",
      "   ----------------- ---------------------- 43.1/101.1 MB 1.1 MB/s eta 0:00:51\n",
      "   ----------------- ---------------------- 43.2/101.1 MB 1.1 MB/s eta 0:00:51\n",
      "   ----------------- ---------------------- 43.2/101.1 MB 1.1 MB/s eta 0:00:51\n",
      "   ----------------- ---------------------- 43.3/101.1 MB 1.1 MB/s eta 0:00:51\n",
      "   ----------------- ---------------------- 43.3/101.1 MB 1.1 MB/s eta 0:00:51\n",
      "   ----------------- ---------------------- 43.4/101.1 MB 1.1 MB/s eta 0:00:51\n",
      "   ----------------- ---------------------- 43.4/101.1 MB 1.1 MB/s eta 0:00:51\n",
      "   ----------------- ---------------------- 43.4/101.1 MB 1.1 MB/s eta 0:00:52\n",
      "   ----------------- ---------------------- 43.5/101.1 MB 1.1 MB/s eta 0:00:52\n",
      "   ----------------- ---------------------- 43.5/101.1 MB 1.1 MB/s eta 0:00:52\n",
      "   ----------------- ---------------------- 43.6/101.1 MB 1.1 MB/s eta 0:00:52\n",
      "   ----------------- ---------------------- 43.6/101.1 MB 1.1 MB/s eta 0:00:52\n",
      "   ----------------- ---------------------- 43.7/101.1 MB 1.1 MB/s eta 0:00:52\n",
      "   ----------------- ---------------------- 43.7/101.1 MB 1.1 MB/s eta 0:00:52\n",
      "   ----------------- ---------------------- 43.7/101.1 MB 1.1 MB/s eta 0:00:52\n",
      "   ----------------- ---------------------- 43.8/101.1 MB 1.1 MB/s eta 0:00:52\n",
      "   ----------------- ---------------------- 43.9/101.1 MB 1.1 MB/s eta 0:00:52\n",
      "   ----------------- ---------------------- 43.9/101.1 MB 1.1 MB/s eta 0:00:52\n",
      "   ----------------- ---------------------- 44.0/101.1 MB 1.1 MB/s eta 0:00:52\n",
      "   ----------------- ---------------------- 44.0/101.1 MB 1.1 MB/s eta 0:00:52\n",
      "   ----------------- ---------------------- 44.1/101.1 MB 1.1 MB/s eta 0:00:52\n",
      "   ----------------- ---------------------- 44.1/101.1 MB 1.1 MB/s eta 0:00:52\n",
      "   ----------------- ---------------------- 44.1/101.1 MB 1.1 MB/s eta 0:00:52\n",
      "   ----------------- ---------------------- 44.2/101.1 MB 1.1 MB/s eta 0:00:52\n",
      "   ----------------- ---------------------- 44.2/101.1 MB 1.1 MB/s eta 0:00:52\n",
      "   ----------------- ---------------------- 44.2/101.1 MB 1.1 MB/s eta 0:00:52\n",
      "   ----------------- ---------------------- 44.3/101.1 MB 1.1 MB/s eta 0:00:52\n",
      "   ----------------- ---------------------- 44.3/101.1 MB 1.1 MB/s eta 0:00:52\n",
      "   ----------------- ---------------------- 44.4/101.1 MB 1.1 MB/s eta 0:00:52\n",
      "   ----------------- ---------------------- 44.4/101.1 MB 1.1 MB/s eta 0:00:52\n",
      "   ----------------- ---------------------- 44.5/101.1 MB 1.1 MB/s eta 0:00:52\n",
      "   ----------------- ---------------------- 44.5/101.1 MB 1.1 MB/s eta 0:00:52\n",
      "   ----------------- ---------------------- 44.5/101.1 MB 1.1 MB/s eta 0:00:52\n",
      "   ----------------- ---------------------- 44.6/101.1 MB 1.1 MB/s eta 0:00:53\n",
      "   ----------------- ---------------------- 44.6/101.1 MB 1.1 MB/s eta 0:00:53\n",
      "   ----------------- ---------------------- 44.7/101.1 MB 1.1 MB/s eta 0:00:53\n",
      "   ----------------- ---------------------- 44.7/101.1 MB 1.1 MB/s eta 0:00:53\n",
      "   ----------------- ---------------------- 44.7/101.1 MB 1.1 MB/s eta 0:00:53\n",
      "   ----------------- ---------------------- 44.8/101.1 MB 1.1 MB/s eta 0:00:53\n",
      "   ----------------- ---------------------- 44.8/101.1 MB 1.1 MB/s eta 0:00:53\n",
      "   ----------------- ---------------------- 44.9/101.1 MB 1.1 MB/s eta 0:00:53\n",
      "   ----------------- ---------------------- 44.9/101.1 MB 1.1 MB/s eta 0:00:53\n",
      "   ----------------- ---------------------- 45.0/101.1 MB 1.1 MB/s eta 0:00:53\n",
      "   ----------------- ---------------------- 45.0/101.1 MB 1.1 MB/s eta 0:00:53\n",
      "   ----------------- ---------------------- 45.1/101.1 MB 1.1 MB/s eta 0:00:53\n",
      "   ----------------- ---------------------- 45.1/101.1 MB 1.1 MB/s eta 0:00:52\n",
      "   ----------------- ---------------------- 45.2/101.1 MB 1.1 MB/s eta 0:00:52\n",
      "   ----------------- ---------------------- 45.2/101.1 MB 1.1 MB/s eta 0:00:52\n",
      "   ----------------- ---------------------- 45.3/101.1 MB 1.1 MB/s eta 0:00:52\n",
      "   ----------------- ---------------------- 45.3/101.1 MB 1.1 MB/s eta 0:00:52\n",
      "   ----------------- ---------------------- 45.4/101.1 MB 1.1 MB/s eta 0:00:52\n",
      "   ----------------- ---------------------- 45.4/101.1 MB 1.1 MB/s eta 0:00:52\n",
      "   ----------------- ---------------------- 45.5/101.1 MB 1.1 MB/s eta 0:00:52\n",
      "   ------------------ --------------------- 45.5/101.1 MB 1.1 MB/s eta 0:00:52\n",
      "   ------------------ --------------------- 45.6/101.1 MB 1.1 MB/s eta 0:00:52\n",
      "   ------------------ --------------------- 45.7/101.1 MB 1.1 MB/s eta 0:00:52\n",
      "   ------------------ --------------------- 45.7/101.1 MB 1.1 MB/s eta 0:00:52\n",
      "   ------------------ --------------------- 45.8/101.1 MB 1.1 MB/s eta 0:00:51\n",
      "   ------------------ --------------------- 45.9/101.1 MB 1.1 MB/s eta 0:00:51\n",
      "   ------------------ --------------------- 45.9/101.1 MB 1.1 MB/s eta 0:00:51\n",
      "   ------------------ --------------------- 46.0/101.1 MB 1.1 MB/s eta 0:00:51\n",
      "   ------------------ --------------------- 46.0/101.1 MB 1.1 MB/s eta 0:00:51\n",
      "   ------------------ --------------------- 46.1/101.1 MB 1.1 MB/s eta 0:00:51\n",
      "   ------------------ --------------------- 46.1/101.1 MB 1.1 MB/s eta 0:00:51\n",
      "   ------------------ --------------------- 46.2/101.1 MB 1.1 MB/s eta 0:00:51\n",
      "   ------------------ --------------------- 46.2/101.1 MB 1.1 MB/s eta 0:00:51\n",
      "   ------------------ --------------------- 46.2/101.1 MB 1.1 MB/s eta 0:00:51\n",
      "   ------------------ --------------------- 46.3/101.1 MB 1.1 MB/s eta 0:00:51\n",
      "   ------------------ --------------------- 46.3/101.1 MB 1.1 MB/s eta 0:00:51\n",
      "   ------------------ --------------------- 46.4/101.1 MB 1.1 MB/s eta 0:00:51\n",
      "   ------------------ --------------------- 46.4/101.1 MB 1.1 MB/s eta 0:00:51\n",
      "   ------------------ --------------------- 46.5/101.1 MB 1.1 MB/s eta 0:00:51\n",
      "   ------------------ --------------------- 46.5/101.1 MB 1.1 MB/s eta 0:00:50\n",
      "   ------------------ --------------------- 46.6/101.1 MB 1.1 MB/s eta 0:00:50\n",
      "   ------------------ --------------------- 46.6/101.1 MB 1.1 MB/s eta 0:00:50\n",
      "   ------------------ --------------------- 46.7/101.1 MB 1.1 MB/s eta 0:00:49\n",
      "   ------------------ --------------------- 46.7/101.1 MB 1.1 MB/s eta 0:00:49\n",
      "   ------------------ --------------------- 46.8/101.1 MB 1.1 MB/s eta 0:00:49\n",
      "   ------------------ --------------------- 46.8/101.1 MB 1.1 MB/s eta 0:00:49\n",
      "   ------------------ --------------------- 46.9/101.1 MB 1.1 MB/s eta 0:00:49\n",
      "   ------------------ --------------------- 46.9/101.1 MB 1.1 MB/s eta 0:00:49\n",
      "   ------------------ --------------------- 46.9/101.1 MB 1.1 MB/s eta 0:00:49\n",
      "   ------------------ --------------------- 47.0/101.1 MB 1.1 MB/s eta 0:00:49\n",
      "   ------------------ --------------------- 47.0/101.1 MB 1.1 MB/s eta 0:00:49\n",
      "   ------------------ --------------------- 47.1/101.1 MB 1.1 MB/s eta 0:00:49\n",
      "   ------------------ --------------------- 47.1/101.1 MB 1.1 MB/s eta 0:00:49\n",
      "   ------------------ --------------------- 47.1/101.1 MB 1.1 MB/s eta 0:00:49\n",
      "   ------------------ --------------------- 47.1/101.1 MB 1.1 MB/s eta 0:00:50\n",
      "   ------------------ --------------------- 47.2/101.1 MB 1.1 MB/s eta 0:00:50\n",
      "   ------------------ --------------------- 47.2/101.1 MB 1.1 MB/s eta 0:00:50\n",
      "   ------------------ --------------------- 47.3/101.1 MB 1.1 MB/s eta 0:00:50\n",
      "   ------------------ --------------------- 47.3/101.1 MB 1.1 MB/s eta 0:00:50\n",
      "   ------------------ --------------------- 47.3/101.1 MB 1.1 MB/s eta 0:00:50\n",
      "   ------------------ --------------------- 47.4/101.1 MB 1.1 MB/s eta 0:00:50\n",
      "   ------------------ --------------------- 47.4/101.1 MB 1.1 MB/s eta 0:00:50\n",
      "   ------------------ --------------------- 47.5/101.1 MB 1.1 MB/s eta 0:00:50\n",
      "   ------------------ --------------------- 47.5/101.1 MB 1.1 MB/s eta 0:00:50\n",
      "   ------------------ --------------------- 47.6/101.1 MB 1.1 MB/s eta 0:00:50\n",
      "   ------------------ --------------------- 47.6/101.1 MB 1.1 MB/s eta 0:00:49\n",
      "   ------------------ --------------------- 47.7/101.1 MB 1.1 MB/s eta 0:00:49\n",
      "   ------------------ --------------------- 47.7/101.1 MB 1.1 MB/s eta 0:00:49\n",
      "   ------------------ --------------------- 47.7/101.1 MB 1.1 MB/s eta 0:00:49\n",
      "   ------------------ --------------------- 47.8/101.1 MB 1.1 MB/s eta 0:00:49\n",
      "   ------------------ --------------------- 47.8/101.1 MB 1.1 MB/s eta 0:00:49\n",
      "   ------------------ --------------------- 47.9/101.1 MB 1.1 MB/s eta 0:00:49\n",
      "   ------------------ --------------------- 47.9/101.1 MB 1.1 MB/s eta 0:00:49\n",
      "   ------------------ --------------------- 48.0/101.1 MB 1.1 MB/s eta 0:00:50\n",
      "   ------------------ --------------------- 48.0/101.1 MB 1.1 MB/s eta 0:00:49\n",
      "   ------------------- -------------------- 48.1/101.1 MB 1.1 MB/s eta 0:00:49\n",
      "   ------------------- -------------------- 48.1/101.1 MB 1.1 MB/s eta 0:00:49\n",
      "   ------------------- -------------------- 48.2/101.1 MB 1.1 MB/s eta 0:00:50\n",
      "   ------------------- -------------------- 48.2/101.1 MB 1.1 MB/s eta 0:00:50\n",
      "   ------------------- -------------------- 48.3/101.1 MB 1.1 MB/s eta 0:00:49\n",
      "   ------------------- -------------------- 48.3/101.1 MB 1.1 MB/s eta 0:00:49\n",
      "   ------------------- -------------------- 48.4/101.1 MB 1.1 MB/s eta 0:00:49\n",
      "   ------------------- -------------------- 48.5/101.1 MB 1.1 MB/s eta 0:00:49\n",
      "   ------------------- -------------------- 48.5/101.1 MB 1.1 MB/s eta 0:00:49\n",
      "   ------------------- -------------------- 48.6/101.1 MB 1.1 MB/s eta 0:00:49\n",
      "   ------------------- -------------------- 48.6/101.1 MB 1.1 MB/s eta 0:00:49\n",
      "   ------------------- -------------------- 48.7/101.1 MB 1.1 MB/s eta 0:00:49\n",
      "   ------------------- -------------------- 48.8/101.1 MB 1.1 MB/s eta 0:00:49\n",
      "   ------------------- -------------------- 48.8/101.1 MB 1.1 MB/s eta 0:00:49\n",
      "   ------------------- -------------------- 48.9/101.1 MB 1.1 MB/s eta 0:00:48\n",
      "   ------------------- -------------------- 48.9/101.1 MB 1.1 MB/s eta 0:00:48\n",
      "   ------------------- -------------------- 49.0/101.1 MB 1.1 MB/s eta 0:00:48\n",
      "   ------------------- -------------------- 49.1/101.1 MB 1.1 MB/s eta 0:00:48\n",
      "   ------------------- -------------------- 49.1/101.1 MB 1.1 MB/s eta 0:00:48\n",
      "   ------------------- -------------------- 49.2/101.1 MB 1.1 MB/s eta 0:00:48\n",
      "   ------------------- -------------------- 49.3/101.1 MB 1.1 MB/s eta 0:00:47\n",
      "   ------------------- -------------------- 49.3/101.1 MB 1.1 MB/s eta 0:00:47\n",
      "   ------------------- -------------------- 49.4/101.1 MB 1.1 MB/s eta 0:00:47\n",
      "   ------------------- -------------------- 49.4/101.1 MB 1.1 MB/s eta 0:00:47\n",
      "   ------------------- -------------------- 49.5/101.1 MB 1.1 MB/s eta 0:00:47\n",
      "   ------------------- -------------------- 49.6/101.1 MB 1.1 MB/s eta 0:00:47\n",
      "   ------------------- -------------------- 49.6/101.1 MB 1.1 MB/s eta 0:00:47\n",
      "   ------------------- -------------------- 49.7/101.1 MB 1.1 MB/s eta 0:00:47\n",
      "   ------------------- -------------------- 49.7/101.1 MB 1.1 MB/s eta 0:00:47\n",
      "   ------------------- -------------------- 49.8/101.1 MB 1.1 MB/s eta 0:00:47\n",
      "   ------------------- -------------------- 49.9/101.1 MB 1.1 MB/s eta 0:00:47\n",
      "   ------------------- -------------------- 49.9/101.1 MB 1.1 MB/s eta 0:00:47\n",
      "   ------------------- -------------------- 50.0/101.1 MB 1.1 MB/s eta 0:00:46\n",
      "   ------------------- -------------------- 50.1/101.1 MB 1.1 MB/s eta 0:00:46\n",
      "   ------------------- -------------------- 50.1/101.1 MB 1.1 MB/s eta 0:00:46\n",
      "   ------------------- -------------------- 50.2/101.1 MB 1.1 MB/s eta 0:00:46\n",
      "   ------------------- -------------------- 50.2/101.1 MB 1.1 MB/s eta 0:00:46\n",
      "   ------------------- -------------------- 50.3/101.1 MB 1.1 MB/s eta 0:00:46\n",
      "   ------------------- -------------------- 50.4/101.1 MB 1.1 MB/s eta 0:00:46\n",
      "   ------------------- -------------------- 50.4/101.1 MB 1.1 MB/s eta 0:00:46\n",
      "   ------------------- -------------------- 50.5/101.1 MB 1.1 MB/s eta 0:00:46\n",
      "   ------------------- -------------------- 50.6/101.1 MB 1.1 MB/s eta 0:00:46\n",
      "   -------------------- ------------------- 50.6/101.1 MB 1.1 MB/s eta 0:00:46\n",
      "   -------------------- ------------------- 50.7/101.1 MB 1.1 MB/s eta 0:00:46\n",
      "   -------------------- ------------------- 50.7/101.1 MB 1.1 MB/s eta 0:00:46\n",
      "   -------------------- ------------------- 50.8/101.1 MB 1.1 MB/s eta 0:00:46\n",
      "   -------------------- ------------------- 50.9/101.1 MB 1.1 MB/s eta 0:00:46\n",
      "   -------------------- ------------------- 50.9/101.1 MB 1.1 MB/s eta 0:00:46\n",
      "   -------------------- ------------------- 51.0/101.1 MB 1.1 MB/s eta 0:00:45\n",
      "   -------------------- ------------------- 51.0/101.1 MB 1.1 MB/s eta 0:00:45\n",
      "   -------------------- ------------------- 51.1/101.1 MB 1.1 MB/s eta 0:00:45\n",
      "   -------------------- ------------------- 51.2/101.1 MB 1.1 MB/s eta 0:00:45\n",
      "   -------------------- ------------------- 51.2/101.1 MB 1.1 MB/s eta 0:00:45\n",
      "   -------------------- ------------------- 51.3/101.1 MB 1.1 MB/s eta 0:00:45\n",
      "   -------------------- ------------------- 51.4/101.1 MB 1.1 MB/s eta 0:00:45\n",
      "   -------------------- ------------------- 51.4/101.1 MB 1.1 MB/s eta 0:00:45\n",
      "   -------------------- ------------------- 51.5/101.1 MB 1.1 MB/s eta 0:00:45\n",
      "   -------------------- ------------------- 51.6/101.1 MB 1.1 MB/s eta 0:00:45\n",
      "   -------------------- ------------------- 51.6/101.1 MB 1.1 MB/s eta 0:00:45\n",
      "   -------------------- ------------------- 51.7/101.1 MB 1.1 MB/s eta 0:00:45\n",
      "   -------------------- ------------------- 51.7/101.1 MB 1.1 MB/s eta 0:00:45\n",
      "   -------------------- ------------------- 51.8/101.1 MB 1.1 MB/s eta 0:00:44\n",
      "   -------------------- ------------------- 51.9/101.1 MB 1.1 MB/s eta 0:00:44\n",
      "   -------------------- ------------------- 51.9/101.1 MB 1.1 MB/s eta 0:00:44\n",
      "   -------------------- ------------------- 52.0/101.1 MB 1.1 MB/s eta 0:00:44\n",
      "   -------------------- ------------------- 52.1/101.1 MB 1.1 MB/s eta 0:00:44\n",
      "   -------------------- ------------------- 52.1/101.1 MB 1.1 MB/s eta 0:00:44\n",
      "   -------------------- ------------------- 52.2/101.1 MB 1.1 MB/s eta 0:00:44\n",
      "   -------------------- ------------------- 52.3/101.1 MB 1.1 MB/s eta 0:00:44\n",
      "   -------------------- ------------------- 52.3/101.1 MB 1.1 MB/s eta 0:00:44\n",
      "   -------------------- ------------------- 52.4/101.1 MB 1.1 MB/s eta 0:00:44\n",
      "   -------------------- ------------------- 52.4/101.1 MB 1.1 MB/s eta 0:00:44\n",
      "   -------------------- ------------------- 52.4/101.1 MB 1.1 MB/s eta 0:00:44\n",
      "   -------------------- ------------------- 52.5/101.1 MB 1.1 MB/s eta 0:00:44\n",
      "   -------------------- ------------------- 52.6/101.1 MB 1.1 MB/s eta 0:00:44\n",
      "   -------------------- ------------------- 52.6/101.1 MB 1.1 MB/s eta 0:00:44\n",
      "   -------------------- ------------------- 52.7/101.1 MB 1.1 MB/s eta 0:00:44\n",
      "   -------------------- ------------------- 52.7/101.1 MB 1.1 MB/s eta 0:00:44\n",
      "   -------------------- ------------------- 52.8/101.1 MB 1.1 MB/s eta 0:00:44\n",
      "   -------------------- ------------------- 52.9/101.1 MB 1.1 MB/s eta 0:00:43\n",
      "   -------------------- ------------------- 53.0/101.1 MB 1.1 MB/s eta 0:00:43\n",
      "   -------------------- ------------------- 53.0/101.1 MB 1.1 MB/s eta 0:00:43\n",
      "   -------------------- ------------------- 53.1/101.1 MB 1.1 MB/s eta 0:00:43\n",
      "   --------------------- ------------------ 53.1/101.1 MB 1.1 MB/s eta 0:00:43\n",
      "   --------------------- ------------------ 53.2/101.1 MB 1.1 MB/s eta 0:00:43\n",
      "   --------------------- ------------------ 53.3/101.1 MB 1.1 MB/s eta 0:00:43\n",
      "   --------------------- ------------------ 53.3/101.1 MB 1.1 MB/s eta 0:00:43\n",
      "   --------------------- ------------------ 53.4/101.1 MB 1.1 MB/s eta 0:00:43\n",
      "   --------------------- ------------------ 53.4/101.1 MB 1.1 MB/s eta 0:00:43\n",
      "   --------------------- ------------------ 53.5/101.1 MB 1.1 MB/s eta 0:00:43\n",
      "   --------------------- ------------------ 53.6/101.1 MB 1.1 MB/s eta 0:00:43\n",
      "   --------------------- ------------------ 53.6/101.1 MB 1.1 MB/s eta 0:00:43\n",
      "   --------------------- ------------------ 53.6/101.1 MB 1.1 MB/s eta 0:00:42\n",
      "   --------------------- ------------------ 53.7/101.1 MB 1.1 MB/s eta 0:00:42\n",
      "   --------------------- ------------------ 53.8/101.1 MB 1.1 MB/s eta 0:00:42\n",
      "   --------------------- ------------------ 53.8/101.1 MB 1.1 MB/s eta 0:00:42\n",
      "   --------------------- ------------------ 53.9/101.1 MB 1.1 MB/s eta 0:00:42\n",
      "   --------------------- ------------------ 53.9/101.1 MB 1.1 MB/s eta 0:00:42\n",
      "   --------------------- ------------------ 53.9/101.1 MB 1.1 MB/s eta 0:00:42\n",
      "   --------------------- ------------------ 54.0/101.1 MB 1.1 MB/s eta 0:00:42\n",
      "   --------------------- ------------------ 54.1/101.1 MB 1.1 MB/s eta 0:00:42\n",
      "   --------------------- ------------------ 54.1/101.1 MB 1.1 MB/s eta 0:00:42\n",
      "   --------------------- ------------------ 54.2/101.1 MB 1.1 MB/s eta 0:00:42\n",
      "   --------------------- ------------------ 54.3/101.1 MB 1.1 MB/s eta 0:00:42\n",
      "   --------------------- ------------------ 54.3/101.1 MB 1.1 MB/s eta 0:00:41\n",
      "   --------------------- ------------------ 54.4/101.1 MB 1.1 MB/s eta 0:00:41\n",
      "   --------------------- ------------------ 54.5/101.1 MB 1.2 MB/s eta 0:00:41\n",
      "   --------------------- ------------------ 54.5/101.1 MB 1.2 MB/s eta 0:00:41\n",
      "   --------------------- ------------------ 54.6/101.1 MB 1.2 MB/s eta 0:00:41\n",
      "   --------------------- ------------------ 54.6/101.1 MB 1.2 MB/s eta 0:00:41\n",
      "   --------------------- ------------------ 54.7/101.1 MB 1.2 MB/s eta 0:00:40\n",
      "   --------------------- ------------------ 54.8/101.1 MB 1.2 MB/s eta 0:00:40\n",
      "   --------------------- ------------------ 54.8/101.1 MB 1.2 MB/s eta 0:00:40\n",
      "   --------------------- ------------------ 54.9/101.1 MB 1.2 MB/s eta 0:00:40\n",
      "   --------------------- ------------------ 55.0/101.1 MB 1.2 MB/s eta 0:00:40\n",
      "   --------------------- ------------------ 55.0/101.1 MB 1.2 MB/s eta 0:00:40\n",
      "   --------------------- ------------------ 55.1/101.1 MB 1.2 MB/s eta 0:00:39\n",
      "   --------------------- ------------------ 55.2/101.1 MB 1.2 MB/s eta 0:00:39\n",
      "   --------------------- ------------------ 55.2/101.1 MB 1.2 MB/s eta 0:00:39\n",
      "   --------------------- ------------------ 55.3/101.1 MB 1.2 MB/s eta 0:00:39\n",
      "   --------------------- ------------------ 55.3/101.1 MB 1.2 MB/s eta 0:00:39\n",
      "   --------------------- ------------------ 55.4/101.1 MB 1.2 MB/s eta 0:00:39\n",
      "   --------------------- ------------------ 55.5/101.1 MB 1.2 MB/s eta 0:00:39\n",
      "   --------------------- ------------------ 55.5/101.1 MB 1.2 MB/s eta 0:00:39\n",
      "   --------------------- ------------------ 55.6/101.1 MB 1.2 MB/s eta 0:00:39\n",
      "   ---------------------- ----------------- 55.7/101.1 MB 1.2 MB/s eta 0:00:38\n",
      "   ---------------------- ----------------- 55.7/101.1 MB 1.2 MB/s eta 0:00:38\n",
      "   ---------------------- ----------------- 55.8/101.1 MB 1.2 MB/s eta 0:00:38\n",
      "   ---------------------- ----------------- 55.8/101.1 MB 1.2 MB/s eta 0:00:38\n",
      "   ---------------------- ----------------- 55.9/101.1 MB 1.2 MB/s eta 0:00:38\n",
      "   ---------------------- ----------------- 55.9/101.1 MB 1.2 MB/s eta 0:00:38\n",
      "   ---------------------- ----------------- 56.0/101.1 MB 1.2 MB/s eta 0:00:38\n",
      "   ---------------------- ----------------- 56.1/101.1 MB 1.2 MB/s eta 0:00:38\n",
      "   ---------------------- ----------------- 56.1/101.1 MB 1.2 MB/s eta 0:00:38\n",
      "   ---------------------- ----------------- 56.2/101.1 MB 1.2 MB/s eta 0:00:38\n",
      "   ---------------------- ----------------- 56.3/101.1 MB 1.2 MB/s eta 0:00:38\n",
      "   ---------------------- ----------------- 56.3/101.1 MB 1.2 MB/s eta 0:00:38\n",
      "   ---------------------- ----------------- 56.4/101.1 MB 1.2 MB/s eta 0:00:38\n",
      "   ---------------------- ----------------- 56.4/101.1 MB 1.2 MB/s eta 0:00:38\n",
      "   ---------------------- ----------------- 56.5/101.1 MB 1.2 MB/s eta 0:00:37\n",
      "   ---------------------- ----------------- 56.6/101.1 MB 1.2 MB/s eta 0:00:37\n",
      "   ---------------------- ----------------- 56.6/101.1 MB 1.2 MB/s eta 0:00:37\n",
      "   ---------------------- ----------------- 56.6/101.1 MB 1.2 MB/s eta 0:00:37\n",
      "   ---------------------- ----------------- 56.7/101.1 MB 1.2 MB/s eta 0:00:37\n",
      "   ---------------------- ----------------- 56.7/101.1 MB 1.2 MB/s eta 0:00:37\n",
      "   ---------------------- ----------------- 56.8/101.1 MB 1.2 MB/s eta 0:00:37\n",
      "   ---------------------- ----------------- 56.8/101.1 MB 1.2 MB/s eta 0:00:37\n",
      "   ---------------------- ----------------- 56.9/101.1 MB 1.2 MB/s eta 0:00:37\n",
      "   ---------------------- ----------------- 56.9/101.1 MB 1.2 MB/s eta 0:00:37\n",
      "   ---------------------- ----------------- 57.0/101.1 MB 1.2 MB/s eta 0:00:37\n",
      "   ---------------------- ----------------- 57.1/101.1 MB 1.2 MB/s eta 0:00:37\n",
      "   ---------------------- ----------------- 57.1/101.1 MB 1.2 MB/s eta 0:00:37\n",
      "   ---------------------- ----------------- 57.2/101.1 MB 1.2 MB/s eta 0:00:37\n",
      "   ---------------------- ----------------- 57.2/101.1 MB 1.2 MB/s eta 0:00:37\n",
      "   ---------------------- ----------------- 57.3/101.1 MB 1.2 MB/s eta 0:00:37\n",
      "   ---------------------- ----------------- 57.3/101.1 MB 1.2 MB/s eta 0:00:37\n",
      "   ---------------------- ----------------- 57.3/101.1 MB 1.2 MB/s eta 0:00:36\n",
      "   ---------------------- ----------------- 57.4/101.1 MB 1.2 MB/s eta 0:00:36\n",
      "   ---------------------- ----------------- 57.4/101.1 MB 1.2 MB/s eta 0:00:36\n",
      "   ---------------------- ----------------- 57.5/101.1 MB 1.2 MB/s eta 0:00:36\n",
      "   ---------------------- ----------------- 57.5/101.1 MB 1.2 MB/s eta 0:00:36\n",
      "   ---------------------- ----------------- 57.5/101.1 MB 1.2 MB/s eta 0:00:36\n",
      "   ---------------------- ----------------- 57.5/101.1 MB 1.2 MB/s eta 0:00:36\n",
      "   ---------------------- ----------------- 57.6/101.1 MB 1.2 MB/s eta 0:00:36\n",
      "   ---------------------- ----------------- 57.6/101.1 MB 1.2 MB/s eta 0:00:36\n",
      "   ---------------------- ----------------- 57.6/101.1 MB 1.2 MB/s eta 0:00:36\n",
      "   ---------------------- ----------------- 57.7/101.1 MB 1.2 MB/s eta 0:00:36\n",
      "   ---------------------- ----------------- 57.7/101.1 MB 1.2 MB/s eta 0:00:37\n",
      "   ---------------------- ----------------- 57.7/101.1 MB 1.2 MB/s eta 0:00:37\n",
      "   ---------------------- ----------------- 57.7/101.1 MB 1.2 MB/s eta 0:00:37\n",
      "   ---------------------- ----------------- 57.7/101.1 MB 1.2 MB/s eta 0:00:37\n",
      "   ---------------------- ----------------- 57.7/101.1 MB 1.2 MB/s eta 0:00:37\n",
      "   ---------------------- ----------------- 57.8/101.1 MB 1.2 MB/s eta 0:00:37\n",
      "   ---------------------- ----------------- 57.8/101.1 MB 1.2 MB/s eta 0:00:37\n",
      "   ---------------------- ----------------- 57.8/101.1 MB 1.2 MB/s eta 0:00:37\n",
      "   ---------------------- ----------------- 57.8/101.1 MB 1.2 MB/s eta 0:00:37\n",
      "   ---------------------- ----------------- 57.8/101.1 MB 1.2 MB/s eta 0:00:37\n",
      "   ---------------------- ----------------- 57.8/101.1 MB 1.2 MB/s eta 0:00:37\n",
      "   ---------------------- ----------------- 57.9/101.1 MB 1.2 MB/s eta 0:00:38\n",
      "   ---------------------- ----------------- 57.9/101.1 MB 1.2 MB/s eta 0:00:38\n",
      "   ---------------------- ----------------- 57.9/101.1 MB 1.2 MB/s eta 0:00:38\n",
      "   ---------------------- ----------------- 57.9/101.1 MB 1.2 MB/s eta 0:00:38\n",
      "   ---------------------- ----------------- 58.0/101.1 MB 1.2 MB/s eta 0:00:38\n",
      "   ---------------------- ----------------- 58.0/101.1 MB 1.1 MB/s eta 0:00:38\n",
      "   ---------------------- ----------------- 58.0/101.1 MB 1.1 MB/s eta 0:00:38\n",
      "   ---------------------- ----------------- 58.0/101.1 MB 1.1 MB/s eta 0:00:38\n",
      "   ---------------------- ----------------- 58.1/101.1 MB 1.1 MB/s eta 0:00:38\n",
      "   ---------------------- ----------------- 58.1/101.1 MB 1.1 MB/s eta 0:00:38\n",
      "   ---------------------- ----------------- 58.1/101.1 MB 1.1 MB/s eta 0:00:38\n",
      "   ---------------------- ----------------- 58.1/101.1 MB 1.1 MB/s eta 0:00:38\n",
      "   ---------------------- ----------------- 58.1/101.1 MB 1.1 MB/s eta 0:00:39\n",
      "   ----------------------- ---------------- 58.2/101.1 MB 1.1 MB/s eta 0:00:39\n",
      "   ----------------------- ---------------- 58.2/101.1 MB 1.1 MB/s eta 0:00:39\n",
      "   ----------------------- ---------------- 58.2/101.1 MB 1.1 MB/s eta 0:00:39\n",
      "   ----------------------- ---------------- 58.2/101.1 MB 1.1 MB/s eta 0:00:39\n",
      "   ----------------------- ---------------- 58.3/101.1 MB 1.1 MB/s eta 0:00:39\n",
      "   ----------------------- ---------------- 58.3/101.1 MB 1.1 MB/s eta 0:00:39\n",
      "   ----------------------- ---------------- 58.4/101.1 MB 1.1 MB/s eta 0:00:39\n",
      "   ----------------------- ---------------- 58.4/101.1 MB 1.1 MB/s eta 0:00:39\n",
      "   ----------------------- ---------------- 58.4/101.1 MB 1.1 MB/s eta 0:00:39\n",
      "   ----------------------- ---------------- 58.4/101.1 MB 1.1 MB/s eta 0:00:39\n",
      "   ----------------------- ---------------- 58.5/101.1 MB 1.1 MB/s eta 0:00:39\n",
      "   ----------------------- ---------------- 58.5/101.1 MB 1.1 MB/s eta 0:00:39\n",
      "   ----------------------- ---------------- 58.6/101.1 MB 1.1 MB/s eta 0:00:39\n",
      "   ----------------------- ---------------- 58.6/101.1 MB 1.1 MB/s eta 0:00:39\n",
      "   ----------------------- ---------------- 58.6/101.1 MB 1.1 MB/s eta 0:00:39\n",
      "   ----------------------- ---------------- 58.7/101.1 MB 1.1 MB/s eta 0:00:39\n",
      "   ----------------------- ---------------- 58.7/101.1 MB 1.1 MB/s eta 0:00:39\n",
      "   ----------------------- ---------------- 58.8/101.1 MB 1.1 MB/s eta 0:00:39\n",
      "   ----------------------- ---------------- 58.8/101.1 MB 1.1 MB/s eta 0:00:39\n",
      "   ----------------------- ---------------- 58.8/101.1 MB 1.1 MB/s eta 0:00:39\n",
      "   ----------------------- ---------------- 58.9/101.1 MB 1.1 MB/s eta 0:00:40\n",
      "   ----------------------- ---------------- 58.9/101.1 MB 1.1 MB/s eta 0:00:40\n",
      "   ----------------------- ---------------- 58.9/101.1 MB 1.1 MB/s eta 0:00:40\n",
      "   ----------------------- ---------------- 58.9/101.1 MB 1.1 MB/s eta 0:00:40\n",
      "   ----------------------- ---------------- 59.0/101.1 MB 1.1 MB/s eta 0:00:40\n",
      "   ----------------------- ---------------- 59.0/101.1 MB 1.1 MB/s eta 0:00:40\n",
      "   ----------------------- ---------------- 59.0/101.1 MB 1.1 MB/s eta 0:00:40\n",
      "   ----------------------- ---------------- 59.1/101.1 MB 1.1 MB/s eta 0:00:40\n",
      "   ----------------------- ---------------- 59.1/101.1 MB 1.1 MB/s eta 0:00:40\n",
      "   ----------------------- ---------------- 59.1/101.1 MB 1.1 MB/s eta 0:00:40\n",
      "   ----------------------- ---------------- 59.2/101.1 MB 1.1 MB/s eta 0:00:40\n",
      "   ----------------------- ---------------- 59.2/101.1 MB 1.1 MB/s eta 0:00:40\n",
      "   ----------------------- ---------------- 59.3/101.1 MB 1.1 MB/s eta 0:00:40\n",
      "   ----------------------- ---------------- 59.3/101.1 MB 1.1 MB/s eta 0:00:40\n",
      "   ----------------------- ---------------- 59.3/101.1 MB 1.0 MB/s eta 0:00:40\n",
      "   ----------------------- ---------------- 59.4/101.1 MB 1.0 MB/s eta 0:00:40\n",
      "   ----------------------- ---------------- 59.4/101.1 MB 1.0 MB/s eta 0:00:40\n",
      "   ----------------------- ---------------- 59.5/101.1 MB 1.0 MB/s eta 0:00:40\n",
      "   ----------------------- ---------------- 59.5/101.1 MB 1.0 MB/s eta 0:00:40\n",
      "   ----------------------- ---------------- 59.5/101.1 MB 1.0 MB/s eta 0:00:40\n",
      "   ----------------------- ---------------- 59.6/101.1 MB 1.0 MB/s eta 0:00:40\n",
      "   ----------------------- ---------------- 59.6/101.1 MB 1.0 MB/s eta 0:00:40\n",
      "   ----------------------- ---------------- 59.7/101.1 MB 1.0 MB/s eta 0:00:41\n",
      "   ----------------------- ---------------- 59.7/101.1 MB 1.0 MB/s eta 0:00:41\n",
      "   ----------------------- ---------------- 59.7/101.1 MB 1.0 MB/s eta 0:00:41\n",
      "   ----------------------- ---------------- 59.8/101.1 MB 1.0 MB/s eta 0:00:40\n",
      "   ----------------------- ---------------- 59.8/101.1 MB 1.0 MB/s eta 0:00:41\n",
      "   ----------------------- ---------------- 59.9/101.1 MB 1.0 MB/s eta 0:00:40\n",
      "   ----------------------- ---------------- 59.9/101.1 MB 1.0 MB/s eta 0:00:41\n",
      "   ----------------------- ---------------- 60.0/101.1 MB 1.0 MB/s eta 0:00:41\n",
      "   ----------------------- ---------------- 60.0/101.1 MB 1.0 MB/s eta 0:00:40\n",
      "   ----------------------- ---------------- 60.1/101.1 MB 1.0 MB/s eta 0:00:40\n",
      "   ----------------------- ---------------- 60.1/101.1 MB 1.0 MB/s eta 0:00:40\n",
      "   ----------------------- ---------------- 60.2/101.1 MB 1.0 MB/s eta 0:00:40\n",
      "   ----------------------- ---------------- 60.2/101.1 MB 1.0 MB/s eta 0:00:40\n",
      "   ----------------------- ---------------- 60.3/101.1 MB 1.0 MB/s eta 0:00:40\n",
      "   ----------------------- ---------------- 60.4/101.1 MB 1.0 MB/s eta 0:00:40\n",
      "   ----------------------- ---------------- 60.4/101.1 MB 1.0 MB/s eta 0:00:40\n",
      "   ----------------------- ---------------- 60.5/101.1 MB 1.0 MB/s eta 0:00:40\n",
      "   ----------------------- ---------------- 60.5/101.1 MB 1.0 MB/s eta 0:00:40\n",
      "   ----------------------- ---------------- 60.6/101.1 MB 1.0 MB/s eta 0:00:40\n",
      "   ----------------------- ---------------- 60.6/101.1 MB 1.0 MB/s eta 0:00:40\n",
      "   ----------------------- ---------------- 60.6/101.1 MB 1.0 MB/s eta 0:00:40\n",
      "   ------------------------ --------------- 60.7/101.1 MB 1.0 MB/s eta 0:00:40\n",
      "   ------------------------ --------------- 60.7/101.1 MB 1.0 MB/s eta 0:00:40\n",
      "   ------------------------ --------------- 60.8/101.1 MB 1.0 MB/s eta 0:00:40\n",
      "   ------------------------ --------------- 60.8/101.1 MB 1.0 MB/s eta 0:00:40\n",
      "   ------------------------ --------------- 60.9/101.1 MB 1.0 MB/s eta 0:00:40\n",
      "   ------------------------ --------------- 60.9/101.1 MB 1.0 MB/s eta 0:00:40\n",
      "   ------------------------ --------------- 61.0/101.1 MB 1.0 MB/s eta 0:00:40\n",
      "   ------------------------ --------------- 61.0/101.1 MB 1.0 MB/s eta 0:00:40\n",
      "   ------------------------ --------------- 61.1/101.1 MB 1.0 MB/s eta 0:00:40\n",
      "   ------------------------ --------------- 61.1/101.1 MB 1.0 MB/s eta 0:00:40\n",
      "   ------------------------ --------------- 61.2/101.1 MB 1.0 MB/s eta 0:00:40\n",
      "   ------------------------ --------------- 61.2/101.1 MB 1.0 MB/s eta 0:00:40\n",
      "   ------------------------ --------------- 61.2/101.1 MB 1.0 MB/s eta 0:00:40\n",
      "   ------------------------ --------------- 61.3/101.1 MB 1.0 MB/s eta 0:00:40\n",
      "   ----------------------- --------------- 61.3/101.1 MB 999.6 kB/s eta 0:00:40\n",
      "   ----------------------- --------------- 61.4/101.1 MB 999.6 kB/s eta 0:00:40\n",
      "   ----------------------- --------------- 61.5/101.1 MB 998.0 kB/s eta 0:00:40\n",
      "   ----------------------- --------------- 61.5/101.1 MB 996.5 kB/s eta 0:00:40\n",
      "   ----------------------- --------------- 61.5/101.1 MB 995.0 kB/s eta 0:00:40\n",
      "   ----------------------- --------------- 61.6/101.1 MB 995.0 kB/s eta 0:00:40\n",
      "   ----------------------- --------------- 61.6/101.1 MB 993.5 kB/s eta 0:00:40\n",
      "   ----------------------- --------------- 61.7/101.1 MB 993.5 kB/s eta 0:00:40\n",
      "   ----------------------- --------------- 61.8/101.1 MB 993.6 kB/s eta 0:00:40\n",
      "   ----------------------- --------------- 61.8/101.1 MB 993.5 kB/s eta 0:00:40\n",
      "   ----------------------- --------------- 61.9/101.1 MB 992.0 kB/s eta 0:00:40\n",
      "   ----------------------- --------------- 61.9/101.1 MB 990.5 kB/s eta 0:00:40\n",
      "   ----------------------- --------------- 62.0/101.1 MB 992.0 kB/s eta 0:00:40\n",
      "   ----------------------- --------------- 62.0/101.1 MB 989.0 kB/s eta 0:00:40\n",
      "   ----------------------- --------------- 62.1/101.1 MB 989.0 kB/s eta 0:00:40\n",
      "   ----------------------- --------------- 62.1/101.1 MB 987.5 kB/s eta 0:00:40\n",
      "   ----------------------- --------------- 62.2/101.1 MB 986.0 kB/s eta 0:00:40\n",
      "   ----------------------- --------------- 62.2/101.1 MB 986.0 kB/s eta 0:00:40\n",
      "   ----------------------- --------------- 62.2/101.1 MB 980.0 kB/s eta 0:00:40\n",
      "   ------------------------ -------------- 62.2/101.1 MB 978.6 kB/s eta 0:00:40\n",
      "   ------------------------ -------------- 62.3/101.1 MB 978.6 kB/s eta 0:00:40\n",
      "   ------------------------ -------------- 62.4/101.1 MB 978.6 kB/s eta 0:00:40\n",
      "   ------------------------ -------------- 62.4/101.1 MB 978.6 kB/s eta 0:00:40\n",
      "   ------------------------ -------------- 62.5/101.1 MB 980.0 kB/s eta 0:00:40\n",
      "   ------------------------ -------------- 62.6/101.1 MB 981.6 kB/s eta 0:00:40\n",
      "   ------------------------ -------------- 62.6/101.1 MB 981.6 kB/s eta 0:00:40\n",
      "   ------------------------ -------------- 62.7/101.1 MB 983.0 kB/s eta 0:00:40\n",
      "   ------------------------ -------------- 62.8/101.1 MB 984.5 kB/s eta 0:00:39\n",
      "   ------------------------ -------------- 62.8/101.1 MB 984.5 kB/s eta 0:00:39\n",
      "   ------------------------ -------------- 62.9/101.1 MB 986.0 kB/s eta 0:00:39\n",
      "   ------------------------ -------------- 63.0/101.1 MB 984.5 kB/s eta 0:00:39\n",
      "   ------------------------ -------------- 63.0/101.1 MB 986.0 kB/s eta 0:00:39\n",
      "   ------------------------ -------------- 63.1/101.1 MB 984.6 kB/s eta 0:00:39\n",
      "   ------------------------ -------------- 63.2/101.1 MB 984.6 kB/s eta 0:00:39\n",
      "   ------------------------ -------------- 63.2/101.1 MB 986.0 kB/s eta 0:00:39\n",
      "   ------------------------ -------------- 63.3/101.1 MB 987.5 kB/s eta 0:00:39\n",
      "   ------------------------ -------------- 63.3/101.1 MB 986.0 kB/s eta 0:00:39\n",
      "   ------------------------ -------------- 63.4/101.1 MB 987.5 kB/s eta 0:00:39\n",
      "   ------------------------ -------------- 63.4/101.1 MB 984.5 kB/s eta 0:00:39\n",
      "   ------------------------ -------------- 63.5/101.1 MB 981.6 kB/s eta 0:00:39\n",
      "   ------------------------ -------------- 63.5/101.1 MB 980.0 kB/s eta 0:00:39\n",
      "   ------------------------ -------------- 63.5/101.1 MB 980.0 kB/s eta 0:00:39\n",
      "   ------------------------ -------------- 63.6/101.1 MB 977.1 kB/s eta 0:00:39\n",
      "   ------------------------ -------------- 63.7/101.1 MB 977.1 kB/s eta 0:00:39\n",
      "   ------------------------ -------------- 63.7/101.1 MB 975.7 kB/s eta 0:00:39\n",
      "   ------------------------ -------------- 63.7/101.1 MB 975.7 kB/s eta 0:00:39\n",
      "   ------------------------ -------------- 63.8/101.1 MB 977.1 kB/s eta 0:00:39\n",
      "   ------------------------ -------------- 63.8/101.1 MB 977.2 kB/s eta 0:00:39\n",
      "   ------------------------ -------------- 63.9/101.1 MB 977.1 kB/s eta 0:00:39\n",
      "   ------------------------ -------------- 64.0/101.1 MB 977.1 kB/s eta 0:00:39\n",
      "   ------------------------ -------------- 64.0/101.1 MB 977.1 kB/s eta 0:00:38\n",
      "   ------------------------ -------------- 64.1/101.1 MB 980.1 kB/s eta 0:00:38\n",
      "   ------------------------ -------------- 64.1/101.1 MB 981.6 kB/s eta 0:00:38\n",
      "   ------------------------ -------------- 64.2/101.1 MB 981.6 kB/s eta 0:00:38\n",
      "   ------------------------ -------------- 64.2/101.1 MB 980.1 kB/s eta 0:00:38\n",
      "   ------------------------ -------------- 64.3/101.1 MB 980.0 kB/s eta 0:00:38\n",
      "   ------------------------ -------------- 64.4/101.1 MB 980.0 kB/s eta 0:00:38\n",
      "   ------------------------ -------------- 64.4/101.1 MB 978.6 kB/s eta 0:00:38\n",
      "   ------------------------ -------------- 64.5/101.1 MB 980.0 kB/s eta 0:00:38\n",
      "   ------------------------ -------------- 64.5/101.1 MB 980.1 kB/s eta 0:00:38\n",
      "   ------------------------ -------------- 64.6/101.1 MB 978.6 kB/s eta 0:00:38\n",
      "   ------------------------ -------------- 64.7/101.1 MB 978.6 kB/s eta 0:00:38\n",
      "   ------------------------ -------------- 64.7/101.1 MB 978.6 kB/s eta 0:00:38\n",
      "   ------------------------ -------------- 64.8/101.1 MB 978.6 kB/s eta 0:00:38\n",
      "   ------------------------- ------------- 64.8/101.1 MB 978.6 kB/s eta 0:00:38\n",
      "   ------------------------- ------------- 64.9/101.1 MB 978.6 kB/s eta 0:00:38\n",
      "   ------------------------- ------------- 65.0/101.1 MB 980.0 kB/s eta 0:00:37\n",
      "   ------------------------- ------------- 65.0/101.1 MB 978.6 kB/s eta 0:00:37\n",
      "   ------------------------- ------------- 65.1/101.1 MB 978.6 kB/s eta 0:00:37\n",
      "   ------------------------- ------------- 65.2/101.1 MB 978.6 kB/s eta 0:00:37\n",
      "   ------------------------- ------------- 65.2/101.1 MB 980.1 kB/s eta 0:00:37\n",
      "   ------------------------- ------------- 65.3/101.1 MB 978.6 kB/s eta 0:00:37\n",
      "   ------------------------- ------------- 65.3/101.1 MB 978.6 kB/s eta 0:00:37\n",
      "   ------------------------- ------------- 65.4/101.1 MB 977.1 kB/s eta 0:00:37\n",
      "   ------------------------- ------------- 65.5/101.1 MB 978.5 kB/s eta 0:00:37\n",
      "   ------------------------- ------------- 65.5/101.1 MB 978.6 kB/s eta 0:00:37\n",
      "   ------------------------- ------------- 65.6/101.1 MB 978.6 kB/s eta 0:00:37\n",
      "   ------------------------- ------------- 65.7/101.1 MB 980.0 kB/s eta 0:00:37\n",
      "   ------------------------- ------------- 65.7/101.1 MB 980.1 kB/s eta 0:00:37\n",
      "   ------------------------- ------------- 65.8/101.1 MB 978.6 kB/s eta 0:00:37\n",
      "   ------------------------- ------------- 65.9/101.1 MB 980.0 kB/s eta 0:00:36\n",
      "   ------------------------- ------------- 65.9/101.1 MB 980.1 kB/s eta 0:00:36\n",
      "   ------------------------- ------------- 66.0/101.1 MB 980.0 kB/s eta 0:00:36\n",
      "   ------------------------- ------------- 66.0/101.1 MB 983.1 kB/s eta 0:00:36\n",
      "   ------------------------- ------------- 66.1/101.1 MB 983.0 kB/s eta 0:00:36\n",
      "   ------------------------- ------------- 66.2/101.1 MB 984.5 kB/s eta 0:00:36\n",
      "   ------------------------- ------------- 66.2/101.1 MB 983.1 kB/s eta 0:00:36\n",
      "   ------------------------- ------------- 66.3/101.1 MB 980.1 kB/s eta 0:00:36\n",
      "   ------------------------- ------------- 66.3/101.1 MB 978.6 kB/s eta 0:00:36\n",
      "   ------------------------- ------------- 66.3/101.1 MB 977.1 kB/s eta 0:00:36\n",
      "   ------------------------- ------------- 66.4/101.1 MB 977.1 kB/s eta 0:00:36\n",
      "   ------------------------- ------------- 66.5/101.1 MB 977.1 kB/s eta 0:00:36\n",
      "   ------------------------- ------------- 66.5/101.1 MB 978.6 kB/s eta 0:00:36\n",
      "   ------------------------- ------------- 66.6/101.1 MB 978.5 kB/s eta 0:00:36\n",
      "   ------------------------- ------------- 66.6/101.1 MB 978.6 kB/s eta 0:00:36\n",
      "   ------------------------- ------------- 66.7/101.1 MB 980.1 kB/s eta 0:00:36\n",
      "   ------------------------- ------------- 66.8/101.1 MB 978.6 kB/s eta 0:00:36\n",
      "   ------------------------- ------------- 66.8/101.1 MB 978.6 kB/s eta 0:00:36\n",
      "   ------------------------- ------------- 66.9/101.1 MB 983.1 kB/s eta 0:00:35\n",
      "   ------------------------- ------------- 66.9/101.1 MB 978.6 kB/s eta 0:00:35\n",
      "   ------------------------- ------------- 66.9/101.1 MB 980.0 kB/s eta 0:00:35\n",
      "   ------------------------- ------------- 67.0/101.1 MB 980.0 kB/s eta 0:00:35\n",
      "   ------------------------- ------------- 67.0/101.1 MB 980.0 kB/s eta 0:00:35\n",
      "   ------------------------- ------------- 67.1/101.1 MB 978.6 kB/s eta 0:00:35\n",
      "   ------------------------- ------------- 67.2/101.1 MB 978.6 kB/s eta 0:00:35\n",
      "   ------------------------- ------------- 67.2/101.1 MB 975.7 kB/s eta 0:00:35\n",
      "   ------------------------- ------------- 67.2/101.1 MB 977.2 kB/s eta 0:00:35\n",
      "   ------------------------- ------------- 67.3/101.1 MB 975.7 kB/s eta 0:00:35\n",
      "   ------------------------- ------------- 67.3/101.1 MB 975.7 kB/s eta 0:00:35\n",
      "   ------------------------- ------------- 67.4/101.1 MB 971.4 kB/s eta 0:00:35\n",
      "   ------------------------- ------------- 67.4/101.1 MB 971.3 kB/s eta 0:00:35\n",
      "   ------------------------- ------------- 67.4/101.1 MB 971.3 kB/s eta 0:00:35\n",
      "   -------------------------- ------------ 67.4/101.1 MB 967.1 kB/s eta 0:00:35\n",
      "   -------------------------- ------------ 67.5/101.1 MB 964.3 kB/s eta 0:00:35\n",
      "   -------------------------- ------------ 67.5/101.1 MB 965.6 kB/s eta 0:00:35\n",
      "   -------------------------- ------------ 67.5/101.1 MB 961.4 kB/s eta 0:00:35\n",
      "   -------------------------- ------------ 67.5/101.1 MB 957.2 kB/s eta 0:00:36\n",
      "   -------------------------- ------------ 67.6/101.1 MB 960.0 kB/s eta 0:00:35\n",
      "   -------------------------- ------------ 67.6/101.1 MB 958.6 kB/s eta 0:00:36\n",
      "   -------------------------- ------------ 67.6/101.1 MB 954.4 kB/s eta 0:00:36\n",
      "   -------------------------- ------------ 67.6/101.1 MB 958.6 kB/s eta 0:00:35\n",
      "   -------------------------- ------------ 67.7/101.1 MB 953.0 kB/s eta 0:00:36\n",
      "   -------------------------- ------------ 67.7/101.1 MB 951.6 kB/s eta 0:00:36\n",
      "   -------------------------- ------------ 67.7/101.1 MB 953.0 kB/s eta 0:00:36\n",
      "   -------------------------- ------------ 67.8/101.1 MB 953.0 kB/s eta 0:00:36\n",
      "   -------------------------- ------------ 67.8/101.1 MB 954.4 kB/s eta 0:00:35\n",
      "   -------------------------- ------------ 67.8/101.1 MB 954.4 kB/s eta 0:00:35\n",
      "   -------------------------- ------------ 67.9/101.1 MB 952.9 kB/s eta 0:00:35\n",
      "   -------------------------- ------------ 67.9/101.1 MB 957.1 kB/s eta 0:00:35\n",
      "   -------------------------- ------------ 67.9/101.1 MB 962.8 kB/s eta 0:00:35\n",
      "   -------------------------- ------------ 68.0/101.1 MB 961.4 kB/s eta 0:00:35\n",
      "   -------------------------- ------------ 68.0/101.1 MB 967.0 kB/s eta 0:00:35\n",
      "   -------------------------- ------------ 68.0/101.1 MB 975.7 kB/s eta 0:00:34\n",
      "   -------------------------- ------------ 68.1/101.1 MB 975.7 kB/s eta 0:00:34\n",
      "   -------------------------- ------------ 68.1/101.1 MB 975.7 kB/s eta 0:00:34\n",
      "   -------------------------- ------------ 68.1/101.1 MB 975.7 kB/s eta 0:00:34\n",
      "   -------------------------- ------------ 68.1/101.1 MB 974.3 kB/s eta 0:00:34\n",
      "   -------------------------- ------------ 68.1/101.1 MB 974.3 kB/s eta 0:00:34\n",
      "   -------------------------- ------------ 68.1/101.1 MB 974.3 kB/s eta 0:00:34\n",
      "   -------------------------- ------------ 68.2/101.1 MB 977.1 kB/s eta 0:00:34\n",
      "   -------------------------- ------------ 68.2/101.1 MB 978.6 kB/s eta 0:00:34\n",
      "   -------------------------- ------------ 68.3/101.1 MB 983.1 kB/s eta 0:00:34\n",
      "   -------------------------- ------------ 68.3/101.1 MB 984.5 kB/s eta 0:00:34\n",
      "   -------------------------- ------------ 68.4/101.1 MB 991.9 kB/s eta 0:00:34\n",
      "   -------------------------- ------------ 68.4/101.1 MB 998.0 kB/s eta 0:00:33\n",
      "   -------------------------- ------------ 68.5/101.1 MB 999.6 kB/s eta 0:00:33\n",
      "   --------------------------- ------------ 68.5/101.1 MB 1.0 MB/s eta 0:00:33\n",
      "   --------------------------- ------------ 68.5/101.1 MB 1.0 MB/s eta 0:00:33\n",
      "   --------------------------- ------------ 68.6/101.1 MB 1.0 MB/s eta 0:00:33\n",
      "   --------------------------- ------------ 68.6/101.1 MB 1.0 MB/s eta 0:00:33\n",
      "   --------------------------- ------------ 68.7/101.1 MB 1.0 MB/s eta 0:00:33\n",
      "   --------------------------- ------------ 68.7/101.1 MB 1.0 MB/s eta 0:00:33\n",
      "   --------------------------- ------------ 68.8/101.1 MB 1.0 MB/s eta 0:00:33\n",
      "   --------------------------- ------------ 68.9/101.1 MB 1.0 MB/s eta 0:00:32\n",
      "   --------------------------- ------------ 68.9/101.1 MB 1.0 MB/s eta 0:00:32\n",
      "   --------------------------- ------------ 69.0/101.1 MB 1.0 MB/s eta 0:00:32\n",
      "   --------------------------- ------------ 69.0/101.1 MB 1.0 MB/s eta 0:00:32\n",
      "   --------------------------- ------------ 69.1/101.1 MB 1.0 MB/s eta 0:00:32\n",
      "   --------------------------- ------------ 69.1/101.1 MB 1.0 MB/s eta 0:00:32\n",
      "   --------------------------- ------------ 69.2/101.1 MB 1.0 MB/s eta 0:00:32\n",
      "   --------------------------- ------------ 69.2/101.1 MB 1.0 MB/s eta 0:00:31\n",
      "   --------------------------- ------------ 69.3/101.1 MB 1.0 MB/s eta 0:00:31\n",
      "   --------------------------- ------------ 69.4/101.1 MB 1.0 MB/s eta 0:00:31\n",
      "   --------------------------- ------------ 69.4/101.1 MB 1.0 MB/s eta 0:00:31\n",
      "   --------------------------- ------------ 69.5/101.1 MB 1.0 MB/s eta 0:00:31\n",
      "   --------------------------- ------------ 69.5/101.1 MB 1.0 MB/s eta 0:00:31\n",
      "   --------------------------- ------------ 69.6/101.1 MB 1.1 MB/s eta 0:00:30\n",
      "   --------------------------- ------------ 69.7/101.1 MB 1.1 MB/s eta 0:00:30\n",
      "   --------------------------- ------------ 69.7/101.1 MB 1.1 MB/s eta 0:00:30\n",
      "   --------------------------- ------------ 69.8/101.1 MB 1.1 MB/s eta 0:00:30\n",
      "   --------------------------- ------------ 69.9/101.1 MB 1.1 MB/s eta 0:00:30\n",
      "   --------------------------- ------------ 69.9/101.1 MB 1.1 MB/s eta 0:00:30\n",
      "   --------------------------- ------------ 70.0/101.1 MB 1.1 MB/s eta 0:00:30\n",
      "   --------------------------- ------------ 70.1/101.1 MB 1.1 MB/s eta 0:00:29\n",
      "   --------------------------- ------------ 70.1/101.1 MB 1.1 MB/s eta 0:00:29\n",
      "   --------------------------- ------------ 70.2/101.1 MB 1.1 MB/s eta 0:00:29\n",
      "   --------------------------- ------------ 70.2/101.1 MB 1.1 MB/s eta 0:00:29\n",
      "   --------------------------- ------------ 70.3/101.1 MB 1.1 MB/s eta 0:00:29\n",
      "   --------------------------- ------------ 70.4/101.1 MB 1.1 MB/s eta 0:00:29\n",
      "   --------------------------- ------------ 70.4/101.1 MB 1.1 MB/s eta 0:00:29\n",
      "   --------------------------- ------------ 70.5/101.1 MB 1.1 MB/s eta 0:00:29\n",
      "   --------------------------- ------------ 70.6/101.1 MB 1.1 MB/s eta 0:00:29\n",
      "   --------------------------- ------------ 70.6/101.1 MB 1.1 MB/s eta 0:00:29\n",
      "   --------------------------- ------------ 70.7/101.1 MB 1.1 MB/s eta 0:00:29\n",
      "   --------------------------- ------------ 70.8/101.1 MB 1.1 MB/s eta 0:00:29\n",
      "   ---------------------------- ----------- 70.8/101.1 MB 1.1 MB/s eta 0:00:28\n",
      "   ---------------------------- ----------- 70.9/101.1 MB 1.1 MB/s eta 0:00:28\n",
      "   ---------------------------- ----------- 71.0/101.1 MB 1.1 MB/s eta 0:00:28\n",
      "   ---------------------------- ----------- 71.0/101.1 MB 1.1 MB/s eta 0:00:28\n",
      "   ---------------------------- ----------- 71.0/101.1 MB 1.1 MB/s eta 0:00:28\n",
      "   ---------------------------- ----------- 71.1/101.1 MB 1.1 MB/s eta 0:00:28\n",
      "   ---------------------------- ----------- 71.2/101.1 MB 1.1 MB/s eta 0:00:28\n",
      "   ---------------------------- ----------- 71.2/101.1 MB 1.1 MB/s eta 0:00:28\n",
      "   ---------------------------- ----------- 71.3/101.1 MB 1.1 MB/s eta 0:00:28\n",
      "   ---------------------------- ----------- 71.4/101.1 MB 1.1 MB/s eta 0:00:27\n",
      "   ---------------------------- ----------- 71.4/101.1 MB 1.1 MB/s eta 0:00:27\n",
      "   ---------------------------- ----------- 71.5/101.1 MB 1.1 MB/s eta 0:00:27\n",
      "   ---------------------------- ----------- 71.6/101.1 MB 1.1 MB/s eta 0:00:27\n",
      "   ---------------------------- ----------- 71.6/101.1 MB 1.1 MB/s eta 0:00:27\n",
      "   ---------------------------- ----------- 71.7/101.1 MB 1.1 MB/s eta 0:00:27\n",
      "   ---------------------------- ----------- 71.8/101.1 MB 1.1 MB/s eta 0:00:27\n",
      "   ---------------------------- ----------- 71.8/101.1 MB 1.1 MB/s eta 0:00:27\n",
      "   ---------------------------- ----------- 71.9/101.1 MB 1.1 MB/s eta 0:00:27\n",
      "   ---------------------------- ----------- 71.9/101.1 MB 1.1 MB/s eta 0:00:27\n",
      "   ---------------------------- ----------- 72.0/101.1 MB 1.1 MB/s eta 0:00:27\n",
      "   ---------------------------- ----------- 72.0/101.1 MB 1.1 MB/s eta 0:00:27\n",
      "   ---------------------------- ----------- 72.1/101.1 MB 1.1 MB/s eta 0:00:27\n",
      "   ---------------------------- ----------- 72.2/101.1 MB 1.1 MB/s eta 0:00:26\n",
      "   ---------------------------- ----------- 72.2/101.1 MB 1.1 MB/s eta 0:00:26\n",
      "   ---------------------------- ----------- 72.3/101.1 MB 1.1 MB/s eta 0:00:26\n",
      "   ---------------------------- ----------- 72.4/101.1 MB 1.1 MB/s eta 0:00:26\n",
      "   ---------------------------- ----------- 72.4/101.1 MB 1.1 MB/s eta 0:00:26\n",
      "   ---------------------------- ----------- 72.5/101.1 MB 1.1 MB/s eta 0:00:26\n",
      "   ---------------------------- ----------- 72.6/101.1 MB 1.1 MB/s eta 0:00:26\n",
      "   ---------------------------- ----------- 72.6/101.1 MB 1.1 MB/s eta 0:00:26\n",
      "   ---------------------------- ----------- 72.7/101.1 MB 1.1 MB/s eta 0:00:26\n",
      "   ---------------------------- ----------- 72.8/101.1 MB 1.1 MB/s eta 0:00:26\n",
      "   ---------------------------- ----------- 72.8/101.1 MB 1.1 MB/s eta 0:00:26\n",
      "   ---------------------------- ----------- 72.9/101.1 MB 1.1 MB/s eta 0:00:25\n",
      "   ---------------------------- ----------- 72.9/101.1 MB 1.1 MB/s eta 0:00:25\n",
      "   ---------------------------- ----------- 73.0/101.1 MB 1.1 MB/s eta 0:00:25\n",
      "   ---------------------------- ----------- 73.1/101.1 MB 1.1 MB/s eta 0:00:25\n",
      "   ---------------------------- ----------- 73.1/101.1 MB 1.1 MB/s eta 0:00:25\n",
      "   ---------------------------- ----------- 73.1/101.1 MB 1.1 MB/s eta 0:00:25\n",
      "   ---------------------------- ----------- 73.1/101.1 MB 1.1 MB/s eta 0:00:26\n",
      "   ---------------------------- ----------- 73.2/101.1 MB 1.1 MB/s eta 0:00:25\n",
      "   ---------------------------- ----------- 73.3/101.1 MB 1.1 MB/s eta 0:00:25\n",
      "   ---------------------------- ----------- 73.3/101.1 MB 1.1 MB/s eta 0:00:25\n",
      "   ----------------------------- ---------- 73.3/101.1 MB 1.1 MB/s eta 0:00:25\n",
      "   ----------------------------- ---------- 73.4/101.1 MB 1.1 MB/s eta 0:00:25\n",
      "   ----------------------------- ---------- 73.4/101.1 MB 1.1 MB/s eta 0:00:25\n",
      "   ----------------------------- ---------- 73.5/101.1 MB 1.1 MB/s eta 0:00:25\n",
      "   ----------------------------- ---------- 73.6/101.1 MB 1.1 MB/s eta 0:00:25\n",
      "   ----------------------------- ---------- 73.6/101.1 MB 1.1 MB/s eta 0:00:25\n",
      "   ----------------------------- ---------- 73.7/101.1 MB 1.1 MB/s eta 0:00:25\n",
      "   ----------------------------- ---------- 73.8/101.1 MB 1.1 MB/s eta 0:00:25\n",
      "   ----------------------------- ---------- 73.8/101.1 MB 1.1 MB/s eta 0:00:25\n",
      "   ----------------------------- ---------- 73.9/101.1 MB 1.1 MB/s eta 0:00:25\n",
      "   ----------------------------- ---------- 74.0/101.1 MB 1.1 MB/s eta 0:00:25\n",
      "   ----------------------------- ---------- 74.0/101.1 MB 1.1 MB/s eta 0:00:24\n",
      "   ----------------------------- ---------- 74.1/101.1 MB 1.1 MB/s eta 0:00:24\n",
      "   ----------------------------- ---------- 74.2/101.1 MB 1.1 MB/s eta 0:00:24\n",
      "   ----------------------------- ---------- 74.2/101.1 MB 1.1 MB/s eta 0:00:24\n",
      "   ----------------------------- ---------- 74.3/101.1 MB 1.1 MB/s eta 0:00:24\n",
      "   ----------------------------- ---------- 74.3/101.1 MB 1.1 MB/s eta 0:00:24\n",
      "   ----------------------------- ---------- 74.4/101.1 MB 1.1 MB/s eta 0:00:24\n",
      "   ----------------------------- ---------- 74.5/101.1 MB 1.1 MB/s eta 0:00:24\n",
      "   ----------------------------- ---------- 74.5/101.1 MB 1.1 MB/s eta 0:00:24\n",
      "   ----------------------------- ---------- 74.6/101.1 MB 1.1 MB/s eta 0:00:24\n",
      "   ----------------------------- ---------- 74.7/101.1 MB 1.1 MB/s eta 0:00:24\n",
      "   ----------------------------- ---------- 74.7/101.1 MB 1.1 MB/s eta 0:00:24\n",
      "   ----------------------------- ---------- 74.8/101.1 MB 1.1 MB/s eta 0:00:24\n",
      "   ----------------------------- ---------- 74.9/101.1 MB 1.1 MB/s eta 0:00:24\n",
      "   ----------------------------- ---------- 74.9/101.1 MB 1.1 MB/s eta 0:00:23\n",
      "   ----------------------------- ---------- 75.0/101.1 MB 1.1 MB/s eta 0:00:23\n",
      "   ----------------------------- ---------- 75.0/101.1 MB 1.1 MB/s eta 0:00:23\n",
      "   ----------------------------- ---------- 75.1/101.1 MB 1.1 MB/s eta 0:00:23\n",
      "   ----------------------------- ---------- 75.2/101.1 MB 1.1 MB/s eta 0:00:23\n",
      "   ----------------------------- ---------- 75.2/101.1 MB 1.1 MB/s eta 0:00:23\n",
      "   ----------------------------- ---------- 75.3/101.1 MB 1.1 MB/s eta 0:00:23\n",
      "   ----------------------------- ---------- 75.4/101.1 MB 1.1 MB/s eta 0:00:23\n",
      "   ----------------------------- ---------- 75.4/101.1 MB 1.1 MB/s eta 0:00:23\n",
      "   ----------------------------- ---------- 75.5/101.1 MB 1.1 MB/s eta 0:00:23\n",
      "   ----------------------------- ---------- 75.6/101.1 MB 1.1 MB/s eta 0:00:23\n",
      "   ----------------------------- ---------- 75.6/101.1 MB 1.1 MB/s eta 0:00:23\n",
      "   ----------------------------- ---------- 75.7/101.1 MB 1.1 MB/s eta 0:00:23\n",
      "   ----------------------------- ---------- 75.7/101.1 MB 1.1 MB/s eta 0:00:23\n",
      "   ----------------------------- ---------- 75.7/101.1 MB 1.1 MB/s eta 0:00:23\n",
      "   ----------------------------- ---------- 75.7/101.1 MB 1.1 MB/s eta 0:00:23\n",
      "   ----------------------------- ---------- 75.8/101.1 MB 1.1 MB/s eta 0:00:23\n",
      "   ----------------------------- ---------- 75.8/101.1 MB 1.1 MB/s eta 0:00:23\n",
      "   ------------------------------ --------- 75.9/101.1 MB 1.1 MB/s eta 0:00:23\n",
      "   ------------------------------ --------- 75.9/101.1 MB 1.1 MB/s eta 0:00:23\n",
      "   ------------------------------ --------- 76.0/101.1 MB 1.1 MB/s eta 0:00:23\n",
      "   ------------------------------ --------- 76.0/101.1 MB 1.1 MB/s eta 0:00:23\n",
      "   ------------------------------ --------- 76.1/101.1 MB 1.1 MB/s eta 0:00:23\n",
      "   ------------------------------ --------- 76.1/101.1 MB 1.1 MB/s eta 0:00:23\n",
      "   ------------------------------ --------- 76.2/101.1 MB 1.1 MB/s eta 0:00:23\n",
      "   ------------------------------ --------- 76.2/101.1 MB 1.1 MB/s eta 0:00:23\n",
      "   ------------------------------ --------- 76.3/101.1 MB 1.1 MB/s eta 0:00:23\n",
      "   ------------------------------ --------- 76.3/101.1 MB 1.1 MB/s eta 0:00:23\n",
      "   ------------------------------ --------- 76.4/101.1 MB 1.1 MB/s eta 0:00:23\n",
      "   ------------------------------ --------- 76.5/101.1 MB 1.1 MB/s eta 0:00:23\n",
      "   ------------------------------ --------- 76.5/101.1 MB 1.1 MB/s eta 0:00:23\n",
      "   ------------------------------ --------- 76.6/101.1 MB 1.1 MB/s eta 0:00:23\n",
      "   ------------------------------ --------- 76.6/101.1 MB 1.1 MB/s eta 0:00:23\n",
      "   ------------------------------ --------- 76.7/101.1 MB 1.1 MB/s eta 0:00:22\n",
      "   ------------------------------ --------- 76.7/101.1 MB 1.1 MB/s eta 0:00:22\n",
      "   ------------------------------ --------- 76.8/101.1 MB 1.1 MB/s eta 0:00:22\n",
      "   ------------------------------ --------- 76.9/101.1 MB 1.1 MB/s eta 0:00:22\n",
      "   ------------------------------ --------- 76.9/101.1 MB 1.1 MB/s eta 0:00:22\n",
      "   ------------------------------ --------- 77.0/101.1 MB 1.1 MB/s eta 0:00:22\n",
      "   ------------------------------ --------- 77.0/101.1 MB 1.1 MB/s eta 0:00:22\n",
      "   ------------------------------ --------- 77.1/101.1 MB 1.1 MB/s eta 0:00:22\n",
      "   ------------------------------ --------- 77.1/101.1 MB 1.1 MB/s eta 0:00:22\n",
      "   ------------------------------ --------- 77.2/101.1 MB 1.1 MB/s eta 0:00:22\n",
      "   ------------------------------ --------- 77.2/101.1 MB 1.1 MB/s eta 0:00:22\n",
      "   ------------------------------ --------- 77.2/101.1 MB 1.1 MB/s eta 0:00:22\n",
      "   ------------------------------ --------- 77.3/101.1 MB 1.1 MB/s eta 0:00:22\n",
      "   ------------------------------ --------- 77.3/101.1 MB 1.1 MB/s eta 0:00:22\n",
      "   ------------------------------ --------- 77.3/101.1 MB 1.1 MB/s eta 0:00:22\n",
      "   ------------------------------ --------- 77.4/101.1 MB 1.1 MB/s eta 0:00:22\n",
      "   ------------------------------ --------- 77.4/101.1 MB 1.1 MB/s eta 0:00:22\n",
      "   ------------------------------ --------- 77.5/101.1 MB 1.1 MB/s eta 0:00:22\n",
      "   ------------------------------ --------- 77.5/101.1 MB 1.1 MB/s eta 0:00:22\n",
      "   ------------------------------ --------- 77.6/101.1 MB 1.1 MB/s eta 0:00:22\n",
      "   ------------------------------ --------- 77.6/101.1 MB 1.1 MB/s eta 0:00:22\n",
      "   ------------------------------ --------- 77.7/101.1 MB 1.1 MB/s eta 0:00:22\n",
      "   ------------------------------ --------- 77.7/101.1 MB 1.1 MB/s eta 0:00:21\n",
      "   ------------------------------ --------- 77.8/101.1 MB 1.1 MB/s eta 0:00:21\n",
      "   ------------------------------ --------- 77.8/101.1 MB 1.1 MB/s eta 0:00:21\n",
      "   ------------------------------ --------- 77.9/101.1 MB 1.1 MB/s eta 0:00:21\n",
      "   ------------------------------ --------- 77.9/101.1 MB 1.1 MB/s eta 0:00:21\n",
      "   ------------------------------ --------- 78.0/101.1 MB 1.1 MB/s eta 0:00:21\n",
      "   ------------------------------ --------- 78.0/101.1 MB 1.1 MB/s eta 0:00:21\n",
      "   ------------------------------ --------- 78.1/101.1 MB 1.2 MB/s eta 0:00:20\n",
      "   ------------------------------ --------- 78.1/101.1 MB 1.2 MB/s eta 0:00:20\n",
      "   ------------------------------ --------- 78.2/101.1 MB 1.2 MB/s eta 0:00:20\n",
      "   ------------------------------ --------- 78.2/101.1 MB 1.2 MB/s eta 0:00:20\n",
      "   ------------------------------ --------- 78.3/101.1 MB 1.2 MB/s eta 0:00:20\n",
      "   ------------------------------ --------- 78.3/101.1 MB 1.2 MB/s eta 0:00:20\n",
      "   ------------------------------ --------- 78.3/101.1 MB 1.2 MB/s eta 0:00:20\n",
      "   ------------------------------- -------- 78.4/101.1 MB 1.2 MB/s eta 0:00:20\n",
      "   ------------------------------- -------- 78.4/101.1 MB 1.2 MB/s eta 0:00:20\n",
      "   ------------------------------- -------- 78.5/101.1 MB 1.2 MB/s eta 0:00:20\n",
      "   ------------------------------- -------- 78.5/101.1 MB 1.2 MB/s eta 0:00:20\n",
      "   ------------------------------- -------- 78.6/101.1 MB 1.2 MB/s eta 0:00:19\n",
      "   ------------------------------- -------- 78.7/101.1 MB 1.2 MB/s eta 0:00:19\n",
      "   ------------------------------- -------- 78.7/101.1 MB 1.2 MB/s eta 0:00:19\n",
      "   ------------------------------- -------- 78.8/101.1 MB 1.2 MB/s eta 0:00:19\n",
      "   ------------------------------- -------- 78.8/101.1 MB 1.2 MB/s eta 0:00:19\n",
      "   ------------------------------- -------- 78.9/101.1 MB 1.2 MB/s eta 0:00:19\n",
      "   ------------------------------- -------- 79.0/101.1 MB 1.2 MB/s eta 0:00:19\n",
      "   ------------------------------- -------- 79.0/101.1 MB 1.2 MB/s eta 0:00:19\n",
      "   ------------------------------- -------- 79.1/101.1 MB 1.2 MB/s eta 0:00:19\n",
      "   ------------------------------- -------- 79.2/101.1 MB 1.2 MB/s eta 0:00:19\n",
      "   ------------------------------- -------- 79.2/101.1 MB 1.2 MB/s eta 0:00:19\n",
      "   ------------------------------- -------- 79.3/101.1 MB 1.2 MB/s eta 0:00:19\n",
      "   ------------------------------- -------- 79.4/101.1 MB 1.2 MB/s eta 0:00:18\n",
      "   ------------------------------- -------- 79.4/101.1 MB 1.2 MB/s eta 0:00:18\n",
      "   ------------------------------- -------- 79.5/101.1 MB 1.2 MB/s eta 0:00:18\n",
      "   ------------------------------- -------- 79.6/101.1 MB 1.2 MB/s eta 0:00:18\n",
      "   ------------------------------- -------- 79.6/101.1 MB 1.2 MB/s eta 0:00:18\n",
      "   ------------------------------- -------- 79.7/101.1 MB 1.2 MB/s eta 0:00:18\n",
      "   ------------------------------- -------- 79.7/101.1 MB 1.2 MB/s eta 0:00:18\n",
      "   ------------------------------- -------- 79.8/101.1 MB 1.2 MB/s eta 0:00:18\n",
      "   ------------------------------- -------- 79.9/101.1 MB 1.2 MB/s eta 0:00:18\n",
      "   ------------------------------- -------- 79.9/101.1 MB 1.2 MB/s eta 0:00:18\n",
      "   ------------------------------- -------- 80.0/101.1 MB 1.2 MB/s eta 0:00:18\n",
      "   ------------------------------- -------- 80.0/101.1 MB 1.2 MB/s eta 0:00:18\n",
      "   ------------------------------- -------- 80.1/101.1 MB 1.2 MB/s eta 0:00:18\n",
      "   ------------------------------- -------- 80.2/101.1 MB 1.2 MB/s eta 0:00:18\n",
      "   ------------------------------- -------- 80.2/101.1 MB 1.2 MB/s eta 0:00:18\n",
      "   ------------------------------- -------- 80.3/101.1 MB 1.2 MB/s eta 0:00:18\n",
      "   ------------------------------- -------- 80.4/101.1 MB 1.2 MB/s eta 0:00:18\n",
      "   ------------------------------- -------- 80.4/101.1 MB 1.2 MB/s eta 0:00:18\n",
      "   ------------------------------- -------- 80.5/101.1 MB 1.2 MB/s eta 0:00:17\n",
      "   ------------------------------- -------- 80.6/101.1 MB 1.2 MB/s eta 0:00:17\n",
      "   ------------------------------- -------- 80.6/101.1 MB 1.2 MB/s eta 0:00:17\n",
      "   ------------------------------- -------- 80.6/101.1 MB 1.2 MB/s eta 0:00:17\n",
      "   ------------------------------- -------- 80.7/101.1 MB 1.2 MB/s eta 0:00:17\n",
      "   ------------------------------- -------- 80.7/101.1 MB 1.2 MB/s eta 0:00:17\n",
      "   ------------------------------- -------- 80.8/101.1 MB 1.2 MB/s eta 0:00:17\n",
      "   ------------------------------- -------- 80.8/101.1 MB 1.2 MB/s eta 0:00:17\n",
      "   ------------------------------- -------- 80.9/101.1 MB 1.2 MB/s eta 0:00:17\n",
      "   -------------------------------- ------- 80.9/101.1 MB 1.2 MB/s eta 0:00:17\n",
      "   -------------------------------- ------- 80.9/101.1 MB 1.2 MB/s eta 0:00:17\n",
      "   -------------------------------- ------- 81.0/101.1 MB 1.2 MB/s eta 0:00:17\n",
      "   -------------------------------- ------- 81.0/101.1 MB 1.2 MB/s eta 0:00:17\n",
      "   -------------------------------- ------- 81.0/101.1 MB 1.2 MB/s eta 0:00:17\n",
      "   -------------------------------- ------- 81.0/101.1 MB 1.2 MB/s eta 0:00:17\n",
      "   -------------------------------- ------- 81.1/101.1 MB 1.2 MB/s eta 0:00:17\n",
      "   -------------------------------- ------- 81.1/101.1 MB 1.2 MB/s eta 0:00:17\n",
      "   -------------------------------- ------- 81.2/101.1 MB 1.2 MB/s eta 0:00:17\n",
      "   -------------------------------- ------- 81.2/101.1 MB 1.2 MB/s eta 0:00:17\n",
      "   -------------------------------- ------- 81.2/101.1 MB 1.2 MB/s eta 0:00:17\n",
      "   -------------------------------- ------- 81.3/101.1 MB 1.2 MB/s eta 0:00:18\n",
      "   -------------------------------- ------- 81.3/101.1 MB 1.2 MB/s eta 0:00:17\n",
      "   -------------------------------- ------- 81.4/101.1 MB 1.2 MB/s eta 0:00:17\n",
      "   -------------------------------- ------- 81.4/101.1 MB 1.2 MB/s eta 0:00:17\n",
      "   -------------------------------- ------- 81.4/101.1 MB 1.2 MB/s eta 0:00:17\n",
      "   -------------------------------- ------- 81.5/101.1 MB 1.2 MB/s eta 0:00:18\n",
      "   -------------------------------- ------- 81.5/101.1 MB 1.2 MB/s eta 0:00:18\n",
      "   -------------------------------- ------- 81.5/101.1 MB 1.1 MB/s eta 0:00:18\n",
      "   -------------------------------- ------- 81.5/101.1 MB 1.1 MB/s eta 0:00:18\n",
      "   -------------------------------- ------- 81.6/101.1 MB 1.1 MB/s eta 0:00:18\n",
      "   -------------------------------- ------- 81.6/101.1 MB 1.1 MB/s eta 0:00:18\n",
      "   -------------------------------- ------- 81.6/101.1 MB 1.1 MB/s eta 0:00:18\n",
      "   -------------------------------- ------- 81.7/101.1 MB 1.1 MB/s eta 0:00:18\n",
      "   -------------------------------- ------- 81.7/101.1 MB 1.1 MB/s eta 0:00:18\n",
      "   -------------------------------- ------- 81.7/101.1 MB 1.1 MB/s eta 0:00:18\n",
      "   -------------------------------- ------- 81.8/101.1 MB 1.1 MB/s eta 0:00:18\n",
      "   -------------------------------- ------- 81.8/101.1 MB 1.1 MB/s eta 0:00:18\n",
      "   -------------------------------- ------- 81.8/101.1 MB 1.1 MB/s eta 0:00:18\n",
      "   -------------------------------- ------- 81.8/101.1 MB 1.1 MB/s eta 0:00:18\n",
      "   -------------------------------- ------- 81.9/101.1 MB 1.1 MB/s eta 0:00:18\n",
      "   -------------------------------- ------- 81.9/101.1 MB 1.1 MB/s eta 0:00:18\n",
      "   -------------------------------- ------- 82.0/101.1 MB 1.1 MB/s eta 0:00:18\n",
      "   -------------------------------- ------- 82.0/101.1 MB 1.1 MB/s eta 0:00:18\n",
      "   -------------------------------- ------- 82.0/101.1 MB 1.1 MB/s eta 0:00:18\n",
      "   -------------------------------- ------- 82.1/101.1 MB 1.1 MB/s eta 0:00:18\n",
      "   -------------------------------- ------- 82.1/101.1 MB 1.1 MB/s eta 0:00:18\n",
      "   -------------------------------- ------- 82.2/101.1 MB 1.1 MB/s eta 0:00:18\n",
      "   -------------------------------- ------- 82.2/101.1 MB 1.1 MB/s eta 0:00:18\n",
      "   -------------------------------- ------- 82.3/101.1 MB 1.1 MB/s eta 0:00:18\n",
      "   -------------------------------- ------- 82.3/101.1 MB 1.1 MB/s eta 0:00:18\n",
      "   -------------------------------- ------- 82.3/101.1 MB 1.1 MB/s eta 0:00:18\n",
      "   -------------------------------- ------- 82.4/101.1 MB 1.1 MB/s eta 0:00:18\n",
      "   -------------------------------- ------- 82.4/101.1 MB 1.1 MB/s eta 0:00:18\n",
      "   -------------------------------- ------- 82.5/101.1 MB 1.1 MB/s eta 0:00:18\n",
      "   -------------------------------- ------- 82.5/101.1 MB 1.1 MB/s eta 0:00:18\n",
      "   -------------------------------- ------- 82.6/101.1 MB 1.1 MB/s eta 0:00:18\n",
      "   -------------------------------- ------- 82.6/101.1 MB 1.1 MB/s eta 0:00:17\n",
      "   -------------------------------- ------- 82.7/101.1 MB 1.1 MB/s eta 0:00:17\n",
      "   -------------------------------- ------- 82.7/101.1 MB 1.1 MB/s eta 0:00:17\n",
      "   -------------------------------- ------- 82.8/101.1 MB 1.1 MB/s eta 0:00:17\n",
      "   -------------------------------- ------- 82.8/101.1 MB 1.1 MB/s eta 0:00:17\n",
      "   -------------------------------- ------- 82.8/101.1 MB 1.1 MB/s eta 0:00:18\n",
      "   -------------------------------- ------- 82.9/101.1 MB 1.1 MB/s eta 0:00:18\n",
      "   -------------------------------- ------- 82.9/101.1 MB 1.1 MB/s eta 0:00:18\n",
      "   -------------------------------- ------- 82.9/101.1 MB 1.1 MB/s eta 0:00:18\n",
      "   -------------------------------- ------- 83.0/101.1 MB 1.1 MB/s eta 0:00:18\n",
      "   -------------------------------- ------- 83.0/101.1 MB 1.1 MB/s eta 0:00:18\n",
      "   -------------------------------- ------- 83.0/101.1 MB 1.1 MB/s eta 0:00:18\n",
      "   -------------------------------- ------- 83.1/101.1 MB 1.1 MB/s eta 0:00:18\n",
      "   -------------------------------- ------- 83.1/101.1 MB 1.1 MB/s eta 0:00:17\n",
      "   -------------------------------- ------- 83.2/101.1 MB 1.1 MB/s eta 0:00:17\n",
      "   -------------------------------- ------- 83.2/101.1 MB 1.1 MB/s eta 0:00:17\n",
      "   -------------------------------- ------- 83.3/101.1 MB 1.1 MB/s eta 0:00:17\n",
      "   -------------------------------- ------- 83.3/101.1 MB 1.1 MB/s eta 0:00:17\n",
      "   -------------------------------- ------- 83.3/101.1 MB 1.1 MB/s eta 0:00:17\n",
      "   -------------------------------- ------- 83.4/101.1 MB 1.1 MB/s eta 0:00:17\n",
      "   --------------------------------- ------ 83.4/101.1 MB 1.1 MB/s eta 0:00:17\n",
      "   --------------------------------- ------ 83.5/101.1 MB 1.1 MB/s eta 0:00:17\n",
      "   --------------------------------- ------ 83.5/101.1 MB 1.1 MB/s eta 0:00:17\n",
      "   --------------------------------- ------ 83.6/101.1 MB 1.1 MB/s eta 0:00:17\n",
      "   --------------------------------- ------ 83.6/101.1 MB 1.1 MB/s eta 0:00:17\n",
      "   --------------------------------- ------ 83.7/101.1 MB 1.1 MB/s eta 0:00:17\n",
      "   --------------------------------- ------ 83.7/101.1 MB 1.1 MB/s eta 0:00:17\n",
      "   --------------------------------- ------ 83.7/101.1 MB 1.1 MB/s eta 0:00:17\n",
      "   --------------------------------- ------ 83.8/101.1 MB 1.1 MB/s eta 0:00:17\n",
      "   --------------------------------- ------ 83.8/101.1 MB 1.1 MB/s eta 0:00:17\n",
      "   --------------------------------- ------ 83.9/101.1 MB 1.1 MB/s eta 0:00:17\n",
      "   --------------------------------- ------ 83.9/101.1 MB 1.0 MB/s eta 0:00:17\n",
      "   --------------------------------- ------ 84.0/101.1 MB 1.0 MB/s eta 0:00:17\n",
      "   --------------------------------- ------ 84.0/101.1 MB 1.0 MB/s eta 0:00:17\n",
      "   --------------------------------- ------ 84.1/101.1 MB 1.0 MB/s eta 0:00:17\n",
      "   --------------------------------- ------ 84.1/101.1 MB 1.0 MB/s eta 0:00:17\n",
      "   --------------------------------- ------ 84.2/101.1 MB 1.0 MB/s eta 0:00:17\n",
      "   --------------------------------- ------ 84.3/101.1 MB 1.0 MB/s eta 0:00:17\n",
      "   --------------------------------- ------ 84.3/101.1 MB 1.0 MB/s eta 0:00:17\n",
      "   --------------------------------- ------ 84.4/101.1 MB 1.0 MB/s eta 0:00:17\n",
      "   --------------------------------- ------ 84.4/101.1 MB 1.0 MB/s eta 0:00:17\n",
      "   --------------------------------- ------ 84.5/101.1 MB 1.0 MB/s eta 0:00:16\n",
      "   --------------------------------- ------ 84.6/101.1 MB 1.0 MB/s eta 0:00:16\n",
      "   --------------------------------- ------ 84.6/101.1 MB 1.0 MB/s eta 0:00:16\n",
      "   --------------------------------- ------ 84.7/101.1 MB 1.0 MB/s eta 0:00:16\n",
      "   --------------------------------- ------ 84.7/101.1 MB 1.0 MB/s eta 0:00:16\n",
      "   --------------------------------- ------ 84.8/101.1 MB 1.0 MB/s eta 0:00:16\n",
      "   --------------------------------- ------ 84.9/101.1 MB 1.0 MB/s eta 0:00:16\n",
      "   --------------------------------- ------ 85.0/101.1 MB 1.0 MB/s eta 0:00:16\n",
      "   --------------------------------- ------ 85.0/101.1 MB 1.0 MB/s eta 0:00:16\n",
      "   --------------------------------- ------ 85.1/101.1 MB 1.0 MB/s eta 0:00:16\n",
      "   --------------------------------- ------ 85.1/101.1 MB 1.0 MB/s eta 0:00:16\n",
      "   --------------------------------- ------ 85.1/101.1 MB 1.0 MB/s eta 0:00:16\n",
      "   --------------------------------- ------ 85.2/101.1 MB 1.0 MB/s eta 0:00:16\n",
      "   --------------------------------- ------ 85.3/101.1 MB 1.0 MB/s eta 0:00:16\n",
      "   --------------------------------- ------ 85.3/101.1 MB 1.0 MB/s eta 0:00:16\n",
      "   --------------------------------- ------ 85.4/101.1 MB 1.0 MB/s eta 0:00:16\n",
      "   --------------------------------- ------ 85.5/101.1 MB 1.0 MB/s eta 0:00:16\n",
      "   --------------------------------- ------ 85.5/101.1 MB 1.0 MB/s eta 0:00:16\n",
      "   --------------------------------- ------ 85.6/101.1 MB 1.0 MB/s eta 0:00:15\n",
      "   --------------------------------- ------ 85.6/101.1 MB 1.0 MB/s eta 0:00:15\n",
      "   --------------------------------- ------ 85.7/101.1 MB 1.0 MB/s eta 0:00:15\n",
      "   --------------------------------- ------ 85.8/101.1 MB 1.0 MB/s eta 0:00:15\n",
      "   --------------------------------- ------ 85.8/101.1 MB 1.0 MB/s eta 0:00:15\n",
      "   --------------------------------- ------ 85.9/101.1 MB 1.0 MB/s eta 0:00:15\n",
      "   ---------------------------------- ----- 86.0/101.1 MB 1.0 MB/s eta 0:00:15\n",
      "   ---------------------------------- ----- 86.0/101.1 MB 1.1 MB/s eta 0:00:15\n",
      "   ---------------------------------- ----- 86.1/101.1 MB 1.1 MB/s eta 0:00:15\n",
      "   ---------------------------------- ----- 86.2/101.1 MB 1.1 MB/s eta 0:00:15\n",
      "   ---------------------------------- ----- 86.2/101.1 MB 1.1 MB/s eta 0:00:15\n",
      "   ---------------------------------- ----- 86.3/101.1 MB 1.1 MB/s eta 0:00:15\n",
      "   ---------------------------------- ----- 86.4/101.1 MB 1.1 MB/s eta 0:00:14\n",
      "   ---------------------------------- ----- 86.4/101.1 MB 1.1 MB/s eta 0:00:14\n",
      "   ---------------------------------- ----- 86.5/101.1 MB 1.1 MB/s eta 0:00:14\n",
      "   ---------------------------------- ----- 86.5/101.1 MB 1.1 MB/s eta 0:00:14\n",
      "   ---------------------------------- ----- 86.5/101.1 MB 1.1 MB/s eta 0:00:14\n",
      "   ---------------------------------- ----- 86.6/101.1 MB 1.1 MB/s eta 0:00:14\n",
      "   ---------------------------------- ----- 86.6/101.1 MB 1.1 MB/s eta 0:00:14\n",
      "   ---------------------------------- ----- 86.7/101.1 MB 1.0 MB/s eta 0:00:14\n",
      "   ---------------------------------- ----- 86.7/101.1 MB 1.1 MB/s eta 0:00:14\n",
      "   ---------------------------------- ----- 86.8/101.1 MB 1.1 MB/s eta 0:00:14\n",
      "   ---------------------------------- ----- 86.8/101.1 MB 1.1 MB/s eta 0:00:14\n",
      "   ---------------------------------- ----- 86.9/101.1 MB 1.1 MB/s eta 0:00:14\n",
      "   ---------------------------------- ----- 86.9/101.1 MB 1.1 MB/s eta 0:00:14\n",
      "   ---------------------------------- ----- 87.0/101.1 MB 1.0 MB/s eta 0:00:14\n",
      "   ---------------------------------- ----- 87.0/101.1 MB 1.0 MB/s eta 0:00:14\n",
      "   ---------------------------------- ----- 87.0/101.1 MB 1.0 MB/s eta 0:00:14\n",
      "   ---------------------------------- ----- 87.1/101.1 MB 1.0 MB/s eta 0:00:14\n",
      "   ---------------------------------- ----- 87.1/101.1 MB 1.0 MB/s eta 0:00:14\n",
      "   ---------------------------------- ----- 87.1/101.1 MB 1.0 MB/s eta 0:00:14\n",
      "   ---------------------------------- ----- 87.1/101.1 MB 1.0 MB/s eta 0:00:14\n",
      "   ---------------------------------- ----- 87.2/101.1 MB 1.0 MB/s eta 0:00:14\n",
      "   ---------------------------------- ----- 87.2/101.1 MB 1.0 MB/s eta 0:00:14\n",
      "   ---------------------------------- ----- 87.2/101.1 MB 1.0 MB/s eta 0:00:14\n",
      "   ---------------------------------- ----- 87.3/101.1 MB 1.0 MB/s eta 0:00:14\n",
      "   ---------------------------------- ----- 87.3/101.1 MB 1.0 MB/s eta 0:00:14\n",
      "   ---------------------------------- ----- 87.3/101.1 MB 1.0 MB/s eta 0:00:14\n",
      "   ---------------------------------- ----- 87.3/101.1 MB 1.0 MB/s eta 0:00:14\n",
      "   ---------------------------------- ----- 87.3/101.1 MB 1.0 MB/s eta 0:00:14\n",
      "   ---------------------------------- ----- 87.4/101.1 MB 1.0 MB/s eta 0:00:14\n",
      "   ---------------------------------- ----- 87.4/101.1 MB 1.0 MB/s eta 0:00:14\n",
      "   --------------------------------- ----- 87.4/101.1 MB 999.6 kB/s eta 0:00:14\n",
      "   --------------------------------- ----- 87.4/101.1 MB 995.0 kB/s eta 0:00:14\n",
      "   --------------------------------- ----- 87.5/101.1 MB 998.0 kB/s eta 0:00:14\n",
      "   ---------------------------------- ----- 87.5/101.1 MB 1.0 MB/s eta 0:00:14\n",
      "   ---------------------------------- ----- 87.5/101.1 MB 1.0 MB/s eta 0:00:14\n",
      "   ---------------------------------- ----- 87.6/101.1 MB 1.0 MB/s eta 0:00:14\n",
      "   ---------------------------------- ----- 87.6/101.1 MB 1.0 MB/s eta 0:00:14\n",
      "   ---------------------------------- ----- 87.6/101.1 MB 1.0 MB/s eta 0:00:14\n",
      "   --------------------------------- ----- 87.7/101.1 MB 998.0 kB/s eta 0:00:14\n",
      "   --------------------------------- ----- 87.7/101.1 MB 998.0 kB/s eta 0:00:14\n",
      "   --------------------------------- ----- 87.8/101.1 MB 994.9 kB/s eta 0:00:14\n",
      "   --------------------------------- ----- 87.8/101.1 MB 996.5 kB/s eta 0:00:14\n",
      "   --------------------------------- ----- 87.8/101.1 MB 993.6 kB/s eta 0:00:14\n",
      "   --------------------------------- ----- 87.9/101.1 MB 994.9 kB/s eta 0:00:14\n",
      "   --------------------------------- ----- 87.9/101.1 MB 992.0 kB/s eta 0:00:14\n",
      "   --------------------------------- ----- 88.0/101.1 MB 993.5 kB/s eta 0:00:14\n",
      "   --------------------------------- ----- 88.0/101.1 MB 993.5 kB/s eta 0:00:14\n",
      "   --------------------------------- ----- 88.1/101.1 MB 991.9 kB/s eta 0:00:14\n",
      "   --------------------------------- ----- 88.1/101.1 MB 991.9 kB/s eta 0:00:14\n",
      "   --------------------------------- ----- 88.1/101.1 MB 991.9 kB/s eta 0:00:14\n",
      "   --------------------------------- ----- 88.1/101.1 MB 991.9 kB/s eta 0:00:14\n",
      "   ---------------------------------- ---- 88.2/101.1 MB 987.5 kB/s eta 0:00:14\n",
      "   ---------------------------------- ---- 88.2/101.1 MB 983.1 kB/s eta 0:00:14\n",
      "   ---------------------------------- ---- 88.3/101.1 MB 983.1 kB/s eta 0:00:14\n",
      "   ---------------------------------- ---- 88.3/101.1 MB 983.1 kB/s eta 0:00:14\n",
      "   ---------------------------------- ---- 88.4/101.1 MB 983.1 kB/s eta 0:00:13\n",
      "   ---------------------------------- ---- 88.4/101.1 MB 980.1 kB/s eta 0:00:13\n",
      "   ---------------------------------- ---- 88.5/101.1 MB 981.6 kB/s eta 0:00:13\n",
      "   ---------------------------------- ---- 88.5/101.1 MB 980.1 kB/s eta 0:00:13\n",
      "   ---------------------------------- ---- 88.6/101.1 MB 984.5 kB/s eta 0:00:13\n",
      "   ---------------------------------- ---- 88.6/101.1 MB 983.1 kB/s eta 0:00:13\n",
      "   ---------------------------------- ---- 88.7/101.1 MB 989.0 kB/s eta 0:00:13\n",
      "   ---------------------------------- ---- 88.8/101.1 MB 989.0 kB/s eta 0:00:13\n",
      "   ---------------------------------- ---- 88.8/101.1 MB 987.5 kB/s eta 0:00:13\n",
      "   ---------------------------------- ---- 88.9/101.1 MB 987.4 kB/s eta 0:00:13\n",
      "   ---------------------------------- ---- 88.9/101.1 MB 986.0 kB/s eta 0:00:13\n",
      "   ---------------------------------- ---- 89.0/101.1 MB 986.0 kB/s eta 0:00:13\n",
      "   ---------------------------------- ---- 89.0/101.1 MB 984.5 kB/s eta 0:00:13\n",
      "   ---------------------------------- ---- 89.1/101.1 MB 984.5 kB/s eta 0:00:13\n",
      "   ---------------------------------- ---- 89.2/101.1 MB 984.5 kB/s eta 0:00:13\n",
      "   ---------------------------------- ---- 89.2/101.1 MB 984.5 kB/s eta 0:00:13\n",
      "   ---------------------------------- ---- 89.3/101.1 MB 983.1 kB/s eta 0:00:13\n",
      "   ---------------------------------- ---- 89.3/101.1 MB 983.0 kB/s eta 0:00:13\n",
      "   ---------------------------------- ---- 89.3/101.1 MB 983.0 kB/s eta 0:00:13\n",
      "   ---------------------------------- ---- 89.4/101.1 MB 980.0 kB/s eta 0:00:12\n",
      "   ---------------------------------- ---- 89.4/101.1 MB 977.1 kB/s eta 0:00:12\n",
      "   ---------------------------------- ---- 89.5/101.1 MB 975.7 kB/s eta 0:00:12\n",
      "   ---------------------------------- ---- 89.5/101.1 MB 975.7 kB/s eta 0:00:12\n",
      "   ---------------------------------- ---- 89.6/101.1 MB 975.7 kB/s eta 0:00:12\n",
      "   ---------------------------------- ---- 89.7/101.1 MB 975.7 kB/s eta 0:00:12\n",
      "   ---------------------------------- ---- 89.7/101.1 MB 974.3 kB/s eta 0:00:12\n",
      "   ---------------------------------- ---- 89.8/101.1 MB 975.7 kB/s eta 0:00:12\n",
      "   ---------------------------------- ---- 89.8/101.1 MB 974.3 kB/s eta 0:00:12\n",
      "   ---------------------------------- ---- 89.9/101.1 MB 974.3 kB/s eta 0:00:12\n",
      "   ---------------------------------- ---- 90.0/101.1 MB 974.3 kB/s eta 0:00:12\n",
      "   ---------------------------------- ---- 90.0/101.1 MB 975.7 kB/s eta 0:00:12\n",
      "   ---------------------------------- ---- 90.1/101.1 MB 975.7 kB/s eta 0:00:12\n",
      "   ---------------------------------- ---- 90.2/101.1 MB 977.1 kB/s eta 0:00:12\n",
      "   ---------------------------------- ---- 90.2/101.1 MB 974.3 kB/s eta 0:00:12\n",
      "   ---------------------------------- ---- 90.3/101.1 MB 975.7 kB/s eta 0:00:12\n",
      "   ---------------------------------- ---- 90.3/101.1 MB 975.7 kB/s eta 0:00:12\n",
      "   ---------------------------------- ---- 90.4/101.1 MB 975.7 kB/s eta 0:00:11\n",
      "   ---------------------------------- ---- 90.5/101.1 MB 975.7 kB/s eta 0:00:11\n",
      "   ---------------------------------- ---- 90.5/101.1 MB 974.3 kB/s eta 0:00:11\n",
      "   ---------------------------------- ---- 90.6/101.1 MB 975.7 kB/s eta 0:00:11\n",
      "   ---------------------------------- ---- 90.7/101.1 MB 975.7 kB/s eta 0:00:11\n",
      "   ---------------------------------- ---- 90.7/101.1 MB 975.7 kB/s eta 0:00:11\n",
      "   ----------------------------------- --- 90.8/101.1 MB 974.3 kB/s eta 0:00:11\n",
      "   ----------------------------------- --- 90.8/101.1 MB 974.3 kB/s eta 0:00:11\n",
      "   ----------------------------------- --- 90.9/101.1 MB 975.7 kB/s eta 0:00:11\n",
      "   ----------------------------------- --- 91.0/101.1 MB 978.6 kB/s eta 0:00:11\n",
      "   ----------------------------------- --- 91.0/101.1 MB 980.0 kB/s eta 0:00:11\n",
      "   ----------------------------------- --- 91.1/101.1 MB 981.6 kB/s eta 0:00:11\n",
      "   ----------------------------------- --- 91.2/101.1 MB 989.1 kB/s eta 0:00:11\n",
      "   ----------------------------------- --- 91.2/101.1 MB 995.0 kB/s eta 0:00:10\n",
      "   ----------------------------------- --- 91.3/101.1 MB 999.6 kB/s eta 0:00:10\n",
      "   ------------------------------------ --- 91.4/101.1 MB 1.0 MB/s eta 0:00:10\n",
      "   ------------------------------------ --- 91.4/101.1 MB 1.0 MB/s eta 0:00:10\n",
      "   ------------------------------------ --- 91.5/101.1 MB 1.0 MB/s eta 0:00:10\n",
      "   ------------------------------------ --- 91.5/101.1 MB 1.0 MB/s eta 0:00:10\n",
      "   ------------------------------------ --- 91.6/101.1 MB 1.0 MB/s eta 0:00:10\n",
      "   ------------------------------------ --- 91.7/101.1 MB 1.0 MB/s eta 0:00:10\n",
      "   ------------------------------------ --- 91.7/101.1 MB 1.0 MB/s eta 0:00:10\n",
      "   ------------------------------------ --- 91.8/101.1 MB 1.0 MB/s eta 0:00:10\n",
      "   ------------------------------------ --- 91.9/101.1 MB 1.0 MB/s eta 0:00:09\n",
      "   ------------------------------------ --- 91.9/101.1 MB 1.0 MB/s eta 0:00:09\n",
      "   ------------------------------------ --- 92.0/101.1 MB 1.0 MB/s eta 0:00:09\n",
      "   ------------------------------------ --- 92.1/101.1 MB 1.1 MB/s eta 0:00:09\n",
      "   ------------------------------------ --- 92.1/101.1 MB 1.1 MB/s eta 0:00:09\n",
      "   ------------------------------------ --- 92.2/101.1 MB 1.1 MB/s eta 0:00:09\n",
      "   ------------------------------------ --- 92.2/101.1 MB 1.1 MB/s eta 0:00:09\n",
      "   ------------------------------------ --- 92.3/101.1 MB 1.1 MB/s eta 0:00:09\n",
      "   ------------------------------------ --- 92.3/101.1 MB 1.1 MB/s eta 0:00:09\n",
      "   ------------------------------------ --- 92.4/101.1 MB 1.1 MB/s eta 0:00:09\n",
      "   ------------------------------------ --- 92.4/101.1 MB 1.1 MB/s eta 0:00:09\n",
      "   ------------------------------------ --- 92.5/101.1 MB 1.1 MB/s eta 0:00:09\n",
      "   ------------------------------------ --- 92.6/101.1 MB 1.1 MB/s eta 0:00:08\n",
      "   ------------------------------------ --- 92.6/101.1 MB 1.1 MB/s eta 0:00:08\n",
      "   ------------------------------------ --- 92.7/101.1 MB 1.1 MB/s eta 0:00:08\n",
      "   ------------------------------------ --- 92.8/101.1 MB 1.1 MB/s eta 0:00:08\n",
      "   ------------------------------------ --- 92.8/101.1 MB 1.1 MB/s eta 0:00:08\n",
      "   ------------------------------------ --- 92.9/101.1 MB 1.1 MB/s eta 0:00:08\n",
      "   ------------------------------------ --- 93.0/101.1 MB 1.1 MB/s eta 0:00:08\n",
      "   ------------------------------------ --- 93.0/101.1 MB 1.1 MB/s eta 0:00:08\n",
      "   ------------------------------------ --- 93.1/101.1 MB 1.1 MB/s eta 0:00:08\n",
      "   ------------------------------------ --- 93.2/101.1 MB 1.1 MB/s eta 0:00:08\n",
      "   ------------------------------------ --- 93.2/101.1 MB 1.1 MB/s eta 0:00:08\n",
      "   ------------------------------------ --- 93.3/101.1 MB 1.1 MB/s eta 0:00:08\n",
      "   ------------------------------------ --- 93.3/101.1 MB 1.1 MB/s eta 0:00:08\n",
      "   ------------------------------------ --- 93.4/101.1 MB 1.1 MB/s eta 0:00:07\n",
      "   ------------------------------------ --- 93.5/101.1 MB 1.1 MB/s eta 0:00:07\n",
      "   ------------------------------------- -- 93.6/101.1 MB 1.1 MB/s eta 0:00:07\n",
      "   ------------------------------------- -- 93.6/101.1 MB 1.1 MB/s eta 0:00:07\n",
      "   ------------------------------------- -- 93.6/101.1 MB 1.1 MB/s eta 0:00:07\n",
      "   ------------------------------------- -- 93.7/101.1 MB 1.1 MB/s eta 0:00:07\n",
      "   ------------------------------------- -- 93.7/101.1 MB 1.1 MB/s eta 0:00:07\n",
      "   ------------------------------------- -- 93.7/101.1 MB 1.1 MB/s eta 0:00:07\n",
      "   ------------------------------------- -- 93.8/101.1 MB 1.1 MB/s eta 0:00:07\n",
      "   ------------------------------------- -- 93.9/101.1 MB 1.1 MB/s eta 0:00:07\n",
      "   ------------------------------------- -- 93.9/101.1 MB 1.1 MB/s eta 0:00:07\n",
      "   ------------------------------------- -- 94.0/101.1 MB 1.1 MB/s eta 0:00:07\n",
      "   ------------------------------------- -- 94.1/101.1 MB 1.1 MB/s eta 0:00:07\n",
      "   ------------------------------------- -- 94.1/101.1 MB 1.1 MB/s eta 0:00:07\n",
      "   ------------------------------------- -- 94.2/101.1 MB 1.1 MB/s eta 0:00:07\n",
      "   ------------------------------------- -- 94.3/101.1 MB 1.1 MB/s eta 0:00:07\n",
      "   ------------------------------------- -- 94.3/101.1 MB 1.1 MB/s eta 0:00:07\n",
      "   ------------------------------------- -- 94.4/101.1 MB 1.1 MB/s eta 0:00:06\n",
      "   ------------------------------------- -- 94.5/101.1 MB 1.1 MB/s eta 0:00:06\n",
      "   ------------------------------------- -- 94.5/101.1 MB 1.1 MB/s eta 0:00:06\n",
      "   ------------------------------------- -- 94.6/101.1 MB 1.1 MB/s eta 0:00:06\n",
      "   ------------------------------------- -- 94.7/101.1 MB 1.1 MB/s eta 0:00:06\n",
      "   ------------------------------------- -- 94.7/101.1 MB 1.1 MB/s eta 0:00:06\n",
      "   ------------------------------------- -- 94.8/101.1 MB 1.1 MB/s eta 0:00:06\n",
      "   ------------------------------------- -- 94.9/101.1 MB 1.1 MB/s eta 0:00:06\n",
      "   ------------------------------------- -- 94.9/101.1 MB 1.1 MB/s eta 0:00:06\n",
      "   ------------------------------------- -- 95.0/101.1 MB 1.1 MB/s eta 0:00:06\n",
      "   ------------------------------------- -- 95.0/101.1 MB 1.1 MB/s eta 0:00:06\n",
      "   ------------------------------------- -- 95.1/101.1 MB 1.1 MB/s eta 0:00:06\n",
      "   ------------------------------------- -- 95.2/101.1 MB 1.1 MB/s eta 0:00:06\n",
      "   ------------------------------------- -- 95.2/101.1 MB 1.1 MB/s eta 0:00:06\n",
      "   ------------------------------------- -- 95.3/101.1 MB 1.1 MB/s eta 0:00:06\n",
      "   ------------------------------------- -- 95.4/101.1 MB 1.1 MB/s eta 0:00:06\n",
      "   ------------------------------------- -- 95.4/101.1 MB 1.1 MB/s eta 0:00:05\n",
      "   ------------------------------------- -- 95.5/101.1 MB 1.1 MB/s eta 0:00:05\n",
      "   ------------------------------------- -- 95.6/101.1 MB 1.1 MB/s eta 0:00:05\n",
      "   ------------------------------------- -- 95.6/101.1 MB 1.1 MB/s eta 0:00:05\n",
      "   ------------------------------------- -- 95.7/101.1 MB 1.1 MB/s eta 0:00:05\n",
      "   ------------------------------------- -- 95.8/101.1 MB 1.1 MB/s eta 0:00:05\n",
      "   ------------------------------------- -- 95.8/101.1 MB 1.1 MB/s eta 0:00:05\n",
      "   ------------------------------------- -- 95.9/101.1 MB 1.1 MB/s eta 0:00:05\n",
      "   ------------------------------------- -- 95.9/101.1 MB 1.1 MB/s eta 0:00:05\n",
      "   ------------------------------------- -- 96.0/101.1 MB 1.1 MB/s eta 0:00:05\n",
      "   -------------------------------------- - 96.1/101.1 MB 1.1 MB/s eta 0:00:05\n",
      "   -------------------------------------- - 96.2/101.1 MB 1.1 MB/s eta 0:00:05\n",
      "   -------------------------------------- - 96.2/101.1 MB 1.1 MB/s eta 0:00:05\n",
      "   -------------------------------------- - 96.3/101.1 MB 1.1 MB/s eta 0:00:05\n",
      "   -------------------------------------- - 96.3/101.1 MB 1.1 MB/s eta 0:00:05\n",
      "   -------------------------------------- - 96.4/101.1 MB 1.1 MB/s eta 0:00:05\n",
      "   -------------------------------------- - 96.5/101.1 MB 1.1 MB/s eta 0:00:05\n",
      "   -------------------------------------- - 96.5/101.1 MB 1.1 MB/s eta 0:00:05\n",
      "   -------------------------------------- - 96.6/101.1 MB 1.1 MB/s eta 0:00:04\n",
      "   -------------------------------------- - 96.7/101.1 MB 1.1 MB/s eta 0:00:04\n",
      "   -------------------------------------- - 96.7/101.1 MB 1.2 MB/s eta 0:00:04\n",
      "   -------------------------------------- - 96.8/101.1 MB 1.2 MB/s eta 0:00:04\n",
      "   -------------------------------------- - 96.9/101.1 MB 1.2 MB/s eta 0:00:04\n",
      "   -------------------------------------- - 96.9/101.1 MB 1.2 MB/s eta 0:00:04\n",
      "   -------------------------------------- - 97.0/101.1 MB 1.2 MB/s eta 0:00:04\n",
      "   -------------------------------------- - 97.1/101.1 MB 1.2 MB/s eta 0:00:04\n",
      "   -------------------------------------- - 97.1/101.1 MB 1.2 MB/s eta 0:00:04\n",
      "   -------------------------------------- - 97.2/101.1 MB 1.2 MB/s eta 0:00:04\n",
      "   -------------------------------------- - 97.2/101.1 MB 1.2 MB/s eta 0:00:04\n",
      "   -------------------------------------- - 97.3/101.1 MB 1.2 MB/s eta 0:00:04\n",
      "   -------------------------------------- - 97.4/101.1 MB 1.2 MB/s eta 0:00:04\n",
      "   -------------------------------------- - 97.4/101.1 MB 1.2 MB/s eta 0:00:04\n",
      "   -------------------------------------- - 97.4/101.1 MB 1.2 MB/s eta 0:00:04\n",
      "   -------------------------------------- - 97.4/101.1 MB 1.2 MB/s eta 0:00:04\n",
      "   -------------------------------------- - 97.5/101.1 MB 1.2 MB/s eta 0:00:04\n",
      "   -------------------------------------- - 97.5/101.1 MB 1.2 MB/s eta 0:00:03\n",
      "   -------------------------------------- - 97.6/101.1 MB 1.2 MB/s eta 0:00:03\n",
      "   -------------------------------------- - 97.6/101.1 MB 1.2 MB/s eta 0:00:03\n",
      "   -------------------------------------- - 97.7/101.1 MB 1.2 MB/s eta 0:00:03\n",
      "   -------------------------------------- - 97.7/101.1 MB 1.2 MB/s eta 0:00:03\n",
      "   -------------------------------------- - 97.8/101.1 MB 1.2 MB/s eta 0:00:03\n",
      "   -------------------------------------- - 97.8/101.1 MB 1.2 MB/s eta 0:00:03\n",
      "   -------------------------------------- - 97.9/101.1 MB 1.2 MB/s eta 0:00:03\n",
      "   -------------------------------------- - 97.9/101.1 MB 1.2 MB/s eta 0:00:03\n",
      "   -------------------------------------- - 98.0/101.1 MB 1.2 MB/s eta 0:00:03\n",
      "   -------------------------------------- - 98.0/101.1 MB 1.2 MB/s eta 0:00:03\n",
      "   -------------------------------------- - 98.1/101.1 MB 1.2 MB/s eta 0:00:03\n",
      "   -------------------------------------- - 98.1/101.1 MB 1.2 MB/s eta 0:00:03\n",
      "   -------------------------------------- - 98.2/101.1 MB 1.2 MB/s eta 0:00:03\n",
      "   -------------------------------------- - 98.3/101.1 MB 1.2 MB/s eta 0:00:03\n",
      "   -------------------------------------- - 98.3/101.1 MB 1.2 MB/s eta 0:00:03\n",
      "   -------------------------------------- - 98.4/101.1 MB 1.3 MB/s eta 0:00:03\n",
      "   -------------------------------------- - 98.4/101.1 MB 1.3 MB/s eta 0:00:03\n",
      "   -------------------------------------- - 98.5/101.1 MB 1.3 MB/s eta 0:00:03\n",
      "   -------------------------------------- - 98.6/101.1 MB 1.3 MB/s eta 0:00:03\n",
      "   ---------------------------------------  98.6/101.1 MB 1.3 MB/s eta 0:00:02\n",
      "   ---------------------------------------  98.7/101.1 MB 1.3 MB/s eta 0:00:02\n",
      "   ---------------------------------------  98.8/101.1 MB 1.3 MB/s eta 0:00:02\n",
      "   ---------------------------------------  98.8/101.1 MB 1.3 MB/s eta 0:00:02\n",
      "   ---------------------------------------  98.9/101.1 MB 1.3 MB/s eta 0:00:02\n",
      "   ---------------------------------------  98.9/101.1 MB 1.3 MB/s eta 0:00:02\n",
      "   ---------------------------------------  99.0/101.1 MB 1.3 MB/s eta 0:00:02\n",
      "   ---------------------------------------  99.1/101.1 MB 1.3 MB/s eta 0:00:02\n",
      "   ---------------------------------------  99.2/101.1 MB 1.3 MB/s eta 0:00:02\n",
      "   ---------------------------------------  99.2/101.1 MB 1.3 MB/s eta 0:00:02\n",
      "   ---------------------------------------  99.2/101.1 MB 1.3 MB/s eta 0:00:02\n",
      "   ---------------------------------------  99.3/101.1 MB 1.3 MB/s eta 0:00:02\n",
      "   ---------------------------------------  99.3/101.1 MB 1.3 MB/s eta 0:00:02\n",
      "   ---------------------------------------  99.3/101.1 MB 1.3 MB/s eta 0:00:02\n",
      "   ---------------------------------------  99.4/101.1 MB 1.3 MB/s eta 0:00:02\n",
      "   ---------------------------------------  99.5/101.1 MB 1.3 MB/s eta 0:00:02\n",
      "   ---------------------------------------  99.5/101.1 MB 1.3 MB/s eta 0:00:02\n",
      "   ---------------------------------------  99.6/101.1 MB 1.3 MB/s eta 0:00:02\n",
      "   ---------------------------------------  99.7/101.1 MB 1.3 MB/s eta 0:00:02\n",
      "   ---------------------------------------  99.7/101.1 MB 1.3 MB/s eta 0:00:02\n",
      "   ---------------------------------------  99.8/101.1 MB 1.3 MB/s eta 0:00:02\n",
      "   ---------------------------------------  99.9/101.1 MB 1.3 MB/s eta 0:00:01\n",
      "   ---------------------------------------  99.9/101.1 MB 1.3 MB/s eta 0:00:01\n",
      "   ---------------------------------------  100.0/101.1 MB 1.3 MB/s eta 0:00:01\n",
      "   ---------------------------------------  100.0/101.1 MB 1.3 MB/s eta 0:00:01\n",
      "   ---------------------------------------  100.0/101.1 MB 1.3 MB/s eta 0:00:01\n",
      "   ---------------------------------------  100.0/101.1 MB 1.3 MB/s eta 0:00:01\n",
      "   ---------------------------------------  100.1/101.1 MB 1.3 MB/s eta 0:00:01\n",
      "   ---------------------------------------  100.1/101.1 MB 1.3 MB/s eta 0:00:01\n",
      "   ---------------------------------------  100.2/101.1 MB 1.3 MB/s eta 0:00:01\n",
      "   ---------------------------------------  100.2/101.1 MB 1.3 MB/s eta 0:00:01\n",
      "   ---------------------------------------  100.3/101.1 MB 1.3 MB/s eta 0:00:01\n",
      "   ---------------------------------------  100.3/101.1 MB 1.3 MB/s eta 0:00:01\n",
      "   ---------------------------------------  100.4/101.1 MB 1.3 MB/s eta 0:00:01\n",
      "   ---------------------------------------  100.4/101.1 MB 1.3 MB/s eta 0:00:01\n",
      "   ---------------------------------------  100.4/101.1 MB 1.2 MB/s eta 0:00:01\n",
      "   ---------------------------------------  100.5/101.1 MB 1.2 MB/s eta 0:00:01\n",
      "   ---------------------------------------  100.5/101.1 MB 1.2 MB/s eta 0:00:01\n",
      "   ---------------------------------------  100.6/101.1 MB 1.2 MB/s eta 0:00:01\n",
      "   ---------------------------------------  100.6/101.1 MB 1.2 MB/s eta 0:00:01\n",
      "   ---------------------------------------  100.7/101.1 MB 1.2 MB/s eta 0:00:01\n",
      "   ---------------------------------------  100.7/101.1 MB 1.2 MB/s eta 0:00:01\n",
      "   ---------------------------------------  100.8/101.1 MB 1.2 MB/s eta 0:00:01\n",
      "   ---------------------------------------  100.9/101.1 MB 1.2 MB/s eta 0:00:01\n",
      "   ---------------------------------------  100.9/101.1 MB 1.2 MB/s eta 0:00:01\n",
      "   ---------------------------------------  101.0/101.1 MB 1.2 MB/s eta 0:00:01\n",
      "   ---------------------------------------  101.0/101.1 MB 1.2 MB/s eta 0:00:01\n",
      "   ---------------------------------------  101.1/101.1 MB 1.2 MB/s eta 0:00:01\n",
      "   ---------------------------------------  101.1/101.1 MB 1.2 MB/s eta 0:00:01\n",
      "   ---------------------------------------  101.1/101.1 MB 1.2 MB/s eta 0:00:01\n",
      "   ---------------------------------------  101.1/101.1 MB 1.2 MB/s eta 0:00:01\n",
      "   ---------------------------------------  101.1/101.1 MB 1.2 MB/s eta 0:00:01\n",
      "   ---------------------------------------- 101.1/101.1 MB 1.2 MB/s eta 0:00:00\n",
      "Downloading graphviz-0.20.3-py3-none-any.whl (47 kB)\n",
      "   ---------------------------------------- 0.0/47.1 kB ? eta -:--:--\n",
      "   -------------------------- ------------- 30.7/47.1 kB 1.3 MB/s eta 0:00:01\n",
      "   ---------------------------------------- 47.1/47.1 kB 784.8 kB/s eta 0:00:00\n",
      "Installing collected packages: graphviz, catboost\n",
      "Successfully installed catboost-1.2.5 graphviz-0.20.3\n"
     ]
    },
    {
     "name": "stderr",
     "output_type": "stream",
     "text": [
      "DEPRECATION: Loading egg at c:\\programdata\\anaconda3\\lib\\site-packages\\vboxapi-1.0-py3.11.egg is deprecated. pip 24.3 will enforce this behaviour change. A possible replacement is to use pip for package installation.. Discussion can be found at https://github.com/pypa/pip/issues/12330\n"
     ]
    },
    {
     "name": "stdout",
     "output_type": "stream",
     "text": [
      "Requirement already satisfied: ipywidgets in c:\\programdata\\anaconda3\\lib\\site-packages (8.0.4)\n",
      "Collecting ipywidgets\n",
      "  Downloading ipywidgets-8.1.3-py3-none-any.whl.metadata (2.4 kB)\n",
      "Collecting comm>=0.1.3 (from ipywidgets)\n",
      "  Downloading comm-0.2.2-py3-none-any.whl.metadata (3.7 kB)\n",
      "Requirement already satisfied: ipython>=6.1.0 in c:\\programdata\\anaconda3\\lib\\site-packages (from ipywidgets) (8.15.0)\n",
      "Requirement already satisfied: traitlets>=4.3.1 in c:\\programdata\\anaconda3\\lib\\site-packages (from ipywidgets) (5.7.1)\n",
      "Collecting widgetsnbextension~=4.0.11 (from ipywidgets)\n",
      "  Downloading widgetsnbextension-4.0.11-py3-none-any.whl.metadata (1.6 kB)\n",
      "Collecting jupyterlab-widgets~=3.0.11 (from ipywidgets)\n",
      "  Downloading jupyterlab_widgets-3.0.11-py3-none-any.whl.metadata (4.1 kB)\n",
      "Requirement already satisfied: backcall in c:\\programdata\\anaconda3\\lib\\site-packages (from ipython>=6.1.0->ipywidgets) (0.2.0)\n",
      "Requirement already satisfied: decorator in c:\\programdata\\anaconda3\\lib\\site-packages (from ipython>=6.1.0->ipywidgets) (5.1.1)\n",
      "Requirement already satisfied: jedi>=0.16 in c:\\programdata\\anaconda3\\lib\\site-packages (from ipython>=6.1.0->ipywidgets) (0.18.1)\n",
      "Requirement already satisfied: matplotlib-inline in c:\\programdata\\anaconda3\\lib\\site-packages (from ipython>=6.1.0->ipywidgets) (0.1.6)\n",
      "Requirement already satisfied: pickleshare in c:\\programdata\\anaconda3\\lib\\site-packages (from ipython>=6.1.0->ipywidgets) (0.7.5)\n",
      "Requirement already satisfied: prompt-toolkit!=3.0.37,<3.1.0,>=3.0.30 in c:\\programdata\\anaconda3\\lib\\site-packages (from ipython>=6.1.0->ipywidgets) (3.0.36)\n",
      "Requirement already satisfied: pygments>=2.4.0 in c:\\programdata\\anaconda3\\lib\\site-packages (from ipython>=6.1.0->ipywidgets) (2.15.1)\n",
      "Requirement already satisfied: stack-data in c:\\programdata\\anaconda3\\lib\\site-packages (from ipython>=6.1.0->ipywidgets) (0.2.0)\n",
      "Requirement already satisfied: colorama in c:\\programdata\\anaconda3\\lib\\site-packages (from ipython>=6.1.0->ipywidgets) (0.4.6)\n",
      "Requirement already satisfied: parso<0.9.0,>=0.8.0 in c:\\programdata\\anaconda3\\lib\\site-packages (from jedi>=0.16->ipython>=6.1.0->ipywidgets) (0.8.3)\n",
      "Requirement already satisfied: wcwidth in c:\\programdata\\anaconda3\\lib\\site-packages (from prompt-toolkit!=3.0.37,<3.1.0,>=3.0.30->ipython>=6.1.0->ipywidgets) (0.2.5)\n",
      "Requirement already satisfied: executing in c:\\programdata\\anaconda3\\lib\\site-packages (from stack-data->ipython>=6.1.0->ipywidgets) (0.8.3)\n",
      "Requirement already satisfied: asttokens in c:\\programdata\\anaconda3\\lib\\site-packages (from stack-data->ipython>=6.1.0->ipywidgets) (2.0.5)\n",
      "Requirement already satisfied: pure-eval in c:\\programdata\\anaconda3\\lib\\site-packages (from stack-data->ipython>=6.1.0->ipywidgets) (0.2.2)\n",
      "Requirement already satisfied: six in c:\\programdata\\anaconda3\\lib\\site-packages (from asttokens->stack-data->ipython>=6.1.0->ipywidgets) (1.16.0)\n",
      "Downloading ipywidgets-8.1.3-py3-none-any.whl (139 kB)\n",
      "   ---------------------------------------- 0.0/139.4 kB ? eta -:--:--\n",
      "   ----- --------------------------------- 20.5/139.4 kB 330.3 kB/s eta 0:00:01\n",
      "   ----------------- --------------------- 61.4/139.4 kB 656.4 kB/s eta 0:00:01\n",
      "   ------------------------------------ - 133.1/139.4 kB 983.0 kB/s eta 0:00:01\n",
      "   -------------------------------------- 139.4/139.4 kB 916.1 kB/s eta 0:00:00\n",
      "Downloading comm-0.2.2-py3-none-any.whl (7.2 kB)\n",
      "Downloading jupyterlab_widgets-3.0.11-py3-none-any.whl (214 kB)\n",
      "   ---------------------------------------- 0.0/214.4 kB ? eta -:--:--\n",
      "   ----------------- ---------------------- 92.2/214.4 kB 2.6 MB/s eta 0:00:01\n",
      "   ------------------------------ --------- 163.8/214.4 kB 2.0 MB/s eta 0:00:01\n",
      "   ---------------------------------------- 214.4/214.4 kB 1.5 MB/s eta 0:00:00\n",
      "Downloading widgetsnbextension-4.0.11-py3-none-any.whl (2.3 MB)\n",
      "   ---------------------------------------- 0.0/2.3 MB ? eta -:--:--\n",
      "   - -------------------------------------- 0.1/2.3 MB 1.7 MB/s eta 0:00:02\n",
      "   -- ------------------------------------- 0.1/2.3 MB 1.4 MB/s eta 0:00:02\n",
      "   --- ------------------------------------ 0.2/2.3 MB 1.4 MB/s eta 0:00:02\n",
      "   ---- ----------------------------------- 0.3/2.3 MB 1.5 MB/s eta 0:00:02\n",
      "   ----- ---------------------------------- 0.3/2.3 MB 1.4 MB/s eta 0:00:02\n",
      "   ------- -------------------------------- 0.4/2.3 MB 1.4 MB/s eta 0:00:02\n",
      "   ------- -------------------------------- 0.4/2.3 MB 1.5 MB/s eta 0:00:02\n",
      "   -------- ------------------------------- 0.5/2.3 MB 1.4 MB/s eta 0:00:02\n",
      "   --------- ------------------------------ 0.6/2.3 MB 1.3 MB/s eta 0:00:02\n",
      "   ---------- ----------------------------- 0.6/2.3 MB 1.3 MB/s eta 0:00:02\n",
      "   ------------ --------------------------- 0.7/2.3 MB 1.4 MB/s eta 0:00:02\n",
      "   ------------- -------------------------- 0.8/2.3 MB 1.4 MB/s eta 0:00:02\n",
      "   -------------- ------------------------- 0.9/2.3 MB 1.4 MB/s eta 0:00:02\n",
      "   --------------- ------------------------ 0.9/2.3 MB 1.4 MB/s eta 0:00:02\n",
      "   ----------------- ---------------------- 1.0/2.3 MB 1.4 MB/s eta 0:00:01\n",
      "   ----------------- ---------------------- 1.0/2.3 MB 1.4 MB/s eta 0:00:01\n",
      "   ------------------ --------------------- 1.1/2.3 MB 1.4 MB/s eta 0:00:01\n",
      "   ------------------- -------------------- 1.2/2.3 MB 1.4 MB/s eta 0:00:01\n",
      "   -------------------- ------------------- 1.2/2.3 MB 1.4 MB/s eta 0:00:01\n",
      "   --------------------- ------------------ 1.3/2.3 MB 1.4 MB/s eta 0:00:01\n",
      "   ---------------------- ----------------- 1.3/2.3 MB 1.4 MB/s eta 0:00:01\n",
      "   ------------------------ --------------- 1.4/2.3 MB 1.4 MB/s eta 0:00:01\n",
      "   ------------------------- -------------- 1.5/2.3 MB 1.4 MB/s eta 0:00:01\n",
      "   -------------------------- ------------- 1.6/2.3 MB 1.4 MB/s eta 0:00:01\n",
      "   --------------------------- ------------ 1.6/2.3 MB 1.4 MB/s eta 0:00:01\n",
      "   ---------------------------- ----------- 1.7/2.3 MB 1.4 MB/s eta 0:00:01\n",
      "   ----------------------------- ---------- 1.7/2.3 MB 1.3 MB/s eta 0:00:01\n",
      "   ------------------------------ --------- 1.8/2.3 MB 1.3 MB/s eta 0:00:01\n",
      "   ------------------------------- -------- 1.8/2.3 MB 1.3 MB/s eta 0:00:01\n",
      "   -------------------------------- ------- 1.9/2.3 MB 1.3 MB/s eta 0:00:01\n",
      "   --------------------------------- ------ 2.0/2.3 MB 1.3 MB/s eta 0:00:01\n",
      "   ---------------------------------- ----- 2.0/2.3 MB 1.3 MB/s eta 0:00:01\n",
      "   ----------------------------------- ---- 2.1/2.3 MB 1.3 MB/s eta 0:00:01\n",
      "   ------------------------------------- -- 2.2/2.3 MB 1.3 MB/s eta 0:00:01\n",
      "   -------------------------------------- - 2.2/2.3 MB 1.3 MB/s eta 0:00:01\n",
      "   ---------------------------------------  2.3/2.3 MB 1.3 MB/s eta 0:00:01\n",
      "   ---------------------------------------- 2.3/2.3 MB 1.3 MB/s eta 0:00:00\n",
      "Installing collected packages: widgetsnbextension, jupyterlab-widgets, comm, ipywidgets\n",
      "  Attempting uninstall: widgetsnbextension\n",
      "    Found existing installation: widgetsnbextension 4.0.5\n",
      "    Uninstalling widgetsnbextension-4.0.5:\n",
      "      Successfully uninstalled widgetsnbextension-4.0.5\n",
      "  Attempting uninstall: jupyterlab-widgets\n",
      "    Found existing installation: jupyterlab-widgets 3.0.5\n",
      "    Uninstalling jupyterlab-widgets-3.0.5:\n",
      "      Successfully uninstalled jupyterlab-widgets-3.0.5\n",
      "  Attempting uninstall: comm\n",
      "    Found existing installation: comm 0.1.2\n",
      "    Uninstalling comm-0.1.2:\n",
      "      Successfully uninstalled comm-0.1.2\n",
      "  Attempting uninstall: ipywidgets\n",
      "    Found existing installation: ipywidgets 8.0.4\n",
      "    Uninstalling ipywidgets-8.0.4:\n",
      "      Successfully uninstalled ipywidgets-8.0.4\n",
      "Successfully installed comm-0.2.2 ipywidgets-8.1.3 jupyterlab-widgets-3.0.11 widgetsnbextension-4.0.11\n"
     ]
    },
    {
     "name": "stderr",
     "output_type": "stream",
     "text": [
      "DEPRECATION: Loading egg at c:\\programdata\\anaconda3\\lib\\site-packages\\vboxapi-1.0-py3.11.egg is deprecated. pip 24.3 will enforce this behaviour change. A possible replacement is to use pip for package installation.. Discussion can be found at https://github.com/pypa/pip/issues/12330\n"
     ]
    },
    {
     "name": "stdout",
     "output_type": "stream",
     "text": [
      "Collecting shap\n",
      "  Downloading shap-0.45.1-cp311-cp311-win_amd64.whl.metadata (25 kB)\n",
      "Requirement already satisfied: numpy in c:\\programdata\\anaconda3\\lib\\site-packages (from shap) (1.24.3)\n",
      "Requirement already satisfied: scipy in c:\\programdata\\anaconda3\\lib\\site-packages (from shap) (1.11.1)\n",
      "Requirement already satisfied: scikit-learn in c:\\programdata\\anaconda3\\lib\\site-packages (from shap) (1.3.0)\n",
      "Requirement already satisfied: pandas in c:\\programdata\\anaconda3\\lib\\site-packages (from shap) (2.0.3)\n",
      "Requirement already satisfied: tqdm>=4.27.0 in c:\\programdata\\anaconda3\\lib\\site-packages (from shap) (4.65.0)\n",
      "Requirement already satisfied: packaging>20.9 in c:\\programdata\\anaconda3\\lib\\site-packages (from shap) (23.1)\n",
      "Collecting slicer==0.0.8 (from shap)\n",
      "  Downloading slicer-0.0.8-py3-none-any.whl.metadata (4.0 kB)\n",
      "Requirement already satisfied: numba in c:\\programdata\\anaconda3\\lib\\site-packages (from shap) (0.57.1)\n",
      "Requirement already satisfied: cloudpickle in c:\\programdata\\anaconda3\\lib\\site-packages (from shap) (2.2.1)\n",
      "Requirement already satisfied: colorama in c:\\programdata\\anaconda3\\lib\\site-packages (from tqdm>=4.27.0->shap) (0.4.6)\n",
      "Requirement already satisfied: llvmlite<0.41,>=0.40.0dev0 in c:\\programdata\\anaconda3\\lib\\site-packages (from numba->shap) (0.40.0)\n",
      "Requirement already satisfied: python-dateutil>=2.8.2 in c:\\programdata\\anaconda3\\lib\\site-packages (from pandas->shap) (2.8.2)\n",
      "Requirement already satisfied: pytz>=2020.1 in c:\\programdata\\anaconda3\\lib\\site-packages (from pandas->shap) (2023.3.post1)\n",
      "Requirement already satisfied: tzdata>=2022.1 in c:\\programdata\\anaconda3\\lib\\site-packages (from pandas->shap) (2023.3)\n",
      "Requirement already satisfied: joblib>=1.1.1 in c:\\programdata\\anaconda3\\lib\\site-packages (from scikit-learn->shap) (1.2.0)\n",
      "Requirement already satisfied: threadpoolctl>=2.0.0 in c:\\programdata\\anaconda3\\lib\\site-packages (from scikit-learn->shap) (2.2.0)\n",
      "Requirement already satisfied: six>=1.5 in c:\\programdata\\anaconda3\\lib\\site-packages (from python-dateutil>=2.8.2->pandas->shap) (1.16.0)\n",
      "Downloading shap-0.45.1-cp311-cp311-win_amd64.whl (455 kB)\n",
      "   ---------------------------------------- 0.0/455.5 kB ? eta -:--:--\n",
      "   -- ------------------------------------ 30.7/455.5 kB 660.6 kB/s eta 0:00:01\n",
      "   -------- ------------------------------- 92.2/455.5 kB 1.1 MB/s eta 0:00:01\n",
      "   -------------- ------------------------- 163.8/455.5 kB 1.2 MB/s eta 0:00:01\n",
      "   ------------------- -------------------- 225.3/455.5 kB 1.3 MB/s eta 0:00:01\n",
      "   ------------------------- -------------- 286.7/455.5 kB 1.3 MB/s eta 0:00:01\n",
      "   ------------------------------- -------- 358.4/455.5 kB 1.4 MB/s eta 0:00:01\n",
      "   ------------------------------------ --- 419.8/455.5 kB 1.4 MB/s eta 0:00:01\n",
      "   ---------------------------------------- 455.5/455.5 kB 1.3 MB/s eta 0:00:00\n",
      "Downloading slicer-0.0.8-py3-none-any.whl (15 kB)\n",
      "Installing collected packages: slicer, shap\n",
      "Successfully installed shap-0.45.1 slicer-0.0.8\n"
     ]
    },
    {
     "name": "stderr",
     "output_type": "stream",
     "text": [
      "DEPRECATION: Loading egg at c:\\programdata\\anaconda3\\lib\\site-packages\\vboxapi-1.0-py3.11.egg is deprecated. pip 24.3 will enforce this behaviour change. A possible replacement is to use pip for package installation.. Discussion can be found at https://github.com/pypa/pip/issues/12330\n"
     ]
    },
    {
     "name": "stdout",
     "output_type": "stream",
     "text": [
      "Collecting sklearn"
     ]
    },
    {
     "name": "stderr",
     "output_type": "stream",
     "text": [
      "DEPRECATION: Loading egg at c:\\programdata\\anaconda3\\lib\\site-packages\\vboxapi-1.0-py3.11.egg is deprecated. pip 24.3 will enforce this behaviour change. A possible replacement is to use pip for package installation.. Discussion can be found at https://github.com/pypa/pip/issues/12330\n",
      "  error: subprocess-exited-with-error\n",
      "  \n",
      "  python setup.py egg_info did not run successfully.\n",
      "  exit code: 1\n",
      "  \n",
      "  [15 lines of output]\n",
      "  The 'sklearn' PyPI package is deprecated, use 'scikit-learn'\n",
      "  rather than 'sklearn' for pip commands.\n",
      "  \n",
      "  Here is how to fix this error in the main use cases:\n",
      "  - use 'pip install scikit-learn' rather than 'pip install sklearn'\n",
      "  - replace 'sklearn' by 'scikit-learn' in your pip requirements files\n",
      "    (requirements.txt, setup.py, setup.cfg, Pipfile, etc ...)\n",
      "  - if the 'sklearn' package is used by one of your dependencies,\n",
      "    it would be great if you take some time to track which package uses\n",
      "    'sklearn' instead of 'scikit-learn' and report it to their issue tracker\n",
      "  - as a last resort, set the environment variable\n",
      "    SKLEARN_ALLOW_DEPRECATED_SKLEARN_PACKAGE_INSTALL=True to avoid this error\n",
      "  \n",
      "  More information is available at\n",
      "  https://github.com/scikit-learn/sklearn-pypi-package\n",
      "  [end of output]\n",
      "  \n",
      "  note: This error originates from a subprocess, and is likely not a problem with pip.\n",
      "error: metadata-generation-failed\n",
      "\n",
      "Encountered error while generating package metadata.\n",
      "\n",
      "See above for output.\n",
      "\n",
      "note: This is an issue with the package mentioned above, not pip.\n",
      "hint: See above for details.\n"
     ]
    },
    {
     "name": "stdout",
     "output_type": "stream",
     "text": [
      "\n",
      "  Downloading sklearn-0.0.post12.tar.gz (2.6 kB)\n",
      "  Preparing metadata (setup.py): started\n",
      "  Preparing metadata (setup.py): finished with status 'error'\n",
      "Requirement already satisfied: numpy in c:\\programdata\\anaconda3\\lib\\site-packages (1.24.3)\n",
      "Collecting numpy\n",
      "  Using cached numpy-1.26.4-cp311-cp311-win_amd64.whl.metadata (61 kB)\n",
      "Using cached numpy-1.26.4-cp311-cp311-win_amd64.whl (15.8 MB)\n",
      "Installing collected packages: numpy\n",
      "  Attempting uninstall: numpy\n",
      "    Found existing installation: numpy 1.24.3\n",
      "    Uninstalling numpy-1.24.3:\n",
      "      Successfully uninstalled numpy-1.24.3\n",
      "Successfully installed numpy-1.26.4\n"
     ]
    },
    {
     "name": "stderr",
     "output_type": "stream",
     "text": [
      "DEPRECATION: Loading egg at c:\\programdata\\anaconda3\\lib\\site-packages\\vboxapi-1.0-py3.11.egg is deprecated. pip 24.3 will enforce this behaviour change. A possible replacement is to use pip for package installation.. Discussion can be found at https://github.com/pypa/pip/issues/12330\n",
      "  WARNING: Failed to remove contents in a temporary directory 'C:\\ProgramData\\anaconda3\\Lib\\site-packages\\~umpy'.\n",
      "  You can safely remove it manually.\n",
      "ERROR: pip's dependency resolver does not currently take into account all the packages that are installed. This behaviour is the source of the following dependency conflicts.\n",
      "gensim 4.3.0 requires FuzzyTM>=0.4.0, which is not installed.\n",
      "tables 3.8.0 requires blosc2~=2.0.0, which is not installed.\n",
      "tables 3.8.0 requires cython>=0.29.21, which is not installed.\n",
      "numba 0.57.1 requires numpy<1.25,>=1.21, but you have numpy 1.26.4 which is incompatible.\n",
      "Enabling notebook extension jupyter-js-widgets/extension...\n",
      "      - Validating: ok\n"
     ]
    }
   ],
   "source": [
    "!pip install --upgrade catboost\n",
    "!pip install --upgrade ipywidgets\n",
    "!pip install shap\n",
    "!pip install sklearn\n",
    "!pip install --upgrade numpy\n",
    "!jupyter nbextension enable --py widgetsnbextension"
   ]
  },
  {
   "cell_type": "code",
   "execution_count": 19,
   "metadata": {
    "colab": {
     "base_uri": "https://localhost:8080/"
    },
    "id": "K34qIRSH8Bq_",
    "outputId": "24b4714a-cef8-4c2c-be4a-6a84e5acdb55"
   },
   "outputs": [
    {
     "name": "stdout",
     "output_type": "stream",
     "text": [
      "%pylab is deprecated, use %matplotlib inline and import the required libraries.\n",
      "Populating the interactive namespace from numpy and matplotlib\n"
     ]
    },
    {
     "name": "stderr",
     "output_type": "stream",
     "text": [
      "C:\\ProgramData\\anaconda3\\Lib\\site-packages\\IPython\\core\\magics\\pylab.py:162: UserWarning: pylab import has clobbered these variables: ['plt']\n",
      "`%matplotlib` prevents importing * from pylab and numpy\n",
      "  warn(\"pylab import has clobbered these variables: %s\"  % clobbered +\n"
     ]
    }
   ],
   "source": [
    "from matplotlib import pylab as plt\n",
    "\n",
    "%pylab inline"
   ]
  },
  {
   "cell_type": "code",
   "execution_count": 20,
   "metadata": {
    "id": "h_dlmiw-8BrA"
   },
   "outputs": [],
   "source": [
    "import os\n",
    "\n",
    "import numpy as np\n",
    "import pandas as pd\n",
    "\n",
    "np.set_printoptions(precision=4)\n",
    "import catboost\n",
    "from catboost import *\n",
    "from catboost import datasets"
   ]
  },
  {
   "cell_type": "markdown",
   "metadata": {
    "id": "TDFHZKUD8BrA"
   },
   "source": [
    "Считываем данные. Данные содержат только категориальные признаки, причем с большим количеством категорий. Признаки - закодированные характеристики сотрудника и некоторого ресурса, целевая переменная - есть ли у сотрудника доступ к ресурсу."
   ]
  },
  {
   "cell_type": "code",
   "execution_count": 21,
   "metadata": {
    "id": "chRW9M-l8BrA"
   },
   "outputs": [],
   "source": [
    "(train_df, test_df) = catboost.datasets.amazon()"
   ]
  },
  {
   "cell_type": "code",
   "execution_count": 22,
   "metadata": {
    "id": "P-P4PmLV8BrA"
   },
   "outputs": [
    {
     "data": {
      "text/html": [
       "<div>\n",
       "<style scoped>\n",
       "    .dataframe tbody tr th:only-of-type {\n",
       "        vertical-align: middle;\n",
       "    }\n",
       "\n",
       "    .dataframe tbody tr th {\n",
       "        vertical-align: top;\n",
       "    }\n",
       "\n",
       "    .dataframe thead th {\n",
       "        text-align: right;\n",
       "    }\n",
       "</style>\n",
       "<table border=\"1\" class=\"dataframe\">\n",
       "  <thead>\n",
       "    <tr style=\"text-align: right;\">\n",
       "      <th></th>\n",
       "      <th>ACTION</th>\n",
       "      <th>RESOURCE</th>\n",
       "      <th>MGR_ID</th>\n",
       "      <th>ROLE_ROLLUP_1</th>\n",
       "      <th>ROLE_ROLLUP_2</th>\n",
       "      <th>ROLE_DEPTNAME</th>\n",
       "      <th>ROLE_TITLE</th>\n",
       "      <th>ROLE_FAMILY_DESC</th>\n",
       "      <th>ROLE_FAMILY</th>\n",
       "      <th>ROLE_CODE</th>\n",
       "    </tr>\n",
       "  </thead>\n",
       "  <tbody>\n",
       "    <tr>\n",
       "      <th>0</th>\n",
       "      <td>1</td>\n",
       "      <td>39353</td>\n",
       "      <td>85475</td>\n",
       "      <td>117961</td>\n",
       "      <td>118300</td>\n",
       "      <td>123472</td>\n",
       "      <td>117905</td>\n",
       "      <td>117906</td>\n",
       "      <td>290919</td>\n",
       "      <td>117908</td>\n",
       "    </tr>\n",
       "    <tr>\n",
       "      <th>1</th>\n",
       "      <td>1</td>\n",
       "      <td>17183</td>\n",
       "      <td>1540</td>\n",
       "      <td>117961</td>\n",
       "      <td>118343</td>\n",
       "      <td>123125</td>\n",
       "      <td>118536</td>\n",
       "      <td>118536</td>\n",
       "      <td>308574</td>\n",
       "      <td>118539</td>\n",
       "    </tr>\n",
       "    <tr>\n",
       "      <th>2</th>\n",
       "      <td>1</td>\n",
       "      <td>36724</td>\n",
       "      <td>14457</td>\n",
       "      <td>118219</td>\n",
       "      <td>118220</td>\n",
       "      <td>117884</td>\n",
       "      <td>117879</td>\n",
       "      <td>267952</td>\n",
       "      <td>19721</td>\n",
       "      <td>117880</td>\n",
       "    </tr>\n",
       "    <tr>\n",
       "      <th>3</th>\n",
       "      <td>1</td>\n",
       "      <td>36135</td>\n",
       "      <td>5396</td>\n",
       "      <td>117961</td>\n",
       "      <td>118343</td>\n",
       "      <td>119993</td>\n",
       "      <td>118321</td>\n",
       "      <td>240983</td>\n",
       "      <td>290919</td>\n",
       "      <td>118322</td>\n",
       "    </tr>\n",
       "    <tr>\n",
       "      <th>4</th>\n",
       "      <td>1</td>\n",
       "      <td>42680</td>\n",
       "      <td>5905</td>\n",
       "      <td>117929</td>\n",
       "      <td>117930</td>\n",
       "      <td>119569</td>\n",
       "      <td>119323</td>\n",
       "      <td>123932</td>\n",
       "      <td>19793</td>\n",
       "      <td>119325</td>\n",
       "    </tr>\n",
       "  </tbody>\n",
       "</table>\n",
       "</div>"
      ],
      "text/plain": [
       "   ACTION  RESOURCE  MGR_ID  ROLE_ROLLUP_1  ROLE_ROLLUP_2  ROLE_DEPTNAME  \\\n",
       "0       1     39353   85475         117961         118300         123472   \n",
       "1       1     17183    1540         117961         118343         123125   \n",
       "2       1     36724   14457         118219         118220         117884   \n",
       "3       1     36135    5396         117961         118343         119993   \n",
       "4       1     42680    5905         117929         117930         119569   \n",
       "\n",
       "   ROLE_TITLE  ROLE_FAMILY_DESC  ROLE_FAMILY  ROLE_CODE  \n",
       "0      117905            117906       290919     117908  \n",
       "1      118536            118536       308574     118539  \n",
       "2      117879            267952        19721     117880  \n",
       "3      118321            240983       290919     118322  \n",
       "4      119323            123932        19793     119325  "
      ]
     },
     "execution_count": 22,
     "metadata": {},
     "output_type": "execute_result"
    }
   ],
   "source": [
    "train_df.head()"
   ]
  },
  {
   "cell_type": "markdown",
   "metadata": {
    "id": "iW9Nll0M8BrA"
   },
   "source": [
    "Готовим данные"
   ]
  },
  {
   "cell_type": "code",
   "execution_count": 23,
   "metadata": {
    "id": "S-N9zJ7x8BrB"
   },
   "outputs": [],
   "source": [
    "y = train_df.ACTION\n",
    "X = train_df.drop(\"ACTION\", axis=1)"
   ]
  },
  {
   "cell_type": "markdown",
   "metadata": {
    "id": "4wzKinKB8BrB"
   },
   "source": [
    "Создаем список категориальных фичей"
   ]
  },
  {
   "cell_type": "code",
   "execution_count": 24,
   "metadata": {
    "id": "LH3n-xyw8BrB"
   },
   "outputs": [
    {
     "name": "stdout",
     "output_type": "stream",
     "text": [
      "[0, 1, 2, 3, 4, 5, 6, 7, 8]\n"
     ]
    }
   ],
   "source": [
    "cat_features = list(range(0, X.shape[1]))\n",
    "print(cat_features)"
   ]
  },
  {
   "cell_type": "markdown",
   "metadata": {
    "id": "b2ElgLfl8BrB"
   },
   "source": [
    "Смотрим на соотношение классов"
   ]
  },
  {
   "cell_type": "code",
   "execution_count": 25,
   "metadata": {
    "id": "C3Ggedle8BrB"
   },
   "outputs": [
    {
     "name": "stdout",
     "output_type": "stream",
     "text": [
      "Labels: {0, 1}\n",
      "Zero count = 1897, One count = 30872\n"
     ]
    }
   ],
   "source": [
    "print(\"Labels: {}\".format(set(y)))\n",
    "print(\"Zero count = {}, One count = {}\".format(len(y) - sum(y), sum(y)))"
   ]
  },
  {
   "cell_type": "markdown",
   "metadata": {
    "id": "07evr0FF8BrC"
   },
   "source": [
    "В catboost используется абстракция Pool - это объект, который содержит матрицу объект-признак X, вектор ответов, список номеров колонок с категориальными признаками."
   ]
  },
  {
   "cell_type": "code",
   "execution_count": 26,
   "metadata": {
    "id": "Q9y_vow48BrC"
   },
   "outputs": [
    {
     "name": "stdout",
     "output_type": "stream",
     "text": [
      "Dataset shape\n",
      "dataset 1:(32769, 9)\n",
      "dataset 2:(32769, 9)\n",
      "dataset 3: (32769, 9)\n",
      "\n",
      "\n",
      "Column names\n",
      "dataset 1:\n",
      "['RESOURCE', 'MGR_ID', 'ROLE_ROLLUP_1', 'ROLE_ROLLUP_2', 'ROLE_DEPTNAME', 'ROLE_TITLE', 'ROLE_FAMILY_DESC', 'ROLE_FAMILY', 'ROLE_CODE']\n",
      "\n",
      "dataset 2:\n",
      "['RESOURCE', 'MGR_ID', 'ROLE_ROLLUP_1', 'ROLE_ROLLUP_2', 'ROLE_DEPTNAME', 'ROLE_TITLE', 'ROLE_FAMILY_DESC', 'ROLE_FAMILY', 'ROLE_CODE']\n",
      "\n",
      "dataset 3:\n",
      "['RESOURCE', 'MGR_ID', 'ROLE_ROLLUP_1', 'ROLE_ROLLUP_2', 'ROLE_DEPTNAME', 'ROLE_TITLE', 'ROLE_FAMILY_DESC', 'ROLE_FAMILY', 'ROLE_CODE']\n"
     ]
    }
   ],
   "source": [
    "pool1 = Pool(data=X, label=y, cat_features=cat_features)\n",
    "\n",
    "pool2 = Pool(data=X, cat_features=cat_features)\n",
    "\n",
    "# Fastest way to create a Pool is to create it from numpy matrix.\n",
    "# This way should be used if you want fast predictions\n",
    "# or fastest way to load the data in python.\n",
    "\n",
    "X_prepared = X.values.astype(str).astype(object)\n",
    "# For FeaturesData class categorial features must have type str\n",
    "\n",
    "pool3 = Pool(\n",
    "    data=FeaturesData(cat_feature_data=X_prepared, cat_feature_names=list(X)),\n",
    "    label=y.values,\n",
    ")\n",
    "\n",
    "print(\"Dataset shape\")\n",
    "print(\n",
    "    \"dataset 1:\"\n",
    "    + str(pool1.shape)\n",
    "    + \"\\ndataset 2:\"\n",
    "    + str(pool2.shape)\n",
    "    + \"\\ndataset 3: \"\n",
    "    + str(pool3.shape)\n",
    ")\n",
    "\n",
    "print(\"\\n\")\n",
    "print(\"Column names\")\n",
    "print(\"dataset 1:\")\n",
    "print(pool1.get_feature_names())\n",
    "print(\"\\ndataset 2:\")\n",
    "print(pool2.get_feature_names())\n",
    "print(\"\\ndataset 3:\")\n",
    "print(pool3.get_feature_names())"
   ]
  },
  {
   "cell_type": "markdown",
   "metadata": {
    "id": "IzAigNPO8BrC"
   },
   "source": [
    "Разбиваем данные на train и validation"
   ]
  },
  {
   "cell_type": "code",
   "execution_count": 27,
   "metadata": {
    "id": "skzjWMOt8BrC"
   },
   "outputs": [],
   "source": [
    "from sklearn.model_selection import train_test_split\n",
    "\n",
    "X_train, X_validation, y_train, y_validation = train_test_split(\n",
    "    X, y, train_size=0.8, random_state=42\n",
    ")"
   ]
  },
  {
   "cell_type": "markdown",
   "metadata": {
    "id": "c9eFWHrG8BrC"
   },
   "source": [
    "Выбираем функцию потерь"
   ]
  },
  {
   "cell_type": "markdown",
   "metadata": {
    "id": "jOam1-R28BrD"
   },
   "source": [
    "Для бинарной классификации можем использовать:\n",
    "\n",
    "* `Logloss`\n",
    "\n",
    "* `CrossEntropy`"
   ]
  },
  {
   "cell_type": "code",
   "execution_count": 28,
   "metadata": {
    "id": "CxDdrYAq8BrD"
   },
   "outputs": [
    {
     "name": "stdout",
     "output_type": "stream",
     "text": [
      "Model is fitted: True\n",
      "Model params:\n",
      "{'iterations': 10, 'learning_rate': 0.1}\n"
     ]
    }
   ],
   "source": [
    "from catboost import CatBoostClassifier\n",
    "\n",
    "model = CatBoostClassifier(iterations=10, learning_rate=0.1)\n",
    "model.fit(\n",
    "    X_train,\n",
    "    y_train,\n",
    "    cat_features=cat_features,\n",
    "    eval_set=(X_validation, y_validation),\n",
    "    verbose=False,\n",
    ")\n",
    "print(\"Model is fitted: \" + str(model.is_fitted()))\n",
    "print(\"Model params:\")\n",
    "print(model.get_params())"
   ]
  },
  {
   "cell_type": "markdown",
   "metadata": {
    "id": "1-5-4Ejc8BrD"
   },
   "source": [
    "Печать результатов"
   ]
  },
  {
   "cell_type": "code",
   "execution_count": 29,
   "metadata": {
    "id": "1adz0LQQ8BrD",
    "scrolled": false
   },
   "outputs": [
    {
     "name": "stdout",
     "output_type": "stream",
     "text": [
      "0:\tlearn: 0.6189879\ttest: 0.6185816\tbest: 0.6185816 (0)\ttotal: 34ms\tremaining: 306ms\n",
      "1:\tlearn: 0.5585149\ttest: 0.5574616\tbest: 0.5574616 (1)\ttotal: 81.4ms\tremaining: 326ms\n",
      "2:\tlearn: 0.5082799\ttest: 0.5069499\tbest: 0.5069499 (2)\ttotal: 106ms\tremaining: 248ms\n",
      "3:\tlearn: 0.4660897\ttest: 0.4643558\tbest: 0.4643558 (3)\ttotal: 150ms\tremaining: 224ms\n",
      "4:\tlearn: 0.4304632\ttest: 0.4282709\tbest: 0.4282709 (4)\ttotal: 211ms\tremaining: 211ms\n",
      "5:\tlearn: 0.4002849\ttest: 0.3979354\tbest: 0.3979354 (5)\ttotal: 252ms\tremaining: 168ms\n",
      "6:\tlearn: 0.3745697\ttest: 0.3720454\tbest: 0.3720454 (6)\ttotal: 269ms\tremaining: 115ms\n",
      "7:\tlearn: 0.3525686\ttest: 0.3498882\tbest: 0.3498882 (7)\ttotal: 287ms\tremaining: 71.7ms\n",
      "8:\tlearn: 0.3336944\ttest: 0.3308677\tbest: 0.3308677 (8)\ttotal: 297ms\tremaining: 33ms\n",
      "9:\tlearn: 0.3174817\ttest: 0.3145131\tbest: 0.3145131 (9)\ttotal: 309ms\tremaining: 0us\n",
      "\n",
      "bestTest = 0.3145131058\n",
      "bestIteration = 9\n",
      "\n"
     ]
    },
    {
     "data": {
      "text/plain": [
       "<catboost.core.CatBoostClassifier at 0x1c7e514fa10>"
      ]
     },
     "execution_count": 29,
     "metadata": {},
     "output_type": "execute_result"
    }
   ],
   "source": [
    "model.fit(\n",
    "    X_train,\n",
    "    y_train,\n",
    "    cat_features=cat_features,\n",
    "    eval_set=(X_validation, y_validation),\n",
    ")"
   ]
  },
  {
   "cell_type": "markdown",
   "metadata": {
    "id": "V8Onxntp8BrD"
   },
   "source": [
    "Визуализация метрик"
   ]
  },
  {
   "cell_type": "code",
   "execution_count": 30,
   "metadata": {
    "id": "jm90ObZJ8BrD"
   },
   "outputs": [
    {
     "data": {
      "application/vnd.jupyter.widget-view+json": {
       "model_id": "524bbebe53d1481f8b397b4e59521c2e",
       "version_major": 2,
       "version_minor": 0
      },
      "text/plain": [
       "MetricVisualizer(layout=Layout(align_self='stretch', height='500px'))"
      ]
     },
     "metadata": {},
     "output_type": "display_data"
    },
    {
     "data": {
      "text/plain": [
       "<catboost.core.CatBoostClassifier at 0x1c7e514fa10>"
      ]
     },
     "execution_count": 30,
     "metadata": {},
     "output_type": "execute_result"
    }
   ],
   "source": [
    "model.fit(\n",
    "    X_train,\n",
    "    y_train,\n",
    "    cat_features=cat_features,\n",
    "    eval_set=(X_validation, y_validation),\n",
    "    verbose=False,\n",
    "    plot=True,\n",
    ")"
   ]
  },
  {
   "cell_type": "markdown",
   "metadata": {
    "id": "gSMqeW968BrE"
   },
   "source": [
    "Сравнение моделей"
   ]
  },
  {
   "cell_type": "code",
   "execution_count": 31,
   "metadata": {
    "id": "SW_77kOn8BrE"
   },
   "outputs": [
    {
     "data": {
      "text/plain": [
       "<catboost.core.CatBoostClassifier at 0x1c7e515e790>"
      ]
     },
     "execution_count": 31,
     "metadata": {},
     "output_type": "execute_result"
    }
   ],
   "source": [
    "model1 = CatBoostClassifier(\n",
    "    learning_rate=0.1, iterations=100, random_seed=0, train_dir=\"learing_rate_0.1\"\n",
    ")\n",
    "\n",
    "model2 = CatBoostClassifier(\n",
    "    learning_rate=0.07, iterations=100, random_seed=0, train_dir=\"learing_rate_0.07\"\n",
    ")\n",
    "model1.fit(\n",
    "    X_train,\n",
    "    y_train,\n",
    "    eval_set=(X_validation, y_validation),\n",
    "    cat_features=cat_features,\n",
    "    verbose=False,\n",
    ")\n",
    "model2.fit(\n",
    "    X_train,\n",
    "    y_train,\n",
    "    eval_set=(X_validation, y_validation),\n",
    "    cat_features=cat_features,\n",
    "    verbose=False,\n",
    ")"
   ]
  },
  {
   "cell_type": "code",
   "execution_count": null,
   "metadata": {
    "id": "VLFM5yh38BrE"
   },
   "outputs": [
    {
     "data": {
      "application/vnd.jupyter.widget-view+json": {
       "model_id": "9d6cfe83cc6b46ed830281f8e1ae21be",
       "version_major": 2,
       "version_minor": 0
      },
      "text/plain": [
       "MetricVisualizer(layout=Layout(align_self='stretch', height='500px'))"
      ]
     },
     "metadata": {},
     "output_type": "display_data"
    }
   ],
   "source": [
    "from catboost import MetricVisualizer\n",
    "\n",
    "MetricVisualizer([\"learing_rate_0.01\", \"learing_rate_0.7\"]).start()"
   ]
  },
  {
   "cell_type": "markdown",
   "metadata": {
    "id": "EiBFVR1X8BrE"
   },
   "source": [
    "Оптимальное количество деревьев"
   ]
  },
  {
   "cell_type": "code",
   "execution_count": null,
   "metadata": {
    "id": "dP1-M0cF8BrE"
   },
   "outputs": [],
   "source": [
    "from catboost import CatBoostClassifier\n",
    "\n",
    "model = CatBoostClassifier(\n",
    "    iterations=100,\n",
    "    random_seed=63,\n",
    "    learning_rate=0.5,\n",
    "    #     use_best_model=False\n",
    ")\n",
    "model.fit(\n",
    "    X_train,\n",
    "    y_train,\n",
    "    cat_features=cat_features,\n",
    "    eval_set=(X_validation, y_validation),\n",
    "    verbose=False,\n",
    "    plot=True,\n",
    ")"
   ]
  },
  {
   "cell_type": "code",
   "execution_count": null,
   "metadata": {
    "id": "U0g5Vk4M8BrF"
   },
   "outputs": [],
   "source": [
    "print(\"Tree count: \" + str(model.tree_count_))"
   ]
  },
  {
   "cell_type": "markdown",
   "metadata": {
    "id": "8UIhxQBT8BrF"
   },
   "source": [
    "Кросс-валидация"
   ]
  },
  {
   "cell_type": "code",
   "execution_count": null,
   "metadata": {
    "id": "434jB7_C8BrF"
   },
   "outputs": [],
   "source": [
    "from catboost import cv\n",
    "\n",
    "params = {}\n",
    "params[\"loss_function\"] = \"Logloss\"\n",
    "params[\"iterations\"] = 80\n",
    "params[\"custom_loss\"] = \"AUC\"\n",
    "params[\"random_seed\"] = 63\n",
    "params[\"learning_rate\"] = 0.5\n",
    "\n",
    "cv_data = cv(\n",
    "    params=params,\n",
    "    pool=Pool(X, label=y, cat_features=cat_features),\n",
    "    fold_count=5,\n",
    "    shuffle=True,\n",
    "    partition_random_seed=0,\n",
    "    plot=True,\n",
    "    stratified=False,\n",
    "    verbose=False,\n",
    ")"
   ]
  },
  {
   "cell_type": "code",
   "execution_count": null,
   "metadata": {
    "id": "YToVl3ax8BrF"
   },
   "outputs": [],
   "source": [
    "cv_data.head()"
   ]
  },
  {
   "cell_type": "code",
   "execution_count": null,
   "metadata": {
    "id": "32CA5LU48BrF"
   },
   "outputs": [],
   "source": [
    "best_value = np.min(cv_data[\"test-Logloss-mean\"])\n",
    "best_iter = np.argmin(cv_data[\"test-Logloss-mean\"])\n",
    "\n",
    "print(\n",
    "    \"Best validation LogLoss score, not stratified: {:.4f}±{:.4f} on step {}\".format(\n",
    "        best_value, cv_data[\"test-Logloss-std\"][best_iter], best_iter\n",
    "    )\n",
    ")"
   ]
  },
  {
   "cell_type": "markdown",
   "metadata": {
    "id": "1GK5gMZi8BrG"
   },
   "source": [
    "Детектор переобучения"
   ]
  },
  {
   "cell_type": "code",
   "execution_count": null,
   "metadata": {
    "id": "rf2SxoSc8BrG"
   },
   "outputs": [],
   "source": [
    "model_with_early_stop = CatBoostClassifier(\n",
    "    iterations=200, random_seed=63, learning_rate=0.5, early_stopping_rounds=20\n",
    ")\n",
    "model_with_early_stop.fit(\n",
    "    X_train,\n",
    "    y_train,\n",
    "    cat_features=cat_features,\n",
    "    eval_set=(X_validation, y_validation),\n",
    "    verbose=False,\n",
    "    plot=True,\n",
    ")"
   ]
  },
  {
   "cell_type": "code",
   "execution_count": null,
   "metadata": {
    "id": "DqLUWx1r8BrG"
   },
   "outputs": [],
   "source": [
    "print(model_with_early_stop.tree_count_)"
   ]
  },
  {
   "cell_type": "code",
   "execution_count": null,
   "metadata": {
    "id": "sWs7YfQY8BrG"
   },
   "outputs": [],
   "source": [
    "model_with_early_stop = CatBoostClassifier(\n",
    "    eval_metric=\"AUC\",\n",
    "    iterations=200,\n",
    "    random_seed=63,\n",
    "    learning_rate=0.5,\n",
    "    early_stopping_rounds=20,\n",
    ")\n",
    "model_with_early_stop.fit(\n",
    "    X_train,\n",
    "    y_train,\n",
    "    cat_features=cat_features,\n",
    "    eval_set=(X_validation, y_validation),\n",
    "    verbose=False,\n",
    "    plot=True,\n",
    ")"
   ]
  },
  {
   "cell_type": "code",
   "execution_count": null,
   "metadata": {
    "id": "SGA6_vtC8BrG"
   },
   "outputs": [],
   "source": [
    "print(model_with_early_stop.tree_count_)"
   ]
  },
  {
   "cell_type": "markdown",
   "metadata": {
    "id": "yi9hkMjW8BrG"
   },
   "source": [
    "Вычисление метрик качества и выбор порога принятия решения"
   ]
  },
  {
   "cell_type": "code",
   "execution_count": null,
   "metadata": {
    "id": "ZJifmu2C8BrH"
   },
   "outputs": [],
   "source": [
    "model = CatBoostClassifier(\n",
    "    random_seed=63,\n",
    "    iterations=200,\n",
    "    learning_rate=0.03,\n",
    ")\n",
    "model.fit(X_train, y_train, cat_features=cat_features, verbose=False, plot=True)"
   ]
  },
  {
   "cell_type": "markdown",
   "metadata": {
    "id": "gdI8B3Bb8BrH"
   },
   "source": [
    "![](https://habrastorage.org/webt/y4/1q/yq/y41qyqfm9mcerp2ziys48phpjia.png)"
   ]
  },
  {
   "cell_type": "code",
   "execution_count": null,
   "metadata": {
    "id": "KLOYaQNO8BrH"
   },
   "outputs": [],
   "source": [
    "import sklearn\n",
    "from catboost.utils import get_roc_curve\n",
    "from sklearn import metrics\n",
    "\n",
    "eval_pool = Pool(X_validation, y_validation, cat_features=cat_features)\n",
    "curve = get_roc_curve(model, eval_pool)\n",
    "(fpr, tpr, thresholds) = curve\n",
    "roc_auc = sklearn.metrics.auc(fpr, tpr)"
   ]
  },
  {
   "cell_type": "code",
   "execution_count": null,
   "metadata": {
    "id": "27NAOYvY8BrH"
   },
   "outputs": [],
   "source": [
    "plt.figure(figsize=(16, 8))\n",
    "lw = 2\n",
    "\n",
    "plt.plot(\n",
    "    fpr,\n",
    "    tpr,\n",
    "    color=\"darkorange\",\n",
    "    lw=lw,\n",
    "    label=\"ROC curve (area = %0.2f)\" % roc_auc,\n",
    "    alpha=0.5,\n",
    ")\n",
    "\n",
    "plt.plot([0, 1], [0, 1], color=\"navy\", lw=lw, linestyle=\"--\", alpha=0.5)\n",
    "\n",
    "plt.xlim([0.0, 1.0])\n",
    "plt.ylim([0.0, 1.05])\n",
    "plt.xticks(fontsize=16)\n",
    "plt.yticks(fontsize=16)\n",
    "plt.grid(True)\n",
    "plt.xlabel(\"False Positive Rate\", fontsize=16)\n",
    "plt.ylabel(\"True Positive Rate\", fontsize=16)\n",
    "plt.title(\"Receiver operating characteristic\", fontsize=20)\n",
    "plt.legend(loc=\"lower right\", fontsize=16)\n",
    "plt.show()"
   ]
  },
  {
   "cell_type": "code",
   "execution_count": null,
   "metadata": {
    "id": "aFMOeL8i8BrH"
   },
   "outputs": [],
   "source": [
    "from catboost.utils import get_fnr_curve, get_fpr_curve\n",
    "\n",
    "(thresholds, fpr) = get_fpr_curve(curve=curve)\n",
    "(thresholds, fnr) = get_fnr_curve(curve=curve)"
   ]
  },
  {
   "cell_type": "code",
   "execution_count": null,
   "metadata": {
    "id": "ex7l5tRn8BrI"
   },
   "outputs": [],
   "source": [
    "plt.figure(figsize=(16, 8))\n",
    "lw = 2\n",
    "\n",
    "plt.plot(thresholds, fpr, color=\"blue\", lw=lw, label=\"FPR\", alpha=0.5)\n",
    "plt.plot(thresholds, fnr, color=\"green\", lw=lw, label=\"FNR\", alpha=0.5)\n",
    "\n",
    "plt.xlim([0.0, 1.0])\n",
    "plt.ylim([0.0, 1.05])\n",
    "plt.xticks(fontsize=16)\n",
    "plt.yticks(fontsize=16)\n",
    "plt.grid(True)\n",
    "plt.xlabel(\"Threshold\", fontsize=16)\n",
    "plt.ylabel(\"Error Rate\", fontsize=16)\n",
    "plt.title(\"FPR-FNR curves\", fontsize=20)\n",
    "plt.legend(loc=\"lower left\", fontsize=16)\n",
    "plt.show()"
   ]
  },
  {
   "cell_type": "code",
   "execution_count": null,
   "metadata": {
    "id": "o4hcggl_8BrI"
   },
   "outputs": [],
   "source": [
    "from catboost.utils import select_threshold\n",
    "\n",
    "print(select_threshold(model=model, data=eval_pool, FNR=0.01))\n",
    "print(select_threshold(model=model, data=eval_pool, FPR=0.01))"
   ]
  },
  {
   "cell_type": "markdown",
   "metadata": {
    "id": "uKneVtwF8BrI"
   },
   "source": [
    "Получение предсказаний"
   ]
  },
  {
   "cell_type": "code",
   "execution_count": null,
   "metadata": {
    "id": "x2EW0RgM8BrI"
   },
   "outputs": [],
   "source": [
    "print(model.predict_proba(X_validation))"
   ]
  },
  {
   "cell_type": "code",
   "execution_count": null,
   "metadata": {
    "id": "rYlUcdjV8BrI"
   },
   "outputs": [],
   "source": [
    "print(model.predict(X_validation))"
   ]
  },
  {
   "cell_type": "markdown",
   "metadata": {
    "id": "K58sEzoQ8BrJ"
   },
   "source": [
    "Последовательные предсказания"
   ]
  },
  {
   "cell_type": "code",
   "execution_count": null,
   "metadata": {
    "id": "3Sxle9OE8BrJ"
   },
   "outputs": [],
   "source": [
    "predictions_gen = model.staged_predict_proba(\n",
    "    data=X_validation, ntree_start=0, ntree_end=5, eval_period=1\n",
    ")\n",
    "try:\n",
    "    for iteration, predictions in enumerate(predictions_gen):\n",
    "        print(\"Iteration \" + str(iteration) + \", predictions:\")\n",
    "        print(predictions)\n",
    "except Exception:\n",
    "    pass"
   ]
  },
  {
   "cell_type": "markdown",
   "metadata": {
    "id": "TnFY-FYe8BrJ"
   },
   "source": [
    "Важность признаков"
   ]
  },
  {
   "cell_type": "code",
   "execution_count": null,
   "metadata": {
    "id": "iGfpHevb8BrJ"
   },
   "outputs": [],
   "source": [
    "model.get_feature_importance(prettified=True)"
   ]
  },
  {
   "cell_type": "markdown",
   "metadata": {
    "id": "a_vMCJgZ8BrJ"
   },
   "source": [
    "### Shap values \n",
    "\n",
    "Классические способы измерения важности признаков обладают существенным недостатком: непонятно, как именно каждый признак влияет на предсказание модели. Shap values (значения Шэпли) - способ измерения важности признаков, исправляющий этот недостаток.\n",
    "\n",
    "Подробнее читайте тут: https://habr.com/ru/post/428213/"
   ]
  },
  {
   "cell_type": "code",
   "execution_count": null,
   "metadata": {
    "id": "zhJ7LKJ78BrK"
   },
   "outputs": [],
   "source": [
    "import shap\n",
    "\n",
    "shap_values = model.get_feature_importance(pool1, type=\"ShapValues\")\n",
    "\n",
    "expected_value = shap_values[0, -1]\n",
    "shap_values = shap_values[:, :-1]\n",
    "\n",
    "print(shap_values.shape)"
   ]
  },
  {
   "cell_type": "code",
   "execution_count": null,
   "metadata": {
    "id": "Qhr-yqWj8BrK"
   },
   "outputs": [],
   "source": [
    "shap.summary_plot(shap_values, X)"
   ]
  },
  {
   "cell_type": "markdown",
   "metadata": {
    "id": "kJi8DGAU8BrK"
   },
   "source": [
    "Shap-values для конкретного объекта."
   ]
  },
  {
   "cell_type": "code",
   "execution_count": null,
   "metadata": {
    "id": "HxXGdkGH8BrK"
   },
   "outputs": [],
   "source": [
    "shap.initjs()\n",
    "shap.force_plot(expected_value, shap_values[3, :], X.iloc[3, :])"
   ]
  },
  {
   "cell_type": "markdown",
   "metadata": {
    "id": "MiqsPRQQ8BrK"
   },
   "source": [
    "Сохранение модели"
   ]
  },
  {
   "cell_type": "code",
   "execution_count": null,
   "metadata": {
    "id": "5rk59Pk-8BrL"
   },
   "outputs": [],
   "source": [
    "my_best_model = CatBoostClassifier(iterations=10)\n",
    "my_best_model.fit(\n",
    "    X_train,\n",
    "    y_train,\n",
    "    eval_set=(X_validation, y_validation),\n",
    "    cat_features=cat_features,\n",
    "    verbose=False,\n",
    ")\n",
    "my_best_model.save_model(\"catboost_model.bin\")\n",
    "my_best_model.save_model(\"catboost_model.json\", format=\"json\")"
   ]
  },
  {
   "cell_type": "code",
   "execution_count": null,
   "metadata": {
    "id": "yQYQ9-5e8BrL"
   },
   "outputs": [],
   "source": [
    "my_best_model.load_model(\"catboost_model.bin\")\n",
    "print(my_best_model.get_params())\n",
    "print(my_best_model.random_seed_)"
   ]
  },
  {
   "cell_type": "markdown",
   "metadata": {
    "id": "U1DpII8H8BrL"
   },
   "source": [
    "Подбор гиперпараметров"
   ]
  },
  {
   "cell_type": "code",
   "execution_count": null,
   "metadata": {
    "id": "c9sRYixj8BrL",
    "scrolled": true
   },
   "outputs": [],
   "source": [
    "cat = CatBoostClassifier(n_estimators=50)\n",
    "\n",
    "grid = {\"learning_rate\": [0.03, 0.1], \"depth\": [4, 6, 10]}\n",
    "#        'l2_leaf_reg': [1, 3, 5, 7, 9]}\n",
    "\n",
    "grid_search_result = cat.grid_search(\n",
    "    grid, X=X_train, y=y_train, verbose=False, plot=True\n",
    ")"
   ]
  },
  {
   "cell_type": "code",
   "execution_count": null,
   "metadata": {
    "id": "l_gipyCu8BrL"
   },
   "outputs": [],
   "source": [
    "grid_search_result[\"params\"]"
   ]
  },
  {
   "cell_type": "markdown",
   "metadata": {
    "id": "G6yyi2Kr8BrL"
   },
   "source": [
    "Визуализация деревьев"
   ]
  },
  {
   "cell_type": "code",
   "execution_count": null,
   "metadata": {
    "id": "4oZkT0Dm8BrM"
   },
   "outputs": [],
   "source": [
    "# Might run into the graphiz problem:\n",
    "# https://stackoverflow.com/questions/35064304/runtimeerror-make-sure-the-graphviz-executables-are-on-your-systems-path-aft"
   ]
  },
  {
   "cell_type": "code",
   "execution_count": null,
   "metadata": {
    "id": "7l-QfLPi8BrM"
   },
   "outputs": [],
   "source": [
    "cat.plot_tree(tree_idx=0)"
   ]
  },
  {
   "cell_type": "markdown",
   "metadata": {
    "id": "xUR8AQts8BrM"
   },
   "source": [
    "Хорошее описание гиперпараметров катбуста: https://habr.com/ru/company/otus/blog/527554/"
   ]
  },
  {
   "cell_type": "markdown",
   "metadata": {
    "id": "lwaTaVpb8BrM"
   },
   "source": [
    "## LightGBM\n",
    "\n",
    "Особенности LightGBM:\n",
    "\n",
    "* полиственное (leaf-wise), а не поуровневое (depth-wise) построение деревьев\n",
    "\n",
    "* быстрое построение дерева, позволяющее не кодировать категориальные признаки, а использовать исходные категории для получения предикатов\n",
    "\n",
    "* ускорение построения деревьев за счёт бинаризации признаков (объединение значений признака в группы)\n",
    "\n",
    "Почитать подробнее можно тут: https://medium.com/@pushkarmandot/https-medium-com-pushkarmandot-what-is-lightgbm-how-to-implement-it-how-to-fine-tune-the-parameters-60347819b7fc"
   ]
  },
  {
   "cell_type": "code",
   "execution_count": null,
   "metadata": {
    "id": "jMJdk_u48BrM"
   },
   "outputs": [],
   "source": [
    "# !conda install lightgbm --y\n",
    "\n",
    "# For those who strugle with M1/M2 macs:\n",
    "# !arch -arm64 brew install libomp"
   ]
  },
  {
   "cell_type": "code",
   "execution_count": null,
   "metadata": {
    "id": "BqUosLo68BrM"
   },
   "outputs": [],
   "source": [
    "import lightgbm as lgb\n",
    "import numpy as np\n",
    "from sklearn.datasets import load_boston\n",
    "from sklearn.metrics import mean_squared_error\n",
    "from sklearn.model_selection import GridSearchCV, train_test_split\n",
    "\n",
    "data = load_boston()\n",
    "X_full = data.data\n",
    "y_full = data.target\n",
    "\n",
    "X_train, X_test, y_train, y_test = train_test_split(\n",
    "    X_full, y_full, test_size=100, random_state=241\n",
    ")"
   ]
  },
  {
   "cell_type": "markdown",
   "metadata": {
    "id": "YpHkJMq-8BrN"
   },
   "source": [
    "Обучение"
   ]
  },
  {
   "cell_type": "code",
   "execution_count": null,
   "metadata": {
    "id": "swZ5MmVg8BrN"
   },
   "outputs": [],
   "source": [
    "print(\"Starting training...\")\n",
    "# train\n",
    "gbm = lgb.LGBMRegressor(num_leaves=31, learning_rate=0.05, n_estimators=20)\n",
    "gbm.fit(\n",
    "    X_train,\n",
    "    y_train,\n",
    "    eval_set=[(X_test, y_test)],\n",
    "    eval_metric=\"l1\",\n",
    "    early_stopping_rounds=5,\n",
    ")"
   ]
  },
  {
   "cell_type": "markdown",
   "metadata": {
    "id": "ydJINPKY8BrN"
   },
   "source": [
    "Предсказание и оценка качества"
   ]
  },
  {
   "cell_type": "code",
   "execution_count": null,
   "metadata": {
    "id": "KVBVnN238BrO"
   },
   "outputs": [],
   "source": [
    "print(\"Starting predicting...\")\n",
    "\n",
    "y_pred = gbm.predict(X_test, num_iteration=gbm.best_iteration_)\n",
    "\n",
    "print(\"The rmse of prediction is:\", mean_squared_error(y_test, y_pred) ** 0.5)\n",
    "\n",
    "# feature importances\n",
    "print(\"Feature importances:\", list(gbm.feature_importances_))"
   ]
  },
  {
   "cell_type": "markdown",
   "metadata": {
    "id": "cREdogwB8BrO"
   },
   "source": [
    "Можно задать любую (придумать свою, например) метрику качества"
   ]
  },
  {
   "cell_type": "code",
   "execution_count": null,
   "metadata": {
    "id": "Yc-KL_XJ8BrO"
   },
   "outputs": [],
   "source": [
    "# self-defined eval metric\n",
    "# f(y_true: array, y_pred: array) -> name: string, eval_result: float, is_higher_better: bool\n",
    "# Root Mean Squared Logarithmic Error (RMSLE)\n",
    "def rmsle(y_true, y_pred):\n",
    "    return (\n",
    "        \"RMSLE\",\n",
    "        np.sqrt(np.mean(np.power(np.log1p(y_pred) - np.log1p(y_true), 2))),\n",
    "        False,\n",
    "    )\n",
    "\n",
    "\n",
    "print(\"Starting training with custom eval function...\")\n",
    "# train\n",
    "gbm.fit(\n",
    "    X_train,\n",
    "    y_train,\n",
    "    eval_set=[(X_test, y_test)],\n",
    "    eval_metric=rmsle,\n",
    "    early_stopping_rounds=5,\n",
    ")\n",
    "\n",
    "print(\"Starting predicting...\")\n",
    "# predict\n",
    "y_pred = gbm.predict(X_test, num_iteration=gbm.best_iteration_)\n",
    "# eval\n",
    "print(\"The rmsle of prediction is:\", rmsle(y_test, y_pred)[1])"
   ]
  },
  {
   "cell_type": "markdown",
   "metadata": {
    "id": "Ooz2_rXD8BrO"
   },
   "source": [
    "Подбор гиперпараметров"
   ]
  },
  {
   "cell_type": "code",
   "execution_count": null,
   "metadata": {
    "id": "8u4y-efp8BrO"
   },
   "outputs": [],
   "source": [
    "# other scikit-learn modules\n",
    "estimator = lgb.LGBMRegressor(num_leaves=31)\n",
    "\n",
    "param_grid = {\"learning_rate\": [0.01, 0.1, 1], \"n_estimators\": [20, 40]}\n",
    "\n",
    "gbm = GridSearchCV(estimator, param_grid, cv=3)\n",
    "gbm.fit(X_train, y_train)\n",
    "\n",
    "print(\"Best parameters found by grid search are:\", gbm.best_params_)"
   ]
  },
  {
   "cell_type": "markdown",
   "metadata": {
    "id": "hQxuiMHw8BrP"
   },
   "source": [
    "Предсказание и оценка качества"
   ]
  },
  {
   "cell_type": "code",
   "execution_count": null,
   "metadata": {
    "id": "K2-AzwgV8BrP"
   },
   "outputs": [],
   "source": [
    "pred = gbm.predict(X_test)"
   ]
  },
  {
   "cell_type": "code",
   "execution_count": null,
   "metadata": {
    "id": "qtR1ZI2g8BrP"
   },
   "outputs": [],
   "source": [
    "from sklearn.metrics import mean_squared_error\n",
    "\n",
    "mean_squared_error(y_test, pred)"
   ]
  }
 ],
 "metadata": {
  "colab": {
   "provenance": []
  },
  "kernelspec": {
   "display_name": "Python 3 (ipykernel)",
   "language": "python",
   "name": "python3"
  },
  "language_info": {
   "codemirror_mode": {
    "name": "ipython",
    "version": 3
   },
   "file_extension": ".py",
   "mimetype": "text/x-python",
   "name": "python",
   "nbconvert_exporter": "python",
   "pygments_lexer": "ipython3",
   "version": "3.11.5"
  }
 },
 "nbformat": 4,
 "nbformat_minor": 1
}
