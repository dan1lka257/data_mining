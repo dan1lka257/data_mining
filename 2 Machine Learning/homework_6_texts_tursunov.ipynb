{
 "cells": [
  {
   "cell_type": "markdown",
   "metadata": {
    "id": "Ffq6A2-ifzAA"
   },
   "source": [
    "# Интеллектуальный анализ данных – весна 2024\n",
    "# Домашнее задание 6: классификация текстов"
   ]
  },
  {
   "cell_type": "markdown",
   "metadata": {
    "id": "EPcxtekTA1Sm"
   },
   "source": [
    "Правила:\n",
    "\n",
    "\n",
    "\n",
    "*   Домашнее задание оценивается в 10 баллов.\n",
    "*   Можно использовать без доказательства любые результаты, встречавшиеся на лекциях или семинарах по курсу, если получение этих результатов не является вопросом задания.\n",
    "*  Можно использовать любые свободные источники с *обязательным* указанием ссылки на них.\n",
    "*  Плагиат не допускается. При обнаружении случаев списывания, 0 за работу выставляется всем участникам нарушения, даже если можно установить, кто у кого списал.\n",
    "*  Старайтесь сделать код как можно более оптимальным. В частности, будет штрафоваться использование циклов в тех случаях, когда операцию можно совершить при помощи инструментов библиотек, о которых рассказывалось в курсе."
   ]
  },
  {
   "cell_type": "markdown",
   "metadata": {
    "id": "itRtFtrOf0_b"
   },
   "source": [
    "В этом домашнем задании вам предстоит построить классификатор текстов.\n",
    "\n",
    "Будем предсказывать эмоциональную окраску твиттов о коронавирусе.\n",
    "\n"
   ]
  },
  {
   "cell_type": "code",
   "execution_count": 5,
   "metadata": {
    "id": "tNGRVO7_g9mz"
   },
   "outputs": [],
   "source": [
    "import numpy as np\n",
    "import pandas as pd\n",
    "from typing import  List\n",
    "import matplotlib.pyplot as plt\n",
    "import seaborn as sns\n",
    "from string import punctuation"
   ]
  },
  {
   "cell_type": "code",
   "execution_count": 8,
   "metadata": {
    "colab": {
     "base_uri": "https://localhost:8080/",
     "height": 174
    },
    "id": "zOy8iHJQg_Ss",
    "outputId": "01951c93-1976-4fd2-b432-f9ec217dbd17"
   },
   "outputs": [
    {
     "data": {
      "text/html": [
       "<div>\n",
       "<style scoped>\n",
       "    .dataframe tbody tr th:only-of-type {\n",
       "        vertical-align: middle;\n",
       "    }\n",
       "\n",
       "    .dataframe tbody tr th {\n",
       "        vertical-align: top;\n",
       "    }\n",
       "\n",
       "    .dataframe thead th {\n",
       "        text-align: right;\n",
       "    }\n",
       "</style>\n",
       "<table border=\"1\" class=\"dataframe\">\n",
       "  <thead>\n",
       "    <tr style=\"text-align: right;\">\n",
       "      <th></th>\n",
       "      <th>UserName</th>\n",
       "      <th>ScreenName</th>\n",
       "      <th>Location</th>\n",
       "      <th>TweetAt</th>\n",
       "      <th>OriginalTweet</th>\n",
       "      <th>Sentiment</th>\n",
       "    </tr>\n",
       "  </thead>\n",
       "  <tbody>\n",
       "    <tr>\n",
       "      <th>11731</th>\n",
       "      <td>18031</td>\n",
       "      <td>62983</td>\n",
       "      <td>NaN</td>\n",
       "      <td>21-03-2020</td>\n",
       "      <td>COVID-19 and the Huge Battle with the Deaf &amp;am...</td>\n",
       "      <td>Extremely Negative</td>\n",
       "    </tr>\n",
       "    <tr>\n",
       "      <th>19263</th>\n",
       "      <td>27245</td>\n",
       "      <td>72197</td>\n",
       "      <td>NaN</td>\n",
       "      <td>26-03-2020</td>\n",
       "      <td>fck me is there nothing Border Force amp this ...</td>\n",
       "      <td>Positive</td>\n",
       "    </tr>\n",
       "    <tr>\n",
       "      <th>11445</th>\n",
       "      <td>17673</td>\n",
       "      <td>62625</td>\n",
       "      <td>Cape Town, South Africa</td>\n",
       "      <td>21-03-2020</td>\n",
       "      <td>Can @CyrilRamaphosa @DrZweliMkhize please regu...</td>\n",
       "      <td>Extremely Positive</td>\n",
       "    </tr>\n",
       "    <tr>\n",
       "      <th>671</th>\n",
       "      <td>4597</td>\n",
       "      <td>49549</td>\n",
       "      <td>Los Angeles, CA</td>\n",
       "      <td>17-03-2020</td>\n",
       "      <td>Picture #01 \\r\\r\\nYesterday last night me and ...</td>\n",
       "      <td>Negative</td>\n",
       "    </tr>\n",
       "  </tbody>\n",
       "</table>\n",
       "</div>"
      ],
      "text/plain": [
       "       UserName  ScreenName                 Location     TweetAt  \\\n",
       "11731     18031       62983                      NaN  21-03-2020   \n",
       "19263     27245       72197                      NaN  26-03-2020   \n",
       "11445     17673       62625  Cape Town, South Africa  21-03-2020   \n",
       "671        4597       49549          Los Angeles, CA  17-03-2020   \n",
       "\n",
       "                                           OriginalTweet           Sentiment  \n",
       "11731  COVID-19 and the Huge Battle with the Deaf &am...  Extremely Negative  \n",
       "19263  fck me is there nothing Border Force amp this ...            Positive  \n",
       "11445  Can @CyrilRamaphosa @DrZweliMkhize please regu...  Extremely Positive  \n",
       "671    Picture #01 \\r\\r\\nYesterday last night me and ...            Negative  "
      ]
     },
     "execution_count": 8,
     "metadata": {},
     "output_type": "execute_result"
    }
   ],
   "source": [
    "df = pd.read_csv('./homework_6_texts_tursunov/tweets_coronavirus.csv', encoding='latin-1')\n",
    "df.sample(4)"
   ]
  },
  {
   "cell_type": "markdown",
   "metadata": {
    "id": "m2OiDog9ZBlS"
   },
   "source": [
    "Для каждого твитта указано:\n",
    "\n",
    "\n",
    "*   UserName - имя пользователя, заменено на целое число для анонимности\n",
    "*   ScreenName - отображающееся имя пользователя, заменено на целое число для анонимности\n",
    "*   Location - местоположение\n",
    "*   TweetAt - дата создания твитта\n",
    "*   OriginalTweet - текст твитта\n",
    "*   Sentiment - эмоциональная окраска твитта (целевая переменная)\n",
    "\n"
   ]
  },
  {
   "cell_type": "markdown",
   "metadata": {
    "id": "pZTMseDkhTC7"
   },
   "source": [
    "## Задание 1 Подготовка (0.5 балла)"
   ]
  },
  {
   "cell_type": "markdown",
   "metadata": {
    "id": "Xx2-odn9hdAW"
   },
   "source": [
    "Целевая переменная находится в колонке `Sentiment`.  Преобразуйте ее таким образом, чтобы она стала бинарной: 1 - если у твитта положительная эмоциональная окраска и 0 - если отрицательная."
   ]
  },
  {
   "cell_type": "code",
   "execution_count": 15,
   "metadata": {
    "id": "ZaQKQ1zEjP15"
   },
   "outputs": [
    {
     "data": {
      "text/html": [
       "<div>\n",
       "<style scoped>\n",
       "    .dataframe tbody tr th:only-of-type {\n",
       "        vertical-align: middle;\n",
       "    }\n",
       "\n",
       "    .dataframe tbody tr th {\n",
       "        vertical-align: top;\n",
       "    }\n",
       "\n",
       "    .dataframe thead th {\n",
       "        text-align: right;\n",
       "    }\n",
       "</style>\n",
       "<table border=\"1\" class=\"dataframe\">\n",
       "  <thead>\n",
       "    <tr style=\"text-align: right;\">\n",
       "      <th></th>\n",
       "      <th>UserName</th>\n",
       "      <th>ScreenName</th>\n",
       "      <th>Location</th>\n",
       "      <th>TweetAt</th>\n",
       "      <th>OriginalTweet</th>\n",
       "      <th>Sentiment</th>\n",
       "    </tr>\n",
       "  </thead>\n",
       "  <tbody>\n",
       "    <tr>\n",
       "      <th>0</th>\n",
       "      <td>3800</td>\n",
       "      <td>48752</td>\n",
       "      <td>UK</td>\n",
       "      <td>16-03-2020</td>\n",
       "      <td>advice Talk to your neighbours family to excha...</td>\n",
       "      <td>1</td>\n",
       "    </tr>\n",
       "    <tr>\n",
       "      <th>1</th>\n",
       "      <td>3801</td>\n",
       "      <td>48753</td>\n",
       "      <td>Vagabonds</td>\n",
       "      <td>16-03-2020</td>\n",
       "      <td>Coronavirus Australia: Woolworths to give elde...</td>\n",
       "      <td>1</td>\n",
       "    </tr>\n",
       "    <tr>\n",
       "      <th>2</th>\n",
       "      <td>3802</td>\n",
       "      <td>48754</td>\n",
       "      <td>NaN</td>\n",
       "      <td>16-03-2020</td>\n",
       "      <td>My food stock is not the only one which is emp...</td>\n",
       "      <td>1</td>\n",
       "    </tr>\n",
       "    <tr>\n",
       "      <th>3</th>\n",
       "      <td>3803</td>\n",
       "      <td>48755</td>\n",
       "      <td>NaN</td>\n",
       "      <td>16-03-2020</td>\n",
       "      <td>Me, ready to go at supermarket during the #COV...</td>\n",
       "      <td>0</td>\n",
       "    </tr>\n",
       "    <tr>\n",
       "      <th>4</th>\n",
       "      <td>3804</td>\n",
       "      <td>48756</td>\n",
       "      <td>ÃÂT: 36.319708,-82.363649</td>\n",
       "      <td>16-03-2020</td>\n",
       "      <td>As news of the regionÃÂs first confirmed COV...</td>\n",
       "      <td>1</td>\n",
       "    </tr>\n",
       "    <tr>\n",
       "      <th>5</th>\n",
       "      <td>3805</td>\n",
       "      <td>48757</td>\n",
       "      <td>35.926541,-78.753267</td>\n",
       "      <td>16-03-2020</td>\n",
       "      <td>Cashier at grocery store was sharing his insig...</td>\n",
       "      <td>1</td>\n",
       "    </tr>\n",
       "    <tr>\n",
       "      <th>6</th>\n",
       "      <td>3807</td>\n",
       "      <td>48759</td>\n",
       "      <td>Atlanta, GA USA</td>\n",
       "      <td>16-03-2020</td>\n",
       "      <td>Due to COVID-19 our retail store and classroom...</td>\n",
       "      <td>1</td>\n",
       "    </tr>\n",
       "    <tr>\n",
       "      <th>7</th>\n",
       "      <td>3808</td>\n",
       "      <td>48760</td>\n",
       "      <td>BHAVNAGAR,GUJRAT</td>\n",
       "      <td>16-03-2020</td>\n",
       "      <td>For corona prevention,we should stop to buy th...</td>\n",
       "      <td>0</td>\n",
       "    </tr>\n",
       "    <tr>\n",
       "      <th>8</th>\n",
       "      <td>3810</td>\n",
       "      <td>48762</td>\n",
       "      <td>Pitt Meadows, BC, Canada</td>\n",
       "      <td>16-03-2020</td>\n",
       "      <td>Due to the Covid-19 situation, we have increas...</td>\n",
       "      <td>1</td>\n",
       "    </tr>\n",
       "    <tr>\n",
       "      <th>9</th>\n",
       "      <td>3811</td>\n",
       "      <td>48763</td>\n",
       "      <td>Horningsea</td>\n",
       "      <td>16-03-2020</td>\n",
       "      <td>#horningsea is a caring community. LetÃÂs AL...</td>\n",
       "      <td>1</td>\n",
       "    </tr>\n",
       "  </tbody>\n",
       "</table>\n",
       "</div>"
      ],
      "text/plain": [
       "   UserName  ScreenName                     Location     TweetAt  \\\n",
       "0      3800       48752                           UK  16-03-2020   \n",
       "1      3801       48753                    Vagabonds  16-03-2020   \n",
       "2      3802       48754                          NaN  16-03-2020   \n",
       "3      3803       48755                          NaN  16-03-2020   \n",
       "4      3804       48756  ÃÂT: 36.319708,-82.363649  16-03-2020   \n",
       "5      3805       48757         35.926541,-78.753267  16-03-2020   \n",
       "6      3807       48759              Atlanta, GA USA  16-03-2020   \n",
       "7      3808       48760             BHAVNAGAR,GUJRAT  16-03-2020   \n",
       "8      3810       48762    Pitt Meadows, BC, Canada   16-03-2020   \n",
       "9      3811       48763                   Horningsea  16-03-2020   \n",
       "\n",
       "                                       OriginalTweet Sentiment  \n",
       "0  advice Talk to your neighbours family to excha...         1  \n",
       "1  Coronavirus Australia: Woolworths to give elde...         1  \n",
       "2  My food stock is not the only one which is emp...         1  \n",
       "3  Me, ready to go at supermarket during the #COV...         0  \n",
       "4  As news of the regionÃÂs first confirmed COV...         1  \n",
       "5  Cashier at grocery store was sharing his insig...         1  \n",
       "6  Due to COVID-19 our retail store and classroom...         1  \n",
       "7  For corona prevention,we should stop to buy th...         0  \n",
       "8  Due to the Covid-19 situation, we have increas...         1  \n",
       "9  #horningsea is a caring community. LetÃÂs AL...         1  "
      ]
     },
     "execution_count": 15,
     "metadata": {},
     "output_type": "execute_result"
    }
   ],
   "source": [
    "df.loc[df['Sentiment'] == 'Negative', 'Sentiment'] = 0\n",
    "df.loc[df['Sentiment'] == 'Extremely Negative', 'Sentiment'] = 0\n",
    "df.loc[df['Sentiment'] == 'Positive', 'Sentiment'] = 1\n",
    "df.loc[df['Sentiment'] == 'Extremely Positive', 'Sentiment'] = 1\n",
    "df.head(10)"
   ]
  },
  {
   "cell_type": "markdown",
   "metadata": {
    "id": "pGq1FxJ-kBo5"
   },
   "source": [
    "Сбалансированы ли классы?"
   ]
  },
  {
   "cell_type": "code",
   "execution_count": 17,
   "metadata": {
    "id": "a7gdNtxckK5V"
   },
   "outputs": [
    {
     "data": {
      "text/plain": [
       "Sentiment\n",
       "1    18046\n",
       "0    15398\n",
       "Name: count, dtype: int64"
      ]
     },
     "execution_count": 17,
     "metadata": {},
     "output_type": "execute_result"
    }
   ],
   "source": [
    "df.value_counts('Sentiment')"
   ]
  },
  {
   "cell_type": "markdown",
   "metadata": {
    "id": "Ng8BCelMkWb0"
   },
   "source": [
    "**Ответ:** Да, сбалансированны"
   ]
  },
  {
   "cell_type": "markdown",
   "metadata": {
    "id": "qmSIBSsLk5Zz"
   },
   "source": [
    "Выведете на экран информацию о пропусках в данных. Если пропуски присутствуют заполните их строкой 'Unknown'."
   ]
  },
  {
   "cell_type": "code",
   "execution_count": 19,
   "metadata": {
    "id": "UhUVRkR5kxa7",
    "scrolled": true
   },
   "outputs": [
    {
     "data": {
      "text/plain": [
       "UserName            0\n",
       "ScreenName          0\n",
       "Location         7049\n",
       "TweetAt             0\n",
       "OriginalTweet       0\n",
       "Sentiment           0\n",
       "dtype: int64"
      ]
     },
     "execution_count": 19,
     "metadata": {},
     "output_type": "execute_result"
    }
   ],
   "source": [
    "df.isnull().sum()"
   ]
  },
  {
   "cell_type": "code",
   "execution_count": 22,
   "metadata": {},
   "outputs": [
    {
     "data": {
      "text/html": [
       "<div>\n",
       "<style scoped>\n",
       "    .dataframe tbody tr th:only-of-type {\n",
       "        vertical-align: middle;\n",
       "    }\n",
       "\n",
       "    .dataframe tbody tr th {\n",
       "        vertical-align: top;\n",
       "    }\n",
       "\n",
       "    .dataframe thead th {\n",
       "        text-align: right;\n",
       "    }\n",
       "</style>\n",
       "<table border=\"1\" class=\"dataframe\">\n",
       "  <thead>\n",
       "    <tr style=\"text-align: right;\">\n",
       "      <th></th>\n",
       "      <th>UserName</th>\n",
       "      <th>ScreenName</th>\n",
       "      <th>Location</th>\n",
       "      <th>TweetAt</th>\n",
       "      <th>OriginalTweet</th>\n",
       "      <th>Sentiment</th>\n",
       "    </tr>\n",
       "  </thead>\n",
       "  <tbody>\n",
       "    <tr>\n",
       "      <th>0</th>\n",
       "      <td>3800</td>\n",
       "      <td>48752</td>\n",
       "      <td>UK</td>\n",
       "      <td>16-03-2020</td>\n",
       "      <td>advice Talk to your neighbours family to excha...</td>\n",
       "      <td>1</td>\n",
       "    </tr>\n",
       "    <tr>\n",
       "      <th>1</th>\n",
       "      <td>3801</td>\n",
       "      <td>48753</td>\n",
       "      <td>Vagabonds</td>\n",
       "      <td>16-03-2020</td>\n",
       "      <td>Coronavirus Australia: Woolworths to give elde...</td>\n",
       "      <td>1</td>\n",
       "    </tr>\n",
       "    <tr>\n",
       "      <th>2</th>\n",
       "      <td>3802</td>\n",
       "      <td>48754</td>\n",
       "      <td>Unknown</td>\n",
       "      <td>16-03-2020</td>\n",
       "      <td>My food stock is not the only one which is emp...</td>\n",
       "      <td>1</td>\n",
       "    </tr>\n",
       "    <tr>\n",
       "      <th>3</th>\n",
       "      <td>3803</td>\n",
       "      <td>48755</td>\n",
       "      <td>Unknown</td>\n",
       "      <td>16-03-2020</td>\n",
       "      <td>Me, ready to go at supermarket during the #COV...</td>\n",
       "      <td>0</td>\n",
       "    </tr>\n",
       "    <tr>\n",
       "      <th>4</th>\n",
       "      <td>3804</td>\n",
       "      <td>48756</td>\n",
       "      <td>ÃÂT: 36.319708,-82.363649</td>\n",
       "      <td>16-03-2020</td>\n",
       "      <td>As news of the regionÃÂs first confirmed COV...</td>\n",
       "      <td>1</td>\n",
       "    </tr>\n",
       "    <tr>\n",
       "      <th>5</th>\n",
       "      <td>3805</td>\n",
       "      <td>48757</td>\n",
       "      <td>35.926541,-78.753267</td>\n",
       "      <td>16-03-2020</td>\n",
       "      <td>Cashier at grocery store was sharing his insig...</td>\n",
       "      <td>1</td>\n",
       "    </tr>\n",
       "    <tr>\n",
       "      <th>6</th>\n",
       "      <td>3807</td>\n",
       "      <td>48759</td>\n",
       "      <td>Atlanta, GA USA</td>\n",
       "      <td>16-03-2020</td>\n",
       "      <td>Due to COVID-19 our retail store and classroom...</td>\n",
       "      <td>1</td>\n",
       "    </tr>\n",
       "    <tr>\n",
       "      <th>7</th>\n",
       "      <td>3808</td>\n",
       "      <td>48760</td>\n",
       "      <td>BHAVNAGAR,GUJRAT</td>\n",
       "      <td>16-03-2020</td>\n",
       "      <td>For corona prevention,we should stop to buy th...</td>\n",
       "      <td>0</td>\n",
       "    </tr>\n",
       "    <tr>\n",
       "      <th>8</th>\n",
       "      <td>3810</td>\n",
       "      <td>48762</td>\n",
       "      <td>Pitt Meadows, BC, Canada</td>\n",
       "      <td>16-03-2020</td>\n",
       "      <td>Due to the Covid-19 situation, we have increas...</td>\n",
       "      <td>1</td>\n",
       "    </tr>\n",
       "    <tr>\n",
       "      <th>9</th>\n",
       "      <td>3811</td>\n",
       "      <td>48763</td>\n",
       "      <td>Horningsea</td>\n",
       "      <td>16-03-2020</td>\n",
       "      <td>#horningsea is a caring community. LetÃÂs AL...</td>\n",
       "      <td>1</td>\n",
       "    </tr>\n",
       "  </tbody>\n",
       "</table>\n",
       "</div>"
      ],
      "text/plain": [
       "   UserName  ScreenName                     Location     TweetAt  \\\n",
       "0      3800       48752                           UK  16-03-2020   \n",
       "1      3801       48753                    Vagabonds  16-03-2020   \n",
       "2      3802       48754                      Unknown  16-03-2020   \n",
       "3      3803       48755                      Unknown  16-03-2020   \n",
       "4      3804       48756  ÃÂT: 36.319708,-82.363649  16-03-2020   \n",
       "5      3805       48757         35.926541,-78.753267  16-03-2020   \n",
       "6      3807       48759              Atlanta, GA USA  16-03-2020   \n",
       "7      3808       48760             BHAVNAGAR,GUJRAT  16-03-2020   \n",
       "8      3810       48762    Pitt Meadows, BC, Canada   16-03-2020   \n",
       "9      3811       48763                   Horningsea  16-03-2020   \n",
       "\n",
       "                                       OriginalTweet  Sentiment  \n",
       "0  advice Talk to your neighbours family to excha...          1  \n",
       "1  Coronavirus Australia: Woolworths to give elde...          1  \n",
       "2  My food stock is not the only one which is emp...          1  \n",
       "3  Me, ready to go at supermarket during the #COV...          0  \n",
       "4  As news of the regionÃÂs first confirmed COV...          1  \n",
       "5  Cashier at grocery store was sharing his insig...          1  \n",
       "6  Due to COVID-19 our retail store and classroom...          1  \n",
       "7  For corona prevention,we should stop to buy th...          0  \n",
       "8  Due to the Covid-19 situation, we have increas...          1  \n",
       "9  #horningsea is a caring community. LetÃÂs AL...          1  "
      ]
     },
     "execution_count": 22,
     "metadata": {},
     "output_type": "execute_result"
    }
   ],
   "source": [
    "df = df.fillna('Unknown')\n",
    "df.head(10)"
   ]
  },
  {
   "cell_type": "markdown",
   "metadata": {
    "id": "1tzt27tfjUpq"
   },
   "source": [
    "Разделите данные на обучающие и тестовые в соотношении 7 : 3 и `random_state=0`"
   ]
  },
  {
   "cell_type": "code",
   "execution_count": 35,
   "metadata": {
    "id": "xSLOA9tIj9Z6"
   },
   "outputs": [],
   "source": [
    "from sklearn.model_selection import train_test_split\n",
    "\n",
    "train, test = train_test_split(df, test_size=0.3, random_state=0)"
   ]
  },
  {
   "cell_type": "markdown",
   "metadata": {
    "id": "J9RrPUsJlL60"
   },
   "source": [
    "## Задание 2 Токенизация (3 балла)"
   ]
  },
  {
   "cell_type": "markdown",
   "metadata": {
    "id": "2Dz_b7Xopc_R"
   },
   "source": [
    "Постройте словарь на основе обучающей выборки и посчитайте количество встреч каждого токена с использованием самой простой токенизации - деления текстов по пробельным символам и приведение токенов в нижний регистр"
   ]
  },
  {
   "cell_type": "code",
   "execution_count": 89,
   "metadata": {
    "id": "SFr67WOJphny"
   },
   "outputs": [],
   "source": [
    "from collections import Counter\n",
    "tokens_counter = Counter([word.lower() for text in train['OriginalTweet'].to_numpy() for word in text.split()])"
   ]
  },
  {
   "cell_type": "markdown",
   "metadata": {
    "id": "Pe0h2Jqkpnao"
   },
   "source": [
    "Какой размер словаря получился?"
   ]
  },
  {
   "cell_type": "code",
   "execution_count": 90,
   "metadata": {
    "id": "umyENA7EpokD"
   },
   "outputs": [
    {
     "data": {
      "text/plain": [
       "79755"
      ]
     },
     "execution_count": 90,
     "metadata": {},
     "output_type": "execute_result"
    }
   ],
   "source": [
    "len(tokens_counter)"
   ]
  },
  {
   "cell_type": "markdown",
   "metadata": {
    "id": "0d2G1Z-Qpqkd"
   },
   "source": [
    "Выведите 10 самых популярных токенов с количеством встреч каждого из них. Объясните, почему именно эти токены в топе"
   ]
  },
  {
   "cell_type": "code",
   "execution_count": 91,
   "metadata": {
    "id": "Impi32a_pssg"
   },
   "outputs": [
    {
     "data": {
      "text/plain": [
       "[('the', 26815),\n",
       " ('to', 23373),\n",
       " ('and', 14684),\n",
       " ('of', 13012),\n",
       " ('a', 11737),\n",
       " ('in', 11198),\n",
       " ('for', 8566),\n",
       " ('#coronavirus', 8223),\n",
       " ('is', 7383),\n",
       " ('are', 7050)]"
      ]
     },
     "execution_count": 91,
     "metadata": {},
     "output_type": "execute_result"
    }
   ],
   "source": [
    "token_counter = sorted(tokens_counter.items(), reverse=True, key=lambda word: word[1])\n",
    "token_counter[:10]"
   ]
  },
  {
   "cell_type": "markdown",
   "metadata": {
    "id": "ZtuJCD0ApuFd"
   },
   "source": [
    "**Ответ:** Это предлоги, они встречаются чаще всего"
   ]
  },
  {
   "cell_type": "markdown",
   "metadata": {
    "id": "T7DTQDkWsVYp"
   },
   "source": [
    "Удалите стоп-слова из словаря и выведите новый топ-10 токенов (и количество встреч) по популярности.  Что можно сказать  о нем?"
   ]
  },
  {
   "cell_type": "code",
   "execution_count": 92,
   "metadata": {},
   "outputs": [
    {
     "data": {
      "text/plain": [
       "True"
      ]
     },
     "execution_count": 92,
     "metadata": {},
     "output_type": "execute_result"
    }
   ],
   "source": [
    "import nltk\n",
    "nltk.download(\"stopwords\", quiet=True)"
   ]
  },
  {
   "cell_type": "code",
   "execution_count": 93,
   "metadata": {
    "id": "8csSAdgTsnFx"
   },
   "outputs": [
    {
     "data": {
      "text/plain": [
       "[('#coronavirus', 8223),\n",
       " ('prices', 3891),\n",
       " ('food', 3820),\n",
       " ('grocery', 3469),\n",
       " ('supermarket', 3288),\n",
       " ('people', 3175),\n",
       " ('covid-19', 3173),\n",
       " ('store', 3155),\n",
       " ('#covid19', 2471),\n",
       " ('&amp;', 2314)]"
      ]
     },
     "execution_count": 93,
     "metadata": {},
     "output_type": "execute_result"
    }
   ],
   "source": [
    "from nltk.corpus import stopwords\n",
    "token_counter = [word for word in token_counter if word[0] not in stopwords.words(\"english\")]\n",
    "token_counter[:10]"
   ]
  },
  {
   "cell_type": "markdown",
   "metadata": {
    "id": "LZH0x2Lzs-Dh"
   },
   "source": [
    "**Ответ:** Уже лучше, можно сказать, что волнует людей больше всего"
   ]
  },
  {
   "cell_type": "markdown",
   "metadata": {
    "id": "TKSGRyI-uor0"
   },
   "source": [
    "Также выведите 20 самых непопулярных слов (если самых непопулярных слов больше выведите любые 20 из них) Почему эти токены непопулярны, требуется ли как-то дополнительно работать с ними?"
   ]
  },
  {
   "cell_type": "code",
   "execution_count": 94,
   "metadata": {
    "id": "moArbwfvun9t"
   },
   "outputs": [
    {
     "data": {
      "text/plain": [
       "[('skellig', 1),\n",
       " ('coast!', 1),\n",
       " ('closer!)', 1),\n",
       " ('@skelligsix18', 1),\n",
       " ('#skelligcoast2kms', 1),\n",
       " ('#southkerry', 1),\n",
       " ('https://t.co/zjcl195vqs', 1),\n",
       " ('@srinivasiyc', 1),\n",
       " ('https://t.co/iaek4fwsgz', 1),\n",
       " ('premiership', 1),\n",
       " ('non-playing', 1),\n",
       " ('subsidise', 1),\n",
       " ('playersã\\x82â\\x92', 1),\n",
       " ('renewing', 1),\n",
       " ('wage!', 1),\n",
       " ('flew', 1),\n",
       " ('nothing...', 1),\n",
       " ('@torontopearson', 1),\n",
       " ('@680news', 1),\n",
       " ('https://t.co/7j2y3rsld9', 1)]"
      ]
     },
     "execution_count": 94,
     "metadata": {},
     "output_type": "execute_result"
    }
   ],
   "source": [
    "token_counter[-20:]"
   ]
  },
  {
   "cell_type": "markdown",
   "metadata": {
    "id": "uRp3J1gQunlR"
   },
   "source": [
    "**Ответ:** Здесь мелькают ссылки, никнеймы людей, достаточно странные хештеги. Такой мусорной информации много, она сильно будет замедлять модель"
   ]
  },
  {
   "cell_type": "markdown",
   "metadata": {
    "id": "wx9LQOSPzvjV"
   },
   "source": [
    "Теперь воспользуемся токенайзером получше - TweetTokenizer из библиотеки nltk. Примените его и посмотрите на топ-10 популярных слов. Чем он отличается от топа, который получался раньше? Почему?"
   ]
  },
  {
   "cell_type": "code",
   "execution_count": 106,
   "metadata": {
    "id": "2G1UkyVxzvFY"
   },
   "outputs": [
    {
     "data": {
      "text/plain": [
       "[('the', 26993),\n",
       " ('.', 24118),\n",
       " ('to', 23478),\n",
       " (',', 17571),\n",
       " ('and', 14825),\n",
       " ('of', 13044),\n",
       " ('a', 11891),\n",
       " ('in', 11348),\n",
       " ('?', 9524),\n",
       " ('#coronavirus', 8808)]"
      ]
     },
     "execution_count": 106,
     "metadata": {},
     "output_type": "execute_result"
    }
   ],
   "source": [
    "from nltk.tokenize import TweetTokenizer\n",
    "tweet_token = TweetTokenizer()\n",
    "token_counter = Counter([word.lower() for text in train['OriginalTweet'].to_numpy() for word in tweet_token.tokenize(text)])\n",
    "\n",
    "token_counter = sorted(token_counter.items(), reverse=True, key=lambda word: word[1])\n",
    "token_counter[:10]"
   ]
  },
  {
   "cell_type": "markdown",
   "metadata": {
    "id": "50eVUnJN1Zxl"
   },
   "source": [
    "**Ответ:** Помимо артиклей появились знаки препинания, потому что теперь мы не просто по пробелу отделяем, а ещё и по знакам препинания"
   ]
  },
  {
   "cell_type": "markdown",
   "metadata": {
    "id": "1gqQgiMs11bs"
   },
   "source": [
    "Удалите из словаря стоп-слова и пунктуацию, посмотрите на новый топ-10 слов с количеством встреч, есть ли теперь в нем что-то не похожее на слова?"
   ]
  },
  {
   "cell_type": "code",
   "execution_count": 107,
   "metadata": {
    "id": "0yHWdFrp0Mup"
   },
   "outputs": [
    {
     "data": {
      "text/plain": [
       "[('#coronavirus', 8808),\n",
       " ('â', 7415),\n",
       " ('\\x82', 7311),\n",
       " ('19', 7167),\n",
       " ('covid', 6253),\n",
       " ('prices', 4601),\n",
       " ('\\x92', 4372),\n",
       " ('food', 4367),\n",
       " ('store', 3877),\n",
       " ('supermarket', 3805)]"
      ]
     },
     "execution_count": 107,
     "metadata": {},
     "output_type": "execute_result"
    }
   ],
   "source": [
    "from string import punctuation\n",
    "\n",
    "token_counter = [word for word in token_counter if word[0] not in stopwords.words(\"english\") and word[0] not in punctuation]\n",
    "token_counter[:10]"
   ]
  },
  {
   "cell_type": "markdown",
   "metadata": {
    "id": "8ZJqXELP_Yxy"
   },
   "source": [
    "**Ответ:** Тут появились какие-то странные символы и число 19"
   ]
  },
  {
   "cell_type": "markdown",
   "metadata": {
    "id": "rzXjMsSB_kXB"
   },
   "source": [
    "Удалите из словаря токены из одного символа, с позицией в таблице Unicode 128 и более (`ord(x) >= 128`)\n",
    "\n",
    "Выведите топ-10 самых популярных и топ-20 непопулярных слов. Чем полученные топы отличаются от итоговых топов, полученных при использовании токенизации по пробелам? Что теперь лучше, а что хуже?"
   ]
  },
  {
   "cell_type": "code",
   "execution_count": 108,
   "metadata": {
    "id": "1695hlkS_1-J",
    "scrolled": true
   },
   "outputs": [
    {
     "data": {
      "text/plain": [
       "[('#coronavirus', 8808),\n",
       " ('19', 7167),\n",
       " ('covid', 6253),\n",
       " ('prices', 4601),\n",
       " ('food', 4367),\n",
       " ('store', 3877),\n",
       " ('supermarket', 3805),\n",
       " ('grocery', 3523),\n",
       " ('people', 3463),\n",
       " ('#covid19', 2589)]"
      ]
     },
     "execution_count": 108,
     "metadata": {},
     "output_type": "execute_result"
    }
   ],
   "source": [
    "token_counter = [word for word in token_counter if len(word[0]) != 1 or ord(word[0]) < 128]\n",
    "token_counter[:10] # ТОП-10 популярных"
   ]
  },
  {
   "cell_type": "code",
   "execution_count": 109,
   "metadata": {},
   "outputs": [
    {
     "data": {
      "text/plain": [
       "[('https://t.co/lw1r0rm7xs', 1),\n",
       " ('https://t.co/5cbliqzx7l', 1),\n",
       " ('now.when', 1),\n",
       " ('milion', 1),\n",
       " ('skellig', 1),\n",
       " ('@skelligsix18', 1),\n",
       " ('#skelligcoast2kms', 1),\n",
       " ('#southkerry', 1),\n",
       " ('https://t.co/zjcl195vqs', 1),\n",
       " ('@srinivasiyc', 1),\n",
       " ('https://t.co/iaek4fwsgz', 1),\n",
       " ('premiership', 1),\n",
       " ('non-playing', 1),\n",
       " ('subsidise', 1),\n",
       " ('playersã', 1),\n",
       " ('renewing', 1),\n",
       " ('flew', 1),\n",
       " ('@torontopearson', 1),\n",
       " ('@680news', 1),\n",
       " ('https://t.co/7j2y3rsld9', 1)]"
      ]
     },
     "execution_count": 109,
     "metadata": {},
     "output_type": "execute_result"
    }
   ],
   "source": [
    "token_counter[-20:] # ТОП-20 непопулярных"
   ]
  },
  {
   "cell_type": "markdown",
   "metadata": {
    "id": "KzjHAKIlDvc6"
   },
   "source": [
    "**Ответ:** ТОП популярных изменился незначительно, теперь слово \"covid\" и число 19 являются разными токенами, это скорее минус, так как число 19 само по себе не несёт никакой информации, а ТОП непопулярных перестал содежать слова, склеенные с пунктуацией, это плюс"
   ]
  },
  {
   "cell_type": "markdown",
   "metadata": {
    "id": "EcDf9_6HB2zm"
   },
   "source": [
    "Выведите топ-10 популярных хештегов с количеством встреч. Что можно сказать о них?"
   ]
  },
  {
   "cell_type": "code",
   "execution_count": 113,
   "metadata": {
    "id": "zk4fygCUBw3l"
   },
   "outputs": [
    {
     "data": {
      "text/plain": [
       "[('#coronavirus', 8808),\n",
       " ('#covid19', 2589),\n",
       " ('#covid_19', 1734),\n",
       " ('#covid2019', 946),\n",
       " ('#toiletpaper', 744),\n",
       " ('#covid', 641),\n",
       " ('#socialdistancing', 465),\n",
       " ('#coronacrisis', 448),\n",
       " ('#pandemic', 257),\n",
       " ('#coronaviruspandemic', 249)]"
      ]
     },
     "execution_count": 113,
     "metadata": {},
     "output_type": "execute_result"
    }
   ],
   "source": [
    "[word for word in token_counter if word[0][0] == '#'][:10]"
   ]
  },
  {
   "cell_type": "markdown",
   "metadata": {
    "id": "-6NeNWBkDxM7"
   },
   "source": [
    "**Ответ:** все они об одном и том же (кроме туалетной бумаги и социального дистанцирования), в принципе их можно было бы объединить в 1 токен."
   ]
  },
  {
   "cell_type": "markdown",
   "metadata": {
    "id": "LLYBg7caD5GA"
   },
   "source": [
    "То же самое проделайте для ссылок на сайт https://t.co Сравнима ли популярность ссылок с популярностью хештегов? Будет ли информация о ссылке на конкретную страницу полезна?"
   ]
  },
  {
   "cell_type": "code",
   "execution_count": 115,
   "metadata": {
    "id": "MXbm1oeaCK9S"
   },
   "outputs": [
    {
     "data": {
      "text/plain": [
       "[('https://t.co/oxa7swtond', 5),\n",
       " ('https://t.co/gp3eusapl8', 4),\n",
       " ('https://t.co/deftrui1pfã\\x82â', 3),\n",
       " ('https://t.co/wrlhyzizaa', 3),\n",
       " ('https://t.co/kuwipf1kqw', 3),\n",
       " ('https://t.co/zjnrx6dkkn', 3),\n",
       " ('https://t.co/3gbbdpdjat', 3),\n",
       " ('https://t.co/e2znxajpre', 3),\n",
       " ('https://t.co/catkegayoy', 3),\n",
       " ('https://t.co/g63rp042ho', 3)]"
      ]
     },
     "execution_count": 115,
     "metadata": {},
     "output_type": "execute_result"
    }
   ],
   "source": [
    "[word for word in token_counter if 'https://t.co' in word[0]][:10]"
   ]
  },
  {
   "cell_type": "markdown",
   "metadata": {
    "id": "at6lRYZ8A07N"
   },
   "source": [
    "**Ответ:** популярность хештегов и ссылок очень отличается, информация о ссылке не будет полезна, так как очень редко встречается"
   ]
  },
  {
   "cell_type": "markdown",
   "metadata": {
    "id": "IOGdUU1kBU1D"
   },
   "source": [
    "Используем опыт предыдущих экспериментов и напишем собственный токенайзер, улучшив TweetTokenizer. Функция tokenize должна:\n",
    "\n",
    "\n",
    "\n",
    "*   Привести текст в нижний регистр\n",
    "*   Применить TweetTokenizer для изначального выделения токенов\n",
    "*   Удалить стоп-слова, пунктуацию, токены из одного символа, с позицией в таблице Unicode 128 и более и ссылки на t.co\n",
    "\n"
   ]
  },
  {
   "cell_type": "code",
   "execution_count": 141,
   "metadata": {
    "id": "ctEsB6xkFrrK"
   },
   "outputs": [],
   "source": [
    "def custom_tokenizer(text):\n",
    "    tweet_token = TweetTokenizer()\n",
    "    text = text.lower()\n",
    "    token_counter = Counter([word for word in tweet_token.tokenize(text) if word not in punctuation and word not in stopwords.words(\"english\") and (len(word) != 1 or ord(word) < 128) and 'https://t.co' not in word])\n",
    "\n",
    "    return list(token_counter.keys())"
   ]
  },
  {
   "cell_type": "code",
   "execution_count": 142,
   "metadata": {
    "colab": {
     "base_uri": "https://localhost:8080/"
    },
    "id": "XwbgtYkJGYym",
    "outputId": "5808765b-3448-45e6-ccc1-7cd65f6371ef"
   },
   "outputs": [
    {
     "data": {
      "text/plain": [
       "['sample', 'text', '@sample_text', '#sampletext']"
      ]
     },
     "execution_count": 142,
     "metadata": {},
     "output_type": "execute_result"
    }
   ],
   "source": [
    "custom_tokenizer('This is sample text!!!! @Sample_text I, \\x92\\x92 https://t.co/sample  #sampletext')"
   ]
  },
  {
   "cell_type": "markdown",
   "metadata": {
    "id": "wURVABmXHk97"
   },
   "source": [
    "## Задание 3 Векторизация текстов (2 балла)"
   ]
  },
  {
   "cell_type": "markdown",
   "metadata": {
    "id": "H44iXkoHIQfN"
   },
   "source": [
    "Обучите CountVectorizer с использованием custom_tokenizer в качестве токенайзера. Как размер полученного словаря соотносится с размером изначального словаря из начала задания 2?"
   ]
  },
  {
   "cell_type": "code",
   "execution_count": 143,
   "metadata": {
    "colab": {
     "base_uri": "https://localhost:8080/"
    },
    "id": "gHn_limQl3BI",
    "outputId": "8e9c1826-319f-4376-f06e-c30c2eb82648"
   },
   "outputs": [
    {
     "name": "stderr",
     "output_type": "stream",
     "text": [
      "C:\\ProgramData\\anaconda3\\Lib\\site-packages\\sklearn\\feature_extraction\\text.py:525: UserWarning: The parameter 'token_pattern' will not be used since 'tokenizer' is not None'\n",
      "  warnings.warn(\n"
     ]
    },
    {
     "name": "stdout",
     "output_type": "stream",
     "text": [
      "45306\n"
     ]
    }
   ],
   "source": [
    "from sklearn.feature_extraction.text import CountVectorizer\n",
    "\n",
    "cv = CountVectorizer(tokenizer=custom_tokenizer)\n",
    "cv.fit_transform(train['OriginalTweet'])\n",
    "\n",
    "print(len(cv.vocabulary_))"
   ]
  },
  {
   "cell_type": "markdown",
   "metadata": {
    "id": "gsfmaSGoItUm"
   },
   "source": [
    "**Ответ:** Он получился меньше, так как много лишнего убрали"
   ]
  },
  {
   "cell_type": "markdown",
   "metadata": {
    "id": "lm6UHNmqKZT0"
   },
   "source": [
    "Посмотрим на какой-нибудь конкретный твитт:"
   ]
  },
  {
   "cell_type": "code",
   "execution_count": 144,
   "metadata": {
    "id": "aJVjjfqOJh8m"
   },
   "outputs": [
    {
     "data": {
      "text/plain": [
       "('Nice one @SkyNews lets not panic but show ppl in france queueing for food!!! #CoronavirusOutbreak #COVID2019 brainless!! Ffs',\n",
       " 0)"
      ]
     },
     "execution_count": 144,
     "metadata": {},
     "output_type": "execute_result"
    }
   ],
   "source": [
    "ind = 9023\n",
    "train.iloc[ind]['OriginalTweet'], train.iloc[ind]['Sentiment']"
   ]
  },
  {
   "cell_type": "markdown",
   "metadata": {
    "id": "PBMIHBI5KdaS"
   },
   "source": [
    "Автор твитта не доволен ситуацией с едой во Франции и текст имеет резко негативную окраску.\n",
    "\n",
    "Примените обученный CountVectorizer для векторизации данного текста, и попытайтесь определить самый важный токен и самый неважный токен (токен, компонента которого в векторе максимальна/минимальна, без учета 0). Хорошо ли они определились, почему?"
   ]
  },
  {
   "cell_type": "code",
   "execution_count": 162,
   "metadata": {
    "id": "7NcAllaEKsJj"
   },
   "outputs": [
    {
     "name": "stdout",
     "output_type": "stream",
     "text": [
      "Самый популярный: ('show', 1)\n",
      "Самый непопулярный: ('#coronavirusoutbreak', 1)\n"
     ]
    }
   ],
   "source": [
    "token_counter = sorted(list(zip(cv.get_feature_names_out(), *cv.transform([train.iloc[ind]['OriginalTweet']]).toarray())), key=lambda word: word[1])\n",
    "print(f'Самый популярный: {token_counter[-1]}')\n",
    "for word in token_counter:\n",
    "    if word[1] != 0:\n",
    "        print(f'Самый непопулярный: {word}')\n",
    "        break"
   ]
  },
  {
   "cell_type": "markdown",
   "metadata": {
    "id": "TpEsl1k_NF4T"
   },
   "source": [
    "**Ответ:** Плохо определились, потому что только по 1 разу встретились в тексте"
   ]
  },
  {
   "cell_type": "markdown",
   "metadata": {
    "id": "w4DsEQpLO3J6"
   },
   "source": [
    "Теперь примените TfidfVectorizer и  определите самый важный/неважный токены. Хорошо ли определились, почему?"
   ]
  },
  {
   "cell_type": "code",
   "execution_count": 163,
   "metadata": {
    "id": "uSNzdK3ENGB3"
   },
   "outputs": [
    {
     "name": "stderr",
     "output_type": "stream",
     "text": [
      "C:\\ProgramData\\anaconda3\\Lib\\site-packages\\sklearn\\feature_extraction\\text.py:525: UserWarning: The parameter 'token_pattern' will not be used since 'tokenizer' is not None'\n",
      "  warnings.warn(\n"
     ]
    },
    {
     "name": "stdout",
     "output_type": "stream",
     "text": [
      "Самый популярный: ('brainless', 0.3867641170466375)\n",
      "Самый непопулярный: ('food', 0.11328893069250721)\n"
     ]
    }
   ],
   "source": [
    "from sklearn.feature_extraction.text import TfidfVectorizer\n",
    "\n",
    "tv = TfidfVectorizer(tokenizer=custom_tokenizer)\n",
    "tv.fit_transform(train['OriginalTweet'])\n",
    "\n",
    "token_counter = sorted(list(zip(tv.get_feature_names_out(), *tv.transform([train.iloc[ind]['OriginalTweet']]).toarray())), key=lambda word: word[1])\n",
    "print(f'Самый популярный: {token_counter[-1]}')\n",
    "for word in token_counter:\n",
    "    if word[1] != 0:\n",
    "        print(f'Самый непопулярный: {word}')\n",
    "        break"
   ]
  },
  {
   "cell_type": "markdown",
   "metadata": {
    "id": "NYao_UhqQADm"
   },
   "source": [
    "**Ответ:** Да, токены определились хорошо, слово \"brainless\" ярко выражает эмоцианальную окраску твита, а слово \"food\" является достаточно безэмоциональным"
   ]
  },
  {
   "cell_type": "markdown",
   "metadata": {
    "id": "LGRJPqfWSesQ"
   },
   "source": [
    "Найдите какой-нибудь положительно окрашенный твитт, где TfidfVectorizer хорошо (полезно для определения окраски) выделяет важный токен, поясните пример.\n",
    "\n",
    "*Подсказка:* явно положительные твитты можно искать при помощи положительных слов (good, great, amazing и т. д.)"
   ]
  },
  {
   "cell_type": "code",
   "execution_count": 172,
   "metadata": {
    "colab": {
     "base_uri": "https://localhost:8080/",
     "height": 53
    },
    "id": "bRbQ2CHiSuJI",
    "outputId": "c4b34a7d-1076-4e1e-ad5c-9466fd2097c2"
   },
   "outputs": [
    {
     "data": {
      "text/html": [
       "<div>\n",
       "<style scoped>\n",
       "    .dataframe tbody tr th:only-of-type {\n",
       "        vertical-align: middle;\n",
       "    }\n",
       "\n",
       "    .dataframe tbody tr th {\n",
       "        vertical-align: top;\n",
       "    }\n",
       "\n",
       "    .dataframe thead th {\n",
       "        text-align: right;\n",
       "    }\n",
       "</style>\n",
       "<table border=\"1\" class=\"dataframe\">\n",
       "  <thead>\n",
       "    <tr style=\"text-align: right;\">\n",
       "      <th></th>\n",
       "      <th>UserName</th>\n",
       "      <th>ScreenName</th>\n",
       "      <th>Location</th>\n",
       "      <th>TweetAt</th>\n",
       "      <th>OriginalTweet</th>\n",
       "      <th>Sentiment</th>\n",
       "    </tr>\n",
       "  </thead>\n",
       "  <tbody>\n",
       "    <tr>\n",
       "      <th>20160</th>\n",
       "      <td>28380</td>\n",
       "      <td>73332</td>\n",
       "      <td>London/Dorking</td>\n",
       "      <td>26-03-2020</td>\n",
       "      <td>@caitlinmoran Brilliant, but how about showing...</td>\n",
       "      <td>1</td>\n",
       "    </tr>\n",
       "    <tr>\n",
       "      <th>5274</th>\n",
       "      <td>10212</td>\n",
       "      <td>55164</td>\n",
       "      <td>London, England</td>\n",
       "      <td>19-03-2020</td>\n",
       "      <td>So grateful to @POTAGELONDON today. Not only w...</td>\n",
       "      <td>1</td>\n",
       "    </tr>\n",
       "    <tr>\n",
       "      <th>3747</th>\n",
       "      <td>8344</td>\n",
       "      <td>53296</td>\n",
       "      <td>VA</td>\n",
       "      <td>18-03-2020</td>\n",
       "      <td>Sad sign of the times: Just before the alarm w...</td>\n",
       "      <td>1</td>\n",
       "    </tr>\n",
       "    <tr>\n",
       "      <th>19432</th>\n",
       "      <td>27458</td>\n",
       "      <td>72410</td>\n",
       "      <td>ADHS 67 Algonquin Civil 70</td>\n",
       "      <td>26-03-2020</td>\n",
       "      <td>Please be aware and give everyone their space ...</td>\n",
       "      <td>1</td>\n",
       "    </tr>\n",
       "    <tr>\n",
       "      <th>31953</th>\n",
       "      <td>43102</td>\n",
       "      <td>88054</td>\n",
       "      <td>Scotland, United Kingdom</td>\n",
       "      <td>12-04-2020</td>\n",
       "      <td>I understand and get the wonderful job the sup...</td>\n",
       "      <td>1</td>\n",
       "    </tr>\n",
       "    <tr>\n",
       "      <th>2587</th>\n",
       "      <td>6928</td>\n",
       "      <td>51880</td>\n",
       "      <td>UK</td>\n",
       "      <td>18-03-2020</td>\n",
       "      <td>Just what to say what a wonderful job @AldiUK ...</td>\n",
       "      <td>1</td>\n",
       "    </tr>\n",
       "    <tr>\n",
       "      <th>22910</th>\n",
       "      <td>31792</td>\n",
       "      <td>76744</td>\n",
       "      <td>United Kingdom</td>\n",
       "      <td>04-04-2020</td>\n",
       "      <td>amp are often most impacted by cirisis yet mos...</td>\n",
       "      <td>1</td>\n",
       "    </tr>\n",
       "    <tr>\n",
       "      <th>10014</th>\n",
       "      <td>15960</td>\n",
       "      <td>60912</td>\n",
       "      <td>Unknown</td>\n",
       "      <td>21-03-2020</td>\n",
       "      <td>With US grocery store shelves empty of TP Toil...</td>\n",
       "      <td>1</td>\n",
       "    </tr>\n",
       "    <tr>\n",
       "      <th>22786</th>\n",
       "      <td>31645</td>\n",
       "      <td>76597</td>\n",
       "      <td>Madison, WI, US, 53719</td>\n",
       "      <td>03-04-2020</td>\n",
       "      <td>Stickley furniture is built to withstand gener...</td>\n",
       "      <td>1</td>\n",
       "    </tr>\n",
       "    <tr>\n",
       "      <th>14975</th>\n",
       "      <td>22007</td>\n",
       "      <td>66959</td>\n",
       "      <td>Unknown</td>\n",
       "      <td>23-03-2020</td>\n",
       "      <td>. I spoke to local business owners hillside Av...</td>\n",
       "      <td>1</td>\n",
       "    </tr>\n",
       "    <tr>\n",
       "      <th>8194</th>\n",
       "      <td>13749</td>\n",
       "      <td>58701</td>\n",
       "      <td>Essex</td>\n",
       "      <td>20-03-2020</td>\n",
       "      <td>We're open as usual tomorrow. We will remain c...</td>\n",
       "      <td>1</td>\n",
       "    </tr>\n",
       "    <tr>\n",
       "      <th>20171</th>\n",
       "      <td>28393</td>\n",
       "      <td>73345</td>\n",
       "      <td>San Francisco</td>\n",
       "      <td>26-03-2020</td>\n",
       "      <td>@rafat @skift The future of #travel post #Coro...</td>\n",
       "      <td>1</td>\n",
       "    </tr>\n",
       "    <tr>\n",
       "      <th>9234</th>\n",
       "      <td>15004</td>\n",
       "      <td>59956</td>\n",
       "      <td>Living in the Moment</td>\n",
       "      <td>20-03-2020</td>\n",
       "      <td>Went to a local street market yesterday. No qu...</td>\n",
       "      <td>1</td>\n",
       "    </tr>\n",
       "    <tr>\n",
       "      <th>9618</th>\n",
       "      <td>15483</td>\n",
       "      <td>60435</td>\n",
       "      <td>Cornwall &amp; Devon, UK</td>\n",
       "      <td>20-03-2020</td>\n",
       "      <td>Forget filling your boot at the supermarket. S...</td>\n",
       "      <td>1</td>\n",
       "    </tr>\n",
       "    <tr>\n",
       "      <th>2256</th>\n",
       "      <td>6541</td>\n",
       "      <td>51493</td>\n",
       "      <td>Toronto, Ontario</td>\n",
       "      <td>18-03-2020</td>\n",
       "      <td>I'm trying to order food online for my older p...</td>\n",
       "      <td>1</td>\n",
       "    </tr>\n",
       "    <tr>\n",
       "      <th>3591</th>\n",
       "      <td>8165</td>\n",
       "      <td>53117</td>\n",
       "      <td>Los Angeles</td>\n",
       "      <td>18-03-2020</td>\n",
       "      <td>ItÃÂs the most wonderful time of the year to...</td>\n",
       "      <td>1</td>\n",
       "    </tr>\n",
       "    <tr>\n",
       "      <th>4227</th>\n",
       "      <td>8938</td>\n",
       "      <td>53890</td>\n",
       "      <td>West Michigan</td>\n",
       "      <td>18-03-2020</td>\n",
       "      <td>\"It's a wonderful thing to be able to help peo...</td>\n",
       "      <td>1</td>\n",
       "    </tr>\n",
       "  </tbody>\n",
       "</table>\n",
       "</div>"
      ],
      "text/plain": [
       "       UserName  ScreenName                     Location     TweetAt  \\\n",
       "20160     28380       73332               London/Dorking  26-03-2020   \n",
       "5274      10212       55164              London, England  19-03-2020   \n",
       "3747       8344       53296                           VA  18-03-2020   \n",
       "19432     27458       72410   ADHS 67 Algonquin Civil 70  26-03-2020   \n",
       "31953     43102       88054     Scotland, United Kingdom  12-04-2020   \n",
       "2587       6928       51880                           UK  18-03-2020   \n",
       "22910     31792       76744               United Kingdom  04-04-2020   \n",
       "10014     15960       60912                      Unknown  21-03-2020   \n",
       "22786     31645       76597       Madison, WI, US, 53719  03-04-2020   \n",
       "14975     22007       66959                      Unknown  23-03-2020   \n",
       "8194      13749       58701                        Essex  20-03-2020   \n",
       "20171     28393       73345                San Francisco  26-03-2020   \n",
       "9234      15004       59956         Living in the Moment  20-03-2020   \n",
       "9618      15483       60435         Cornwall & Devon, UK  20-03-2020   \n",
       "2256       6541       51493             Toronto, Ontario  18-03-2020   \n",
       "3591       8165       53117                  Los Angeles  18-03-2020   \n",
       "4227       8938       53890                West Michigan  18-03-2020   \n",
       "\n",
       "                                           OriginalTweet  Sentiment  \n",
       "20160  @caitlinmoran Brilliant, but how about showing...          1  \n",
       "5274   So grateful to @POTAGELONDON today. Not only w...          1  \n",
       "3747   Sad sign of the times: Just before the alarm w...          1  \n",
       "19432  Please be aware and give everyone their space ...          1  \n",
       "31953  I understand and get the wonderful job the sup...          1  \n",
       "2587   Just what to say what a wonderful job @AldiUK ...          1  \n",
       "22910  amp are often most impacted by cirisis yet mos...          1  \n",
       "10014  With US grocery store shelves empty of TP Toil...          1  \n",
       "22786  Stickley furniture is built to withstand gener...          1  \n",
       "14975  . I spoke to local business owners hillside Av...          1  \n",
       "8194   We're open as usual tomorrow. We will remain c...          1  \n",
       "20171  @rafat @skift The future of #travel post #Coro...          1  \n",
       "9234   Went to a local street market yesterday. No qu...          1  \n",
       "9618   Forget filling your boot at the supermarket. S...          1  \n",
       "2256   I'm trying to order food online for my older p...          1  \n",
       "3591   ItÃÂs the most wonderful time of the year to...          1  \n",
       "4227   \"It's a wonderful thing to be able to help peo...          1  "
      ]
     },
     "execution_count": 172,
     "metadata": {},
     "output_type": "execute_result"
    }
   ],
   "source": [
    "train[train['OriginalTweet'].apply(lambda x: 'wonderful' in x) & (train['Sentiment'] == 1)]"
   ]
  },
  {
   "cell_type": "code",
   "execution_count": 183,
   "metadata": {
    "id": "jSjbKPCWk87K"
   },
   "outputs": [
    {
     "name": "stdout",
     "output_type": "stream",
     "text": [
      "Самый популярный: ('fekking', 0.31376156537120725)\n",
      "Самый непопулярный: ('prices', 0.08136407772122227)\n"
     ]
    },
    {
     "data": {
      "text/plain": [
       "'I understand and get the wonderful job the supermarkets are doing right now, and its greatly appreciated too. But whats with the fekking price increases as people struggle! Prices creeping up and up. #supermarketbands #priceincrease #EasterSunday #COVID__19'"
      ]
     },
     "execution_count": 183,
     "metadata": {},
     "output_type": "execute_result"
    }
   ],
   "source": [
    "ind = 31953\n",
    "token_counter = sorted(list(zip(tv.get_feature_names_out(), *tv.transform([train.loc[ind]['OriginalTweet']]).toarray())), key=lambda word: word[1])\n",
    "print(f'Самый популярный: {token_counter[-1]}')\n",
    "for word in token_counter:\n",
    "    if word[1] != 0:\n",
    "        print(f'Самый непопулярный: {word}')\n",
    "        break\n",
    "train.loc[ind]['OriginalTweet']"
   ]
  },
  {
   "cell_type": "markdown",
   "metadata": {
    "id": "JTv9ST2_U6NA"
   },
   "source": [
    "**Ответ:** Эмоциональная окраска слова \"fekking\" действительно большая, а слово \"prices\" достаточно общеупотребимое"
   ]
  },
  {
   "cell_type": "markdown",
   "metadata": {
    "id": "JVEuZm8BHms6"
   },
   "source": [
    "## Задание 4 Обучение первых моделей (1 балл)"
   ]
  },
  {
   "cell_type": "markdown",
   "metadata": {
    "id": "JADkO3sfXdOG"
   },
   "source": [
    "Примените оба векторайзера для получения матриц с признаками текстов.  Выделите целевую переменную."
   ]
  },
  {
   "cell_type": "code",
   "execution_count": 186,
   "metadata": {
    "id": "DguoiXhCX2oN"
   },
   "outputs": [
    {
     "name": "stderr",
     "output_type": "stream",
     "text": [
      "C:\\ProgramData\\anaconda3\\Lib\\site-packages\\sklearn\\feature_extraction\\text.py:525: UserWarning: The parameter 'token_pattern' will not be used since 'tokenizer' is not None'\n",
      "  warnings.warn(\n"
     ]
    }
   ],
   "source": [
    "y_train = train['Sentiment']\n",
    "X_train = train.drop(columns = ['Sentiment'])\n",
    "\n",
    "y_test = test['Sentiment']\n",
    "X_test = test.drop(columns = ['Sentiment'])\n",
    "\n",
    "train_cv_vectorized = cv.fit_transform(X_train['OriginalTweet'])\n",
    "train_tv_vectorized = tv.fit_transform(X_train['OriginalTweet'])\n",
    "\n",
    "test_cv_vectorized = cv.transform(X_test['OriginalTweet'])\n",
    "test_tv_vectorized = tv.transform(X_test['OriginalTweet'])"
   ]
  },
  {
   "cell_type": "markdown",
   "metadata": {
    "id": "_FX1KSOfYSx4"
   },
   "source": [
    "Обучите логистическую регрессию на векторах из обоих векторайзеров. Посчитайте долю правильных ответов на обучающих и тестовых данных. Какой векторайзер показал лучший результат? Что можно сказать о моделях?"
   ]
  },
  {
   "cell_type": "code",
   "execution_count": 189,
   "metadata": {
    "id": "-Tb3eh8UXJ6v"
   },
   "outputs": [
    {
     "name": "stdout",
     "output_type": "stream",
     "text": [
      "Точность на TRAIN при CountVectoriser: 0.982913284920974\n",
      "Точность на TEST при CountVectoriser: 0.8659557504484752\n",
      "Точность на TRAIN при TfidfVectorizer: 0.8779154207603588\n",
      "Точность на TEST при TfidfVectorizer: 0.8290811241777954\n"
     ]
    }
   ],
   "source": [
    "from sklearn.linear_model import LogisticRegression\n",
    "from sklearn.metrics import accuracy_score\n",
    "\n",
    "lr_cv = LogisticRegression(max_iter=10000)\n",
    "lr_tv = LogisticRegression(max_iter=10000)\n",
    "\n",
    "lr_cv.fit(train_cv_vectorized, y_train)\n",
    "lr_tv.fit(train_tv_vectorized, y_train)\n",
    "\n",
    "print(f'Точность на TRAIN при CountVectoriser: {accuracy_score(y_train, lr_cv.predict(train_cv_vectorized))}')\n",
    "print(f'Точность на TEST при CountVectoriser: {accuracy_score(y_test, lr_cv.predict(test_cv_vectorized))}')\n",
    "print(f'Точность на TRAIN при TfidfVectorizer: {accuracy_score(y_train, lr_tv.predict(train_cv_vectorized))}')\n",
    "print(f'Точность на TEST при TfidfVectorizer: {accuracy_score(y_test, lr_tv.predict(test_cv_vectorized))}')"
   ]
  },
  {
   "cell_type": "markdown",
   "metadata": {
    "id": "8y_wO7rCmv7K"
   },
   "source": [
    "**Ответ:** CountVectoriser показал лучший результат, модели проявляют себя неплохо"
   ]
  },
  {
   "cell_type": "markdown",
   "metadata": {
    "id": "rSOR1i3mjrys"
   },
   "source": [
    "## Задание 5 Стемминг (0.5 балла)"
   ]
  },
  {
   "cell_type": "markdown",
   "metadata": {
    "id": "i6ONBWNPjuq-"
   },
   "source": [
    "Для уменьшения словаря можно использовать стемминг.\n",
    "\n",
    "Модифицируйте написанный токенайзер, добавив в него стемминг с использованием SnowballStemmer. Обучите Count- и Tfidf- векторайзеры. Как изменился размер словаря?"
   ]
  },
  {
   "cell_type": "code",
   "execution_count": 192,
   "metadata": {
    "id": "oVfA2-iMkQBb"
   },
   "outputs": [],
   "source": [
    "from nltk.stem.snowball import SnowballStemmer\n",
    "def custom_stem_tokenizer(text):\n",
    "    stemmer = SnowballStemmer(\"english\")\n",
    "    tweet_token = TweetTokenizer()\n",
    "    text = text.lower()\n",
    "    token_counter = Counter([stemmer.stem(word) for word in tweet_token.tokenize(text) if word not in punctuation and word not in stopwords.words(\"english\") and (len(word) != 1 or ord(word) < 128) and 'https://t.co' not in word])\n",
    "\n",
    "    return list(token_counter.keys())"
   ]
  },
  {
   "cell_type": "code",
   "execution_count": 193,
   "metadata": {
    "colab": {
     "base_uri": "https://localhost:8080/"
    },
    "id": "9QmrjYtqnlPd",
    "outputId": "cd91291d-9676-4611-9fc4-28afaed58963"
   },
   "outputs": [
    {
     "data": {
      "text/plain": [
       "['sampl', 'text', '@sample_text', '#sampletext', 'ad', 'word', 'check', 'stem']"
      ]
     },
     "execution_count": 193,
     "metadata": {},
     "output_type": "execute_result"
    }
   ],
   "source": [
    "custom_stem_tokenizer('This is sample text!!!! @Sample_text I, \\x92\\x92 https://t.co/sample  #sampletext adding more words to check stemming')"
   ]
  },
  {
   "cell_type": "code",
   "execution_count": 194,
   "metadata": {
    "colab": {
     "base_uri": "https://localhost:8080/"
    },
    "id": "zAvUTmaplzOS",
    "outputId": "566207fe-183b-4ed6-d333-f86f0cc9ae38"
   },
   "outputs": [
    {
     "name": "stderr",
     "output_type": "stream",
     "text": [
      "C:\\ProgramData\\anaconda3\\Lib\\site-packages\\sklearn\\feature_extraction\\text.py:525: UserWarning: The parameter 'token_pattern' will not be used since 'tokenizer' is not None'\n",
      "  warnings.warn(\n"
     ]
    },
    {
     "name": "stdout",
     "output_type": "stream",
     "text": [
      "36650\n"
     ]
    }
   ],
   "source": [
    "cv = CountVectorizer(tokenizer=custom_stem_tokenizer)\n",
    "cv.fit_transform(train['OriginalTweet'])\n",
    "\n",
    "print(len(cv.vocabulary_))"
   ]
  },
  {
   "cell_type": "markdown",
   "metadata": {
    "id": "Oyzs5TaAoHP6"
   },
   "source": [
    "**Ответ** Словарь стал меньше, так как стемминг объединяет почти одинаковые слова"
   ]
  },
  {
   "cell_type": "markdown",
   "metadata": {
    "id": "1OkncHI8oRmd"
   },
   "source": [
    "Обучите логистическую регрессию с использованием обоих векторайзеров. Изменилось ли качество? Есть ли смысл применять стемминг?"
   ]
  },
  {
   "cell_type": "code",
   "execution_count": 195,
   "metadata": {
    "id": "ykZJPphEoZ5W"
   },
   "outputs": [],
   "source": [
    "train_cv_stem = cv.fit_transform(X_train['OriginalTweet'])\n",
    "test_cv_stem = cv.transform(X_test['OriginalTweet'])"
   ]
  },
  {
   "cell_type": "code",
   "execution_count": 197,
   "metadata": {},
   "outputs": [
    {
     "name": "stdout",
     "output_type": "stream",
     "text": [
      "Точность на TRAIN при CountVectoriser + STEM: 0.968859461768475\n",
      "Точность на TEST при CountVectoriser + STEM: 0.8644608331672314\n"
     ]
    }
   ],
   "source": [
    "lr_cv_stem = LogisticRegression(max_iter=10000)\n",
    "lr_cv_stem.fit(train_cv_stem, y_train)\n",
    "print(f'Точность на TRAIN при CountVectoriser + STEM: {accuracy_score(y_train, lr_cv_stem.predict(train_cv_stem))}')\n",
    "print(f'Точность на TEST при CountVectoriser + STEM: {accuracy_score(y_test, lr_cv_stem.predict(test_cv_stem))}')"
   ]
  },
  {
   "cell_type": "markdown",
   "metadata": {
    "id": "bCRlrODro0h8"
   },
   "source": [
    "**Ответ:** Точность чуть-чуть упала, но скорость работы модели выросла, стемминг имеет смысл применять при большом объёме данных, когда нужно быстрее обучить модель"
   ]
  },
  {
   "cell_type": "markdown",
   "metadata": {
    "id": "hYWGQNEDqLC-"
   },
   "source": [
    "## Задание  6 Работа с частотами (1.5 балла)"
   ]
  },
  {
   "cell_type": "markdown",
   "metadata": {
    "id": "8Hq-tl5mqUSn"
   },
   "source": [
    "Еще один способ уменьшить количество признаков - это использовать параметры min_df и max_df при построении векторайзера  эти параметры помогают ограничить требуемую частоту встречаемости токена в документах.\n",
    "\n",
    "По умолчанию берутся все токены, которые встретились хотя бы один раз.\n",
    "\n"
   ]
  },
  {
   "cell_type": "markdown",
   "metadata": {
    "id": "m1SiD4DE3WZ2"
   },
   "source": [
    "Подберите max_df такой, что размер словаря будет 36651 (на 1 меньше, чем было). Почему параметр получился такой большой/маленький?"
   ]
  },
  {
   "cell_type": "code",
   "execution_count": 204,
   "metadata": {
    "colab": {
     "base_uri": "https://localhost:8080/"
    },
    "id": "o3YLb8PViExb",
    "outputId": "b6d67654-d232-4e11-a5ca-6f2145053e98"
   },
   "outputs": [
    {
     "name": "stdout",
     "output_type": "stream",
     "text": [
      "36649\n"
     ]
    }
   ],
   "source": [
    "cv_df = CountVectorizer(tokenizer=custom_stem_tokenizer, max_df=8000).fit(train['OriginalTweet'])\n",
    "print(len(cv_df.vocabulary_)) # у меня изначальный словарь на 2 меньше вашего, поэтому получится 36649"
   ]
  },
  {
   "cell_type": "markdown",
   "metadata": {
    "id": "UdZYoGZR4UsA"
   },
   "source": [
    "**Ответ:** Большой, потому что мы отрезали самый часто встречающийся"
   ]
  },
  {
   "cell_type": "markdown",
   "metadata": {
    "id": "_gRIUaB1u32f"
   },
   "source": [
    "Подберите min_df (используйте дефолтное значение max_df) в CountVectorizer таким образом, чтобы размер словаря был 3700 токенов (при использовании токенайзера со стеммингом), а качество осталось таким же, как и было. Что можно сказать о результатах?"
   ]
  },
  {
   "cell_type": "code",
   "execution_count": 209,
   "metadata": {
    "colab": {
     "base_uri": "https://localhost:8080/"
    },
    "id": "kSnMJkn9XmsT",
    "outputId": "e0d8eb21-e5d7-46b4-e1d1-4b1ae220e9a0"
   },
   "outputs": [
    {
     "name": "stdout",
     "output_type": "stream",
     "text": [
      "3700\n"
     ]
    }
   ],
   "source": [
    "cv_df = CountVectorizer(tokenizer=custom_stem_tokenizer, min_df=11).fit(train['OriginalTweet'])\n",
    "print(len(cv_df.vocabulary_)) # Здесь надо 3699"
   ]
  },
  {
   "cell_type": "code",
   "execution_count": 210,
   "metadata": {
    "id": "mvMDwpdfjm8Y"
   },
   "outputs": [],
   "source": [
    "train_cv_df_stem = cv_df.fit_transform(X_train['OriginalTweet'])\n",
    "test_cv_df_stem = cv_df.transform(X_test['OriginalTweet'])"
   ]
  },
  {
   "cell_type": "code",
   "execution_count": 211,
   "metadata": {},
   "outputs": [
    {
     "name": "stdout",
     "output_type": "stream",
     "text": [
      "Точность на TRAIN при CountVectoriser + STEM: 0.9250747543784708\n",
      "Точность на TEST при CountVectoriser + STEM: 0.8633645604943193\n"
     ]
    }
   ],
   "source": [
    "lr_cv_df_stem = LogisticRegression(max_iter=10000)\n",
    "lr_cv_df_stem.fit(train_cv_df_stem, y_train)\n",
    "print(f'Точность на TRAIN при CountVectoriser + STEM: {accuracy_score(y_train, lr_cv_df_stem.predict(train_cv_df_stem))}')\n",
    "print(f'Точность на TEST при CountVectoriser + STEM: {accuracy_score(y_test, lr_cv_df_stem.predict(test_cv_df_stem))}')"
   ]
  },
  {
   "cell_type": "markdown",
   "metadata": {
    "id": "3fGYpUIZx0fk"
   },
   "source": [
    "**Ответ:** Результаты стали хуже, но модель работает гораздо быстрее"
   ]
  },
  {
   "cell_type": "markdown",
   "metadata": {
    "id": "Gx_h_-inKbBl"
   },
   "source": [
    "В предыдущих заданиях признаки не скалировались. Отскалируйте данные (при словаре размера 3.7 тысяч, векторизованные CountVectorizer), обучите логистическую регрессию, посмотрите качество и выведите `berplot` содержащий по 10 токенов, с наибольшим по модулю положительными/отрицательными весами. Что можно сказать об этих токенах?"
   ]
  },
  {
   "cell_type": "code",
   "execution_count": 215,
   "metadata": {
    "id": "KBATXJX6LG9q"
   },
   "outputs": [
    {
     "name": "stdout",
     "output_type": "stream",
     "text": [
      "Точность на TRAIN при CountVectoriser + STEM: 0.9394275950448526\n",
      "Точность на TEST при CountVectoriser + STEM: 0.841837751644409\n"
     ]
    }
   ],
   "source": [
    "from sklearn.preprocessing import StandardScaler\n",
    "\n",
    "scaler = StandardScaler(with_mean=False)\n",
    "scaler.fit(train_cv_df_stem)\n",
    "\n",
    "train_scaled_stem = scaler.transform(train_scaled_stem)\n",
    "test_scaled_stem = scaler.transform(test_scaled_stem)\n",
    "\n",
    "lr_scaled_stem = LogisticRegression(max_iter=10000)\n",
    "lr_scaled_stem.fit(train_scaled_stem, y_train)\n",
    "print(f'Точность на TRAIN при CountVectoriser + STEM: {accuracy_score(y_train, lr_scaled_stem.predict(train_scaled_stem))}')\n",
    "print(f'Точность на TEST при CountVectoriser + STEM: {accuracy_score(y_test, lr_scaled_stem.predict(test_scaled_stem))}')"
   ]
  },
  {
   "cell_type": "markdown",
   "metadata": {
    "id": "ThcEfzY1LHET"
   },
   "source": [
    "**Ответ:** Результат ухудшился, а токены ниже вполне закономерно входят в ТОП-10, потому что несут в себе яркую эмоциональную окраску"
   ]
  },
  {
   "cell_type": "code",
   "execution_count": 234,
   "metadata": {},
   "outputs": [
    {
     "data": {
      "text/plain": [
       "<Axes: xlabel='word', ylabel='value'>"
      ]
     },
     "execution_count": 234,
     "metadata": {},
     "output_type": "execute_result"
    },
    {
     "data": {
      "image/png": "[encoded data removed]",
      "text/plain": [
       "<Figure size 640x480 with 1 Axes>"
      ]
     },
     "metadata": {},
     "output_type": "display_data"
    }
   ],
   "source": [
    "w = lr_scaled_stem.coef_.reshape(-1)\n",
    "df_wv = pd.DataFrame({\"word\": cv_df.get_feature_names_out(), 'value': abs(w)}).sort_values(by='value')\n",
    "sns.barplot(x='word', y='value', data=df_wv[-10:], hue='word')"
   ]
  },
  {
   "cell_type": "markdown",
   "metadata": {
    "id": "ktJVOdrIHq7B"
   },
   "source": [
    "## Задание 7 Другие признаки (1.5 балла)"
   ]
  },
  {
   "cell_type": "markdown",
   "metadata": {
    "id": "Yt3jRCZ2H0Og"
   },
   "source": [
    "Мы были сконцентрированы на работе с текстами твиттов и не использовали другие признаки - имена пользователя, дату и местоположение"
   ]
  },
  {
   "cell_type": "markdown",
   "metadata": {
    "id": "52wjewCCo_di"
   },
   "source": [
    "Изучите признаки UserName и ScreenName. полезны ли они? Если полезны, то закодируйте их, добавьте к матрице с отскалированными признаками, обучите логистическую регрессию, замерьте качество."
   ]
  },
  {
   "cell_type": "code",
   "execution_count": null,
   "metadata": {
    "id": "63thouYZptj6"
   },
   "outputs": [],
   "source": [
    "# -- YOUR CODE HERE --"
   ]
  },
  {
   "cell_type": "markdown",
   "metadata": {
    "id": "r8_qR-gnpT3a"
   },
   "source": [
    "**Ответ:** # -- YOUR ANSWER HERE --"
   ]
  },
  {
   "cell_type": "markdown",
   "metadata": {
    "id": "ythEcFSkt7y3"
   },
   "source": [
    "Изучите признак TweetAt в обучающей выборке: преобразуйте его к типу datetime и нарисуйте его гистограмму с разделением по цвету на оспнове целевой переменной. Полезен ли он? Если полезен, то закодируйте его, добавьте к матрице с отскалированными признаками, обучите логистическую регрессию, замерьте качество."
   ]
  },
  {
   "cell_type": "code",
   "execution_count": null,
   "metadata": {
    "id": "Lxb_k0JLirNv"
   },
   "outputs": [],
   "source": [
    "# -- YOUR CODE HERE --"
   ]
  },
  {
   "cell_type": "markdown",
   "metadata": {
    "id": "4IdLBdpQxM-G"
   },
   "source": [
    "**Ответ:** # -- YOUR ANSWER HERE --\n",
    "\n"
   ]
  },
  {
   "cell_type": "markdown",
   "metadata": {
    "id": "r2JtRPhNP6qx"
   },
   "source": [
    "Поработайте с признаком Location в обучающей выборке. Сколько уникальных значений?"
   ]
  },
  {
   "cell_type": "code",
   "execution_count": null,
   "metadata": {
    "id": "xYQZQ1FRNpoe"
   },
   "outputs": [],
   "source": [
    "# -- YOUR CODE HERE --"
   ]
  },
  {
   "cell_type": "markdown",
   "metadata": {
    "id": "6k4JwpRTQISa"
   },
   "source": [
    "Постройте гистограмму топ-10 по популярности местоположений (исключая Unknown)"
   ]
  },
  {
   "cell_type": "code",
   "execution_count": null,
   "metadata": {
    "id": "J91YkhegJ0mz"
   },
   "outputs": [],
   "source": [
    "# -- YOUR CODE HERE --"
   ]
  },
  {
   "cell_type": "markdown",
   "metadata": {
    "id": "ZOsv3lODTfYB"
   },
   "source": [
    "Видно, что многие местоположения включают в себя более точное название места, чем другие (Например, у некоторых стоит London, UK; а у некоторых просто UK или United Kingdom).\n",
    "\n",
    "Создайте новый признак WiderLocation, который содержит самое широкое местоположение (например, из London, UK должно получиться UK). Сколько уникальных категорий теперь? Постройте аналогичную гистограмму."
   ]
  },
  {
   "cell_type": "code",
   "execution_count": null,
   "metadata": {
    "id": "mSkow6acOMyD"
   },
   "outputs": [],
   "source": [
    "# -- YOUR CODE HERE --"
   ]
  },
  {
   "cell_type": "markdown",
   "metadata": {
    "id": "cgyWrD2eVfff"
   },
   "source": [
    "Закодируйте признак WiderLocation с помощью OHE таким образом, чтобы создались только столбцы для местоположений, которые встречаются более одного раза. Сколько таких значений?\n"
   ]
  },
  {
   "cell_type": "code",
   "execution_count": null,
   "metadata": {
    "id": "SeJBfBWgPvg_"
   },
   "outputs": [],
   "source": [
    "# -- YOUR CODE HERE --"
   ]
  },
  {
   "cell_type": "markdown",
   "metadata": {
    "id": "ZyMX5kZuimPK"
   },
   "source": [
    "Добавьте этот признак к матрице отскалированных текстовых признаков, обучите логистическую регрессию, замерьте качество. Как оно изменилось? Оказался ли признак полезным?\n",
    "\n",
    "\n",
    "*Подсказка:* используйте параметр `categories` в энкодере."
   ]
  },
  {
   "cell_type": "code",
   "execution_count": null,
   "metadata": {
    "id": "EO1jNPeeim7A"
   },
   "outputs": [],
   "source": [
    "# -- YOUR CODE HERE --"
   ]
  },
  {
   "cell_type": "markdown",
   "metadata": {
    "id": "7dHsGlDRYUQt"
   },
   "source": [
    "**Ответ:** # -- YOUR ANSWER HERE --"
   ]
  },
  {
   "cell_type": "markdown",
   "metadata": {
    "id": "IWn6h4W9eD3S"
   },
   "source": [
    "## Задание 8 Хорошее качество (Бонус 1 балл)"
   ]
  },
  {
   "cell_type": "markdown",
   "metadata": {
    "id": "-HDI0SU6eLgi"
   },
   "source": [
    "Добейтесь accuracy=0.9 на тестовой выборке (можно сменить токенайзер, векторайзер, модель и т.д.)"
   ]
  },
  {
   "cell_type": "code",
   "execution_count": null,
   "metadata": {
    "id": "k3WMbE8edhlW"
   },
   "outputs": [],
   "source": [
    "# -- YOUR CODE HERE --"
   ]
  }
 ],
 "metadata": {
  "colab": {
   "provenance": [],
   "toc_visible": true
  },
  "kernelspec": {
   "display_name": "Python 3 (ipykernel)",
   "language": "python",
   "name": "python3"
  },
  "language_info": {
   "codemirror_mode": {
    "name": "ipython",
    "version": 3
   },
   "file_extension": ".py",
   "mimetype": "text/x-python",
   "name": "python",
   "nbconvert_exporter": "python",
   "pygments_lexer": "ipython3",
   "version": "3.11.5"
  }
 },
 "nbformat": 4,
 "nbformat_minor": 1
}
